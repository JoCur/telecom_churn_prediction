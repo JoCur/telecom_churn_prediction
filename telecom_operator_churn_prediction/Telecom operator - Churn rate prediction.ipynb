{
 "cells": [
  {
   "cell_type": "markdown",
   "id": "d3344182",
   "metadata": {},
   "source": [
    "# Interconnect services - Telecom operator"
   ]
  },
  {
   "cell_type": "markdown",
   "id": "cd65d4b7",
   "metadata": {},
   "source": [
    "# Contents <a id='back'></a>\n",
    "\n",
    "* [Introduction](#intro)\n",
    "* [Stage 1.Exploratory Data Analysis & Data Preprocessing](#data_review)\n",
    "\n",
    "* [Stage 3. Work plan](#work_plan)\n"
   ]
  },
  {
   "cell_type": "markdown",
   "id": "f07bc24b",
   "metadata": {},
   "source": [
    "## Introduction <a id='intro'></a>\n",
    "\n",
    "\n",
    "The telecom operator Interconnect would like to be able to forecast their churn of clients. If it's discovered that a user is planning to leave, they will be offered promotional codes and special plan options. Interconnect's marketing team has collected some of their clientele's personal data, including information about their plans and contracts.\n",
    "\n",
    "\n",
    "### Interconnect's services\n",
    "\n",
    "Interconnect mainly provides two types of services:\n",
    "\n",
    "1. Landline communication. The telephone can be connected to several lines simultaneously.\n",
    "2. Internet. The network can be set up via a telephone line (DSL, *digital subscriber line*) or through a fiber optic cable.\n",
    "\n",
    "Some other services the company provides include:\n",
    "\n",
    "- Internet security: antivirus software (*DeviceProtection*) and a malicious website blocker (*OnlineSecurity*)\n",
    "- A dedicated technical support line (*TechSupport*)\n",
    "- Cloud file storage and data backup (*OnlineBackup*)\n",
    "- TV streaming (*StreamingTV*) and a movie directory (*StreamingMovies*)\n",
    "\n",
    "The clients can choose either a monthly payment or sign a 1- or 2-year contract. They can use various payment methods and receive an electronic invoice after a transaction.\n",
    "\n",
    "### Data Description\n",
    "\n",
    "The data consists of files obtained from different sources:\n",
    "\n",
    "- `contract.csv` — contract information\n",
    "- `personal.csv` — the client's personal data\n",
    "- `internet.csv` — information about Internet services\n",
    "- `phone.csv` — information about telephone services\n",
    "\n",
    "In each file, the column `customerID` contains a unique code assigned to each client.\n",
    "\n",
    "The contract information is valid as of February 1, 2020."
   ]
  },
  {
   "cell_type": "markdown",
   "id": "bc9895d2",
   "metadata": {},
   "source": [
    "## Stage 1. Data overview <a id='data_review'></a>\n",
    "\n",
    "Open the datasets thas Interconnect has collected and study them.\n",
    "\n",
    "As we move on, we will advance with data pre-processing as well, performing any fixes that may be appropriate.\n"
   ]
  },
  {
   "cell_type": "code",
   "execution_count": 1,
   "id": "6c83ac24",
   "metadata": {},
   "outputs": [
    {
     "name": "stdout",
     "output_type": "stream",
     "text": [
      "Requirement already satisfied: imblearn in c:\\users\\josef\\anaconda3\\lib\\site-packages (0.0)\n",
      "Requirement already satisfied: imbalanced-learn in c:\\users\\josef\\anaconda3\\lib\\site-packages (from imblearn) (0.9.1)\n",
      "Requirement already satisfied: scipy>=1.3.2 in c:\\users\\josef\\anaconda3\\lib\\site-packages (from imbalanced-learn->imblearn) (1.7.1)\n",
      "Requirement already satisfied: threadpoolctl>=2.0.0 in c:\\users\\josef\\anaconda3\\lib\\site-packages (from imbalanced-learn->imblearn) (2.2.0)\n",
      "Requirement already satisfied: numpy>=1.17.3 in c:\\users\\josef\\anaconda3\\lib\\site-packages (from imbalanced-learn->imblearn) (1.20.3)\n",
      "Requirement already satisfied: scikit-learn>=1.1.0 in c:\\users\\josef\\anaconda3\\lib\\site-packages (from imbalanced-learn->imblearn) (1.1.1)\n",
      "Requirement already satisfied: joblib>=1.0.0 in c:\\users\\josef\\anaconda3\\lib\\site-packages (from imbalanced-learn->imblearn) (1.1.0)\n",
      "Note: you may need to restart the kernel to use updated packages.\n"
     ]
    }
   ],
   "source": [
    "pip install imblearn"
   ]
  },
  {
   "cell_type": "code",
   "execution_count": 2,
   "id": "1e9ef463",
   "metadata": {},
   "outputs": [],
   "source": [
    "# Loading all the libraries\n",
    "\n",
    "import pandas as pd\n",
    "import numpy as np\n",
    "\n",
    "import datetime\n",
    "\n",
    "import re\n",
    "\n",
    "import seaborn as sns\n",
    "\n",
    "import matplotlib.pyplot as plt\n",
    "\n",
    "from sklearn.model_selection import train_test_split\n",
    "from sklearn.preprocessing import StandardScaler \n",
    "from sklearn.preprocessing import OrdinalEncoder \n",
    "\n",
    "from sklearn.metrics import roc_auc_score \n",
    "from sklearn.metrics import accuracy_score\n",
    "from sklearn.metrics import roc_curve\n",
    "from sklearn.utils import shuffle\n",
    "from sklearn.model_selection import cross_val_score\n",
    "\n",
    "from sklearn.dummy import DummyClassifier\n",
    "from sklearn.linear_model import LogisticRegression\n",
    "from sklearn.tree import DecisionTreeClassifier\n",
    "from sklearn.ensemble import RandomForestClassifier \n",
    "from sklearn.neighbors import KNeighborsClassifier\n",
    "import lightgbm as lgb\n",
    "import xgboost as xgb\n",
    "from sklearn.model_selection import RandomizedSearchCV, GridSearchCV\n",
    "\n",
    "from imblearn.over_sampling import SMOTE\n",
    "from imblearn.pipeline import Pipeline\n",
    "from sklearn.pipeline import make_pipeline\n",
    "from sklearn.compose import ColumnTransformer\n",
    "from imblearn.pipeline import Pipeline as imbpipeline"
   ]
  },
  {
   "cell_type": "code",
   "execution_count": 3,
   "id": "594695c2",
   "metadata": {},
   "outputs": [],
   "source": [
    "# Load the data files separate DataFrames\n",
    "\n",
    "#Contracts\n",
    "try:\n",
    "    ctt_df=pd.read_csv('c:/Users/josef/Practicum/Final Project 1/contract.csv')\n",
    "except:\n",
    "    ctt_df=pd.read_csv('/datasets/final_provider/contract.csv')\n",
    "\n",
    "    \n",
    "#Personal data\n",
    "try:\n",
    "    pers_df=pd.read_csv('c:/Users/josef/Practicum/Final Project 1/personal.csv')\n",
    "except:\n",
    "    pers_df=pd.read_csv('/datasets/final_provider/personal.csv')    \n",
    "    \n",
    "    \n",
    "#Internet services\n",
    "\n",
    "try:\n",
    "    int_df=pd.read_csv('c:/Users/josef/Practicum/Final Project 1/internet.csv')\n",
    "except:\n",
    "    int_df=pd.read_csv('/datasets/final_provider/internet.csv')    \n",
    "    \n",
    "\n",
    "#Telephone services\n",
    "try:\n",
    "    phone_df=pd.read_csv('c:/Users/josef/Practicum/Final Project 1/phone.csv')\n",
    "except:\n",
    "    phone_df=pd.read_csv('/datasets/final_provider/phone.csv')    \n",
    "    "
   ]
  },
  {
   "cell_type": "code",
   "execution_count": 4,
   "id": "45b8404b",
   "metadata": {},
   "outputs": [],
   "source": [
    "def explore_df (df):\n",
    "    print('Top five rows:')\n",
    "    display(df.head())\n",
    "    print('\\n')\n",
    "    \n",
    "    print('Five random samples:')\n",
    "    display(df.sample(5))\n",
    "    print('\\n')\n",
    "    \n",
    "    print('Last five rows:')\n",
    "    display(df.tail())\n",
    "    print('\\n')\n",
    "    \n",
    "    print('Info and dtypes:')\n",
    "    display(df.info())\n",
    "    print('\\n')\n",
    "    \n",
    "    print('Missing values %:')\n",
    "    display(df.isna().sum()/len(df)*100)\n",
    "    print('\\n')\n",
    "    \n",
    "    print('Duplicates:')\n",
    "    display(df.duplicated().sum())\n",
    "    print('\\n')"
   ]
  },
  {
   "cell_type": "markdown",
   "id": "d137897d",
   "metadata": {},
   "source": [
    "### Contracts "
   ]
  },
  {
   "cell_type": "code",
   "execution_count": 5,
   "id": "84f06b38",
   "metadata": {},
   "outputs": [
    {
     "name": "stdout",
     "output_type": "stream",
     "text": [
      "Top five rows:\n"
     ]
    },
    {
     "data": {
      "text/html": [
       "<div>\n",
       "<style scoped>\n",
       "    .dataframe tbody tr th:only-of-type {\n",
       "        vertical-align: middle;\n",
       "    }\n",
       "\n",
       "    .dataframe tbody tr th {\n",
       "        vertical-align: top;\n",
       "    }\n",
       "\n",
       "    .dataframe thead th {\n",
       "        text-align: right;\n",
       "    }\n",
       "</style>\n",
       "<table border=\"1\" class=\"dataframe\">\n",
       "  <thead>\n",
       "    <tr style=\"text-align: right;\">\n",
       "      <th></th>\n",
       "      <th>customerID</th>\n",
       "      <th>BeginDate</th>\n",
       "      <th>EndDate</th>\n",
       "      <th>Type</th>\n",
       "      <th>PaperlessBilling</th>\n",
       "      <th>PaymentMethod</th>\n",
       "      <th>MonthlyCharges</th>\n",
       "      <th>TotalCharges</th>\n",
       "    </tr>\n",
       "  </thead>\n",
       "  <tbody>\n",
       "    <tr>\n",
       "      <th>0</th>\n",
       "      <td>7590-VHVEG</td>\n",
       "      <td>2020-01-01</td>\n",
       "      <td>No</td>\n",
       "      <td>Month-to-month</td>\n",
       "      <td>Yes</td>\n",
       "      <td>Electronic check</td>\n",
       "      <td>29.85</td>\n",
       "      <td>29.85</td>\n",
       "    </tr>\n",
       "    <tr>\n",
       "      <th>1</th>\n",
       "      <td>5575-GNVDE</td>\n",
       "      <td>2017-04-01</td>\n",
       "      <td>No</td>\n",
       "      <td>One year</td>\n",
       "      <td>No</td>\n",
       "      <td>Mailed check</td>\n",
       "      <td>56.95</td>\n",
       "      <td>1889.5</td>\n",
       "    </tr>\n",
       "    <tr>\n",
       "      <th>2</th>\n",
       "      <td>3668-QPYBK</td>\n",
       "      <td>2019-10-01</td>\n",
       "      <td>2019-12-01 00:00:00</td>\n",
       "      <td>Month-to-month</td>\n",
       "      <td>Yes</td>\n",
       "      <td>Mailed check</td>\n",
       "      <td>53.85</td>\n",
       "      <td>108.15</td>\n",
       "    </tr>\n",
       "    <tr>\n",
       "      <th>3</th>\n",
       "      <td>7795-CFOCW</td>\n",
       "      <td>2016-05-01</td>\n",
       "      <td>No</td>\n",
       "      <td>One year</td>\n",
       "      <td>No</td>\n",
       "      <td>Bank transfer (automatic)</td>\n",
       "      <td>42.30</td>\n",
       "      <td>1840.75</td>\n",
       "    </tr>\n",
       "    <tr>\n",
       "      <th>4</th>\n",
       "      <td>9237-HQITU</td>\n",
       "      <td>2019-09-01</td>\n",
       "      <td>2019-11-01 00:00:00</td>\n",
       "      <td>Month-to-month</td>\n",
       "      <td>Yes</td>\n",
       "      <td>Electronic check</td>\n",
       "      <td>70.70</td>\n",
       "      <td>151.65</td>\n",
       "    </tr>\n",
       "  </tbody>\n",
       "</table>\n",
       "</div>"
      ],
      "text/plain": [
       "   customerID   BeginDate              EndDate            Type  \\\n",
       "0  7590-VHVEG  2020-01-01                   No  Month-to-month   \n",
       "1  5575-GNVDE  2017-04-01                   No        One year   \n",
       "2  3668-QPYBK  2019-10-01  2019-12-01 00:00:00  Month-to-month   \n",
       "3  7795-CFOCW  2016-05-01                   No        One year   \n",
       "4  9237-HQITU  2019-09-01  2019-11-01 00:00:00  Month-to-month   \n",
       "\n",
       "  PaperlessBilling              PaymentMethod  MonthlyCharges TotalCharges  \n",
       "0              Yes           Electronic check           29.85        29.85  \n",
       "1               No               Mailed check           56.95       1889.5  \n",
       "2              Yes               Mailed check           53.85       108.15  \n",
       "3               No  Bank transfer (automatic)           42.30      1840.75  \n",
       "4              Yes           Electronic check           70.70       151.65  "
      ]
     },
     "metadata": {},
     "output_type": "display_data"
    },
    {
     "name": "stdout",
     "output_type": "stream",
     "text": [
      "\n",
      "\n",
      "Five random samples:\n"
     ]
    },
    {
     "data": {
      "text/html": [
       "<div>\n",
       "<style scoped>\n",
       "    .dataframe tbody tr th:only-of-type {\n",
       "        vertical-align: middle;\n",
       "    }\n",
       "\n",
       "    .dataframe tbody tr th {\n",
       "        vertical-align: top;\n",
       "    }\n",
       "\n",
       "    .dataframe thead th {\n",
       "        text-align: right;\n",
       "    }\n",
       "</style>\n",
       "<table border=\"1\" class=\"dataframe\">\n",
       "  <thead>\n",
       "    <tr style=\"text-align: right;\">\n",
       "      <th></th>\n",
       "      <th>customerID</th>\n",
       "      <th>BeginDate</th>\n",
       "      <th>EndDate</th>\n",
       "      <th>Type</th>\n",
       "      <th>PaperlessBilling</th>\n",
       "      <th>PaymentMethod</th>\n",
       "      <th>MonthlyCharges</th>\n",
       "      <th>TotalCharges</th>\n",
       "    </tr>\n",
       "  </thead>\n",
       "  <tbody>\n",
       "    <tr>\n",
       "      <th>834</th>\n",
       "      <td>9231-ZJYAM</td>\n",
       "      <td>2019-07-01</td>\n",
       "      <td>2019-11-01 00:00:00</td>\n",
       "      <td>Month-to-month</td>\n",
       "      <td>Yes</td>\n",
       "      <td>Electronic check</td>\n",
       "      <td>78.85</td>\n",
       "      <td>292.8</td>\n",
       "    </tr>\n",
       "    <tr>\n",
       "      <th>3383</th>\n",
       "      <td>8185-UPYBR</td>\n",
       "      <td>2019-05-01</td>\n",
       "      <td>2019-11-01 00:00:00</td>\n",
       "      <td>Month-to-month</td>\n",
       "      <td>Yes</td>\n",
       "      <td>Electronic check</td>\n",
       "      <td>75.50</td>\n",
       "      <td>438</td>\n",
       "    </tr>\n",
       "    <tr>\n",
       "      <th>4510</th>\n",
       "      <td>6368-NWMCE</td>\n",
       "      <td>2016-12-01</td>\n",
       "      <td>No</td>\n",
       "      <td>Month-to-month</td>\n",
       "      <td>No</td>\n",
       "      <td>Credit card (automatic)</td>\n",
       "      <td>68.15</td>\n",
       "      <td>2656.3</td>\n",
       "    </tr>\n",
       "    <tr>\n",
       "      <th>6001</th>\n",
       "      <td>4367-NHWMM</td>\n",
       "      <td>2020-01-01</td>\n",
       "      <td>No</td>\n",
       "      <td>Month-to-month</td>\n",
       "      <td>Yes</td>\n",
       "      <td>Mailed check</td>\n",
       "      <td>24.90</td>\n",
       "      <td>24.9</td>\n",
       "    </tr>\n",
       "    <tr>\n",
       "      <th>5227</th>\n",
       "      <td>4060-LDNLU</td>\n",
       "      <td>2019-07-01</td>\n",
       "      <td>No</td>\n",
       "      <td>Month-to-month</td>\n",
       "      <td>No</td>\n",
       "      <td>Electronic check</td>\n",
       "      <td>96.20</td>\n",
       "      <td>639.7</td>\n",
       "    </tr>\n",
       "  </tbody>\n",
       "</table>\n",
       "</div>"
      ],
      "text/plain": [
       "      customerID   BeginDate              EndDate            Type  \\\n",
       "834   9231-ZJYAM  2019-07-01  2019-11-01 00:00:00  Month-to-month   \n",
       "3383  8185-UPYBR  2019-05-01  2019-11-01 00:00:00  Month-to-month   \n",
       "4510  6368-NWMCE  2016-12-01                   No  Month-to-month   \n",
       "6001  4367-NHWMM  2020-01-01                   No  Month-to-month   \n",
       "5227  4060-LDNLU  2019-07-01                   No  Month-to-month   \n",
       "\n",
       "     PaperlessBilling            PaymentMethod  MonthlyCharges TotalCharges  \n",
       "834               Yes         Electronic check           78.85        292.8  \n",
       "3383              Yes         Electronic check           75.50          438  \n",
       "4510               No  Credit card (automatic)           68.15       2656.3  \n",
       "6001              Yes             Mailed check           24.90         24.9  \n",
       "5227               No         Electronic check           96.20        639.7  "
      ]
     },
     "metadata": {},
     "output_type": "display_data"
    },
    {
     "name": "stdout",
     "output_type": "stream",
     "text": [
      "\n",
      "\n",
      "Last five rows:\n"
     ]
    },
    {
     "data": {
      "text/html": [
       "<div>\n",
       "<style scoped>\n",
       "    .dataframe tbody tr th:only-of-type {\n",
       "        vertical-align: middle;\n",
       "    }\n",
       "\n",
       "    .dataframe tbody tr th {\n",
       "        vertical-align: top;\n",
       "    }\n",
       "\n",
       "    .dataframe thead th {\n",
       "        text-align: right;\n",
       "    }\n",
       "</style>\n",
       "<table border=\"1\" class=\"dataframe\">\n",
       "  <thead>\n",
       "    <tr style=\"text-align: right;\">\n",
       "      <th></th>\n",
       "      <th>customerID</th>\n",
       "      <th>BeginDate</th>\n",
       "      <th>EndDate</th>\n",
       "      <th>Type</th>\n",
       "      <th>PaperlessBilling</th>\n",
       "      <th>PaymentMethod</th>\n",
       "      <th>MonthlyCharges</th>\n",
       "      <th>TotalCharges</th>\n",
       "    </tr>\n",
       "  </thead>\n",
       "  <tbody>\n",
       "    <tr>\n",
       "      <th>7038</th>\n",
       "      <td>6840-RESVB</td>\n",
       "      <td>2018-02-01</td>\n",
       "      <td>No</td>\n",
       "      <td>One year</td>\n",
       "      <td>Yes</td>\n",
       "      <td>Mailed check</td>\n",
       "      <td>84.80</td>\n",
       "      <td>1990.5</td>\n",
       "    </tr>\n",
       "    <tr>\n",
       "      <th>7039</th>\n",
       "      <td>2234-XADUH</td>\n",
       "      <td>2014-02-01</td>\n",
       "      <td>No</td>\n",
       "      <td>One year</td>\n",
       "      <td>Yes</td>\n",
       "      <td>Credit card (automatic)</td>\n",
       "      <td>103.20</td>\n",
       "      <td>7362.9</td>\n",
       "    </tr>\n",
       "    <tr>\n",
       "      <th>7040</th>\n",
       "      <td>4801-JZAZL</td>\n",
       "      <td>2019-03-01</td>\n",
       "      <td>No</td>\n",
       "      <td>Month-to-month</td>\n",
       "      <td>Yes</td>\n",
       "      <td>Electronic check</td>\n",
       "      <td>29.60</td>\n",
       "      <td>346.45</td>\n",
       "    </tr>\n",
       "    <tr>\n",
       "      <th>7041</th>\n",
       "      <td>8361-LTMKD</td>\n",
       "      <td>2019-07-01</td>\n",
       "      <td>2019-11-01 00:00:00</td>\n",
       "      <td>Month-to-month</td>\n",
       "      <td>Yes</td>\n",
       "      <td>Mailed check</td>\n",
       "      <td>74.40</td>\n",
       "      <td>306.6</td>\n",
       "    </tr>\n",
       "    <tr>\n",
       "      <th>7042</th>\n",
       "      <td>3186-AJIEK</td>\n",
       "      <td>2014-08-01</td>\n",
       "      <td>No</td>\n",
       "      <td>Two year</td>\n",
       "      <td>Yes</td>\n",
       "      <td>Bank transfer (automatic)</td>\n",
       "      <td>105.65</td>\n",
       "      <td>6844.5</td>\n",
       "    </tr>\n",
       "  </tbody>\n",
       "</table>\n",
       "</div>"
      ],
      "text/plain": [
       "      customerID   BeginDate              EndDate            Type  \\\n",
       "7038  6840-RESVB  2018-02-01                   No        One year   \n",
       "7039  2234-XADUH  2014-02-01                   No        One year   \n",
       "7040  4801-JZAZL  2019-03-01                   No  Month-to-month   \n",
       "7041  8361-LTMKD  2019-07-01  2019-11-01 00:00:00  Month-to-month   \n",
       "7042  3186-AJIEK  2014-08-01                   No        Two year   \n",
       "\n",
       "     PaperlessBilling              PaymentMethod  MonthlyCharges TotalCharges  \n",
       "7038              Yes               Mailed check           84.80       1990.5  \n",
       "7039              Yes    Credit card (automatic)          103.20       7362.9  \n",
       "7040              Yes           Electronic check           29.60       346.45  \n",
       "7041              Yes               Mailed check           74.40        306.6  \n",
       "7042              Yes  Bank transfer (automatic)          105.65       6844.5  "
      ]
     },
     "metadata": {},
     "output_type": "display_data"
    },
    {
     "name": "stdout",
     "output_type": "stream",
     "text": [
      "\n",
      "\n",
      "Info and dtypes:\n",
      "<class 'pandas.core.frame.DataFrame'>\n",
      "RangeIndex: 7043 entries, 0 to 7042\n",
      "Data columns (total 8 columns):\n",
      " #   Column            Non-Null Count  Dtype  \n",
      "---  ------            --------------  -----  \n",
      " 0   customerID        7043 non-null   object \n",
      " 1   BeginDate         7043 non-null   object \n",
      " 2   EndDate           7043 non-null   object \n",
      " 3   Type              7043 non-null   object \n",
      " 4   PaperlessBilling  7043 non-null   object \n",
      " 5   PaymentMethod     7043 non-null   object \n",
      " 6   MonthlyCharges    7043 non-null   float64\n",
      " 7   TotalCharges      7043 non-null   object \n",
      "dtypes: float64(1), object(7)\n",
      "memory usage: 440.3+ KB\n"
     ]
    },
    {
     "data": {
      "text/plain": [
       "None"
      ]
     },
     "metadata": {},
     "output_type": "display_data"
    },
    {
     "name": "stdout",
     "output_type": "stream",
     "text": [
      "\n",
      "\n",
      "Missing values %:\n"
     ]
    },
    {
     "data": {
      "text/plain": [
       "customerID          0.0\n",
       "BeginDate           0.0\n",
       "EndDate             0.0\n",
       "Type                0.0\n",
       "PaperlessBilling    0.0\n",
       "PaymentMethod       0.0\n",
       "MonthlyCharges      0.0\n",
       "TotalCharges        0.0\n",
       "dtype: float64"
      ]
     },
     "metadata": {},
     "output_type": "display_data"
    },
    {
     "name": "stdout",
     "output_type": "stream",
     "text": [
      "\n",
      "\n",
      "Duplicates:\n"
     ]
    },
    {
     "data": {
      "text/plain": [
       "0"
      ]
     },
     "metadata": {},
     "output_type": "display_data"
    },
    {
     "name": "stdout",
     "output_type": "stream",
     "text": [
      "\n",
      "\n"
     ]
    }
   ],
   "source": [
    "#Overview of contracts df\n",
    "explore_df(ctt_df)"
   ]
  },
  {
   "cell_type": "code",
   "execution_count": 6,
   "id": "6e98ef65",
   "metadata": {},
   "outputs": [
    {
     "data": {
      "text/plain": [
       "Month-to-month    3875\n",
       "Two year          1695\n",
       "One year          1473\n",
       "Name: Type, dtype: int64"
      ]
     },
     "execution_count": 6,
     "metadata": {},
     "output_type": "execute_result"
    }
   ],
   "source": [
    "#count values in type column\n",
    "ctt_df['Type'].value_counts()"
   ]
  },
  {
   "cell_type": "code",
   "execution_count": 7,
   "id": "a9cc59ac",
   "metadata": {},
   "outputs": [
    {
     "data": {
      "text/plain": [
       "Yes    4171\n",
       "No     2872\n",
       "Name: PaperlessBilling, dtype: int64"
      ]
     },
     "execution_count": 7,
     "metadata": {},
     "output_type": "execute_result"
    }
   ],
   "source": [
    "#count values in paperless billing column\n",
    "ctt_df['PaperlessBilling'].value_counts()"
   ]
  },
  {
   "cell_type": "code",
   "execution_count": 8,
   "id": "b87811f5",
   "metadata": {
    "scrolled": false
   },
   "outputs": [
    {
     "data": {
      "text/plain": [
       "Electronic check             2365\n",
       "Mailed check                 1612\n",
       "Bank transfer (automatic)    1544\n",
       "Credit card (automatic)      1522\n",
       "Name: PaymentMethod, dtype: int64"
      ]
     },
     "execution_count": 8,
     "metadata": {},
     "output_type": "execute_result"
    }
   ],
   "source": [
    "#count values in payment method column\n",
    "ctt_df['PaymentMethod'].value_counts()"
   ]
  },
  {
   "cell_type": "code",
   "execution_count": 9,
   "id": "d775beed",
   "metadata": {},
   "outputs": [
    {
     "data": {
      "text/plain": [
       "0"
      ]
     },
     "execution_count": 9,
     "metadata": {},
     "output_type": "execute_result"
    }
   ],
   "source": [
    "#check if customer IDs are repeated\n",
    "ctt_df['customerID'].nunique()-len(ctt_df)"
   ]
  },
  {
   "cell_type": "markdown",
   "id": "a87c72fa",
   "metadata": {},
   "source": [
    "Regarding contracts dataframe, we will perform the following tweaks/fixes:\n",
    "    \n",
    "- `contract.csv` — contract information\n",
    "    - Convert column headers to snake_case.\n",
    "    - Begin date: convert from object to datetime.\n",
    "    - Add ``churn`` column : 0 if end date is = \"No\" or 1 otherwise.\n",
    "    - End date: replace \"No\" by 2020-02-01 (the date at which the contracts are valid), and convert to datetime.\n",
    "  \n",
    "    - Type: Contract type is an ordinal categorical column, in the sense that it has an inherent order: the shortest the term, the more likely the customer is to leave soon. As our target value will be 1 if the customer is likely to be about to leave, and 0 otherwise, we will replace \"Month-to-Month\" by 3, \"One year\" by 2 and \"Two year\" by 1 to follow the same order provided that we're able to verify our hypothesis throughout the existing data.\n",
    "    - PaperlessBilling: replace \"Yes\" by 1 and \"No\" by 0\n",
    "    - Payment method: intuitively, we can guess that people who pay by automatic means is less likely to unsuscribe than the ones who send a check monthly. For such reason, we will add a new column named \"automatic\" set to 1 if payment method contains such word, and to 0 if it doesn't, and then remove it from payment method. Then we'll assess how each payment method correlates to churn.\n",
    "   \n",
    "    - Total charges: convert to float\n",
    "\n",
    "\n",
    "\n"
   ]
  },
  {
   "cell_type": "markdown",
   "id": "0ad4c3ab",
   "metadata": {},
   "source": [
    "#### Headers to snake_case "
   ]
  },
  {
   "cell_type": "code",
   "execution_count": 10,
   "id": "d4b0c3e0",
   "metadata": {},
   "outputs": [],
   "source": [
    "#function to rename columns\n",
    "def rename_col(df):\n",
    "    df= df.rename(columns={'customerID': 'customerId'})\n",
    "    col_replc= {}\n",
    "    \n",
    "    for col in df.columns:\n",
    "        col=col.replace('ID','Id')\n",
    "        new_col= '_'.join(re.sub( r\"([A-Z])\", r\" \\1\", col).split()).lower()\n",
    "        col_replc[col]=new_col\n",
    "        \n",
    "    df.rename(columns=col_replc,inplace=True)\n",
    "    return df\n"
   ]
  },
  {
   "cell_type": "code",
   "execution_count": 11,
   "id": "ecafacfd",
   "metadata": {},
   "outputs": [
    {
     "data": {
      "text/html": [
       "<div>\n",
       "<style scoped>\n",
       "    .dataframe tbody tr th:only-of-type {\n",
       "        vertical-align: middle;\n",
       "    }\n",
       "\n",
       "    .dataframe tbody tr th {\n",
       "        vertical-align: top;\n",
       "    }\n",
       "\n",
       "    .dataframe thead th {\n",
       "        text-align: right;\n",
       "    }\n",
       "</style>\n",
       "<table border=\"1\" class=\"dataframe\">\n",
       "  <thead>\n",
       "    <tr style=\"text-align: right;\">\n",
       "      <th></th>\n",
       "      <th>customer_id</th>\n",
       "      <th>begin_date</th>\n",
       "      <th>end_date</th>\n",
       "      <th>type</th>\n",
       "      <th>paperless_billing</th>\n",
       "      <th>payment_method</th>\n",
       "      <th>monthly_charges</th>\n",
       "      <th>total_charges</th>\n",
       "    </tr>\n",
       "  </thead>\n",
       "  <tbody>\n",
       "    <tr>\n",
       "      <th>0</th>\n",
       "      <td>7590-VHVEG</td>\n",
       "      <td>2020-01-01</td>\n",
       "      <td>No</td>\n",
       "      <td>Month-to-month</td>\n",
       "      <td>Yes</td>\n",
       "      <td>Electronic check</td>\n",
       "      <td>29.85</td>\n",
       "      <td>29.85</td>\n",
       "    </tr>\n",
       "    <tr>\n",
       "      <th>1</th>\n",
       "      <td>5575-GNVDE</td>\n",
       "      <td>2017-04-01</td>\n",
       "      <td>No</td>\n",
       "      <td>One year</td>\n",
       "      <td>No</td>\n",
       "      <td>Mailed check</td>\n",
       "      <td>56.95</td>\n",
       "      <td>1889.5</td>\n",
       "    </tr>\n",
       "    <tr>\n",
       "      <th>2</th>\n",
       "      <td>3668-QPYBK</td>\n",
       "      <td>2019-10-01</td>\n",
       "      <td>2019-12-01 00:00:00</td>\n",
       "      <td>Month-to-month</td>\n",
       "      <td>Yes</td>\n",
       "      <td>Mailed check</td>\n",
       "      <td>53.85</td>\n",
       "      <td>108.15</td>\n",
       "    </tr>\n",
       "    <tr>\n",
       "      <th>3</th>\n",
       "      <td>7795-CFOCW</td>\n",
       "      <td>2016-05-01</td>\n",
       "      <td>No</td>\n",
       "      <td>One year</td>\n",
       "      <td>No</td>\n",
       "      <td>Bank transfer (automatic)</td>\n",
       "      <td>42.30</td>\n",
       "      <td>1840.75</td>\n",
       "    </tr>\n",
       "    <tr>\n",
       "      <th>4</th>\n",
       "      <td>9237-HQITU</td>\n",
       "      <td>2019-09-01</td>\n",
       "      <td>2019-11-01 00:00:00</td>\n",
       "      <td>Month-to-month</td>\n",
       "      <td>Yes</td>\n",
       "      <td>Electronic check</td>\n",
       "      <td>70.70</td>\n",
       "      <td>151.65</td>\n",
       "    </tr>\n",
       "    <tr>\n",
       "      <th>...</th>\n",
       "      <td>...</td>\n",
       "      <td>...</td>\n",
       "      <td>...</td>\n",
       "      <td>...</td>\n",
       "      <td>...</td>\n",
       "      <td>...</td>\n",
       "      <td>...</td>\n",
       "      <td>...</td>\n",
       "    </tr>\n",
       "    <tr>\n",
       "      <th>7038</th>\n",
       "      <td>6840-RESVB</td>\n",
       "      <td>2018-02-01</td>\n",
       "      <td>No</td>\n",
       "      <td>One year</td>\n",
       "      <td>Yes</td>\n",
       "      <td>Mailed check</td>\n",
       "      <td>84.80</td>\n",
       "      <td>1990.5</td>\n",
       "    </tr>\n",
       "    <tr>\n",
       "      <th>7039</th>\n",
       "      <td>2234-XADUH</td>\n",
       "      <td>2014-02-01</td>\n",
       "      <td>No</td>\n",
       "      <td>One year</td>\n",
       "      <td>Yes</td>\n",
       "      <td>Credit card (automatic)</td>\n",
       "      <td>103.20</td>\n",
       "      <td>7362.9</td>\n",
       "    </tr>\n",
       "    <tr>\n",
       "      <th>7040</th>\n",
       "      <td>4801-JZAZL</td>\n",
       "      <td>2019-03-01</td>\n",
       "      <td>No</td>\n",
       "      <td>Month-to-month</td>\n",
       "      <td>Yes</td>\n",
       "      <td>Electronic check</td>\n",
       "      <td>29.60</td>\n",
       "      <td>346.45</td>\n",
       "    </tr>\n",
       "    <tr>\n",
       "      <th>7041</th>\n",
       "      <td>8361-LTMKD</td>\n",
       "      <td>2019-07-01</td>\n",
       "      <td>2019-11-01 00:00:00</td>\n",
       "      <td>Month-to-month</td>\n",
       "      <td>Yes</td>\n",
       "      <td>Mailed check</td>\n",
       "      <td>74.40</td>\n",
       "      <td>306.6</td>\n",
       "    </tr>\n",
       "    <tr>\n",
       "      <th>7042</th>\n",
       "      <td>3186-AJIEK</td>\n",
       "      <td>2014-08-01</td>\n",
       "      <td>No</td>\n",
       "      <td>Two year</td>\n",
       "      <td>Yes</td>\n",
       "      <td>Bank transfer (automatic)</td>\n",
       "      <td>105.65</td>\n",
       "      <td>6844.5</td>\n",
       "    </tr>\n",
       "  </tbody>\n",
       "</table>\n",
       "<p>7043 rows × 8 columns</p>\n",
       "</div>"
      ],
      "text/plain": [
       "     customer_id  begin_date             end_date            type  \\\n",
       "0     7590-VHVEG  2020-01-01                   No  Month-to-month   \n",
       "1     5575-GNVDE  2017-04-01                   No        One year   \n",
       "2     3668-QPYBK  2019-10-01  2019-12-01 00:00:00  Month-to-month   \n",
       "3     7795-CFOCW  2016-05-01                   No        One year   \n",
       "4     9237-HQITU  2019-09-01  2019-11-01 00:00:00  Month-to-month   \n",
       "...          ...         ...                  ...             ...   \n",
       "7038  6840-RESVB  2018-02-01                   No        One year   \n",
       "7039  2234-XADUH  2014-02-01                   No        One year   \n",
       "7040  4801-JZAZL  2019-03-01                   No  Month-to-month   \n",
       "7041  8361-LTMKD  2019-07-01  2019-11-01 00:00:00  Month-to-month   \n",
       "7042  3186-AJIEK  2014-08-01                   No        Two year   \n",
       "\n",
       "     paperless_billing             payment_method  monthly_charges  \\\n",
       "0                  Yes           Electronic check            29.85   \n",
       "1                   No               Mailed check            56.95   \n",
       "2                  Yes               Mailed check            53.85   \n",
       "3                   No  Bank transfer (automatic)            42.30   \n",
       "4                  Yes           Electronic check            70.70   \n",
       "...                ...                        ...              ...   \n",
       "7038               Yes               Mailed check            84.80   \n",
       "7039               Yes    Credit card (automatic)           103.20   \n",
       "7040               Yes           Electronic check            29.60   \n",
       "7041               Yes               Mailed check            74.40   \n",
       "7042               Yes  Bank transfer (automatic)           105.65   \n",
       "\n",
       "     total_charges  \n",
       "0            29.85  \n",
       "1           1889.5  \n",
       "2           108.15  \n",
       "3          1840.75  \n",
       "4           151.65  \n",
       "...            ...  \n",
       "7038        1990.5  \n",
       "7039        7362.9  \n",
       "7040        346.45  \n",
       "7041         306.6  \n",
       "7042        6844.5  \n",
       "\n",
       "[7043 rows x 8 columns]"
      ]
     },
     "execution_count": 11,
     "metadata": {},
     "output_type": "execute_result"
    }
   ],
   "source": [
    "#rename contract columns\n",
    "ctt_df=rename_col(ctt_df)\n",
    "ctt_df"
   ]
  },
  {
   "cell_type": "markdown",
   "id": "15cb0a19",
   "metadata": {},
   "source": [
    "#### Begin date to datetime"
   ]
  },
  {
   "cell_type": "code",
   "execution_count": 12,
   "id": "cc0cf96a",
   "metadata": {},
   "outputs": [
    {
     "name": "stdout",
     "output_type": "stream",
     "text": [
      "<class 'pandas.core.frame.DataFrame'>\n",
      "RangeIndex: 7043 entries, 0 to 7042\n",
      "Data columns (total 8 columns):\n",
      " #   Column             Non-Null Count  Dtype         \n",
      "---  ------             --------------  -----         \n",
      " 0   customer_id        7043 non-null   object        \n",
      " 1   begin_date         7043 non-null   datetime64[ns]\n",
      " 2   end_date           7043 non-null   object        \n",
      " 3   type               7043 non-null   object        \n",
      " 4   paperless_billing  7043 non-null   object        \n",
      " 5   payment_method     7043 non-null   object        \n",
      " 6   monthly_charges    7043 non-null   float64       \n",
      " 7   total_charges      7043 non-null   object        \n",
      "dtypes: datetime64[ns](1), float64(1), object(6)\n",
      "memory usage: 440.3+ KB\n"
     ]
    }
   ],
   "source": [
    "#convert begin date to datetime\n",
    "ctt_df['begin_date']= pd.to_datetime(ctt_df['begin_date'], format= '%Y-%m-%d') \n",
    "\n",
    "#check conversion\n",
    "ctt_df.info()"
   ]
  },
  {
   "cell_type": "markdown",
   "id": "abc4745f",
   "metadata": {},
   "source": [
    "#### Add churn column"
   ]
  },
  {
   "cell_type": "code",
   "execution_count": 13,
   "id": "44ed4b3d",
   "metadata": {},
   "outputs": [
    {
     "data": {
      "text/plain": [
       "No                     5174\n",
       "2019-11-01 00:00:00     485\n",
       "2019-12-01 00:00:00     466\n",
       "2020-01-01 00:00:00     460\n",
       "2019-10-01 00:00:00     458\n",
       "Name: end_date, dtype: int64"
      ]
     },
     "execution_count": 13,
     "metadata": {},
     "output_type": "execute_result"
    }
   ],
   "source": [
    "#check that end date is always prior to 2020-02-14\n",
    "ctt_df['end_date'].value_counts()"
   ]
  },
  {
   "cell_type": "code",
   "execution_count": 14,
   "id": "9c1c1e2d",
   "metadata": {},
   "outputs": [
    {
     "data": {
      "text/plain": [
       "0    5174\n",
       "1    1869\n",
       "Name: churn, dtype: int64"
      ]
     },
     "execution_count": 14,
     "metadata": {},
     "output_type": "execute_result"
    }
   ],
   "source": [
    "#add churn column (true if client has an end date, and false otherwise)\n",
    "ctt_df['churn'] = ctt_df['end_date'].apply(lambda x: 0 if x=='No' else 1)\n",
    "ctt_df['churn'].value_counts()"
   ]
  },
  {
   "cell_type": "markdown",
   "id": "e9078068",
   "metadata": {},
   "source": [
    "####  End date: replace \"No\" by 2020-02-01 (the date at which the contracts are valid), and convert to datetime"
   ]
  },
  {
   "cell_type": "code",
   "execution_count": 15,
   "id": "a9aa1ced",
   "metadata": {},
   "outputs": [
    {
     "data": {
      "text/plain": [
       "2020-02-01 00:00:00    5174\n",
       "2019-11-01 00:00:00     485\n",
       "2019-12-01 00:00:00     466\n",
       "2020-01-01 00:00:00     460\n",
       "2019-10-01 00:00:00     458\n",
       "Name: end_date, dtype: int64"
      ]
     },
     "execution_count": 15,
     "metadata": {},
     "output_type": "execute_result"
    }
   ],
   "source": [
    "#replace no by date at which the data is valid\n",
    "ctt_df['end_date']= ctt_df['end_date'].replace('No','2020-02-01 00:00:00')\n",
    "ctt_df['end_date'].value_counts()"
   ]
  },
  {
   "cell_type": "code",
   "execution_count": 16,
   "id": "1a13749f",
   "metadata": {},
   "outputs": [
    {
     "name": "stdout",
     "output_type": "stream",
     "text": [
      "<class 'pandas.core.frame.DataFrame'>\n",
      "RangeIndex: 7043 entries, 0 to 7042\n",
      "Data columns (total 9 columns):\n",
      " #   Column             Non-Null Count  Dtype         \n",
      "---  ------             --------------  -----         \n",
      " 0   customer_id        7043 non-null   object        \n",
      " 1   begin_date         7043 non-null   datetime64[ns]\n",
      " 2   end_date           7043 non-null   datetime64[ns]\n",
      " 3   type               7043 non-null   object        \n",
      " 4   paperless_billing  7043 non-null   object        \n",
      " 5   payment_method     7043 non-null   object        \n",
      " 6   monthly_charges    7043 non-null   float64       \n",
      " 7   total_charges      7043 non-null   object        \n",
      " 8   churn              7043 non-null   int64         \n",
      "dtypes: datetime64[ns](2), float64(1), int64(1), object(5)\n",
      "memory usage: 495.3+ KB\n"
     ]
    }
   ],
   "source": [
    "#convert to datetime\n",
    "ctt_df['end_date']= pd.to_datetime(ctt_df['end_date'], format= '%Y-%m-%d')\n",
    "\n",
    "#check conversion\n",
    "ctt_df.info()"
   ]
  },
  {
   "cell_type": "code",
   "execution_count": 17,
   "id": "a6cb129b",
   "metadata": {},
   "outputs": [
    {
     "data": {
      "text/html": [
       "<div>\n",
       "<style scoped>\n",
       "    .dataframe tbody tr th:only-of-type {\n",
       "        vertical-align: middle;\n",
       "    }\n",
       "\n",
       "    .dataframe tbody tr th {\n",
       "        vertical-align: top;\n",
       "    }\n",
       "\n",
       "    .dataframe thead th {\n",
       "        text-align: right;\n",
       "    }\n",
       "</style>\n",
       "<table border=\"1\" class=\"dataframe\">\n",
       "  <thead>\n",
       "    <tr style=\"text-align: right;\">\n",
       "      <th></th>\n",
       "      <th>index</th>\n",
       "      <th>type</th>\n",
       "    </tr>\n",
       "  </thead>\n",
       "  <tbody>\n",
       "    <tr>\n",
       "      <th>0</th>\n",
       "      <td>Month-to-month</td>\n",
       "      <td>3875</td>\n",
       "    </tr>\n",
       "    <tr>\n",
       "      <th>1</th>\n",
       "      <td>Two year</td>\n",
       "      <td>1695</td>\n",
       "    </tr>\n",
       "    <tr>\n",
       "      <th>2</th>\n",
       "      <td>One year</td>\n",
       "      <td>1473</td>\n",
       "    </tr>\n",
       "  </tbody>\n",
       "</table>\n",
       "</div>"
      ],
      "text/plain": [
       "            index  type\n",
       "0  Month-to-month  3875\n",
       "1        Two year  1695\n",
       "2        One year  1473"
      ]
     },
     "execution_count": 17,
     "metadata": {},
     "output_type": "execute_result"
    }
   ],
   "source": [
    "#create a df with count of users by plan\n",
    "clients_by_plan= pd.DataFrame(ctt_df['type'].value_counts())\n",
    "clients_by_plan.reset_index(inplace=True)\n",
    "clients_by_plan"
   ]
  },
  {
   "cell_type": "code",
   "execution_count": 18,
   "id": "f13eb5d3",
   "metadata": {},
   "outputs": [
    {
     "data": {
      "text/html": [
       "<div>\n",
       "<style scoped>\n",
       "    .dataframe tbody tr th:only-of-type {\n",
       "        vertical-align: middle;\n",
       "    }\n",
       "\n",
       "    .dataframe tbody tr th {\n",
       "        vertical-align: top;\n",
       "    }\n",
       "\n",
       "    .dataframe thead th {\n",
       "        text-align: right;\n",
       "    }\n",
       "</style>\n",
       "<table border=\"1\" class=\"dataframe\">\n",
       "  <thead>\n",
       "    <tr style=\"text-align: right;\">\n",
       "      <th></th>\n",
       "      <th>type</th>\n",
       "      <th>churn</th>\n",
       "      <th>churn_count</th>\n",
       "      <th>churn_%</th>\n",
       "      <th>churn_type</th>\n",
       "    </tr>\n",
       "  </thead>\n",
       "  <tbody>\n",
       "    <tr>\n",
       "      <th>0</th>\n",
       "      <td>Month-to-month</td>\n",
       "      <td>0</td>\n",
       "      <td>2220</td>\n",
       "      <td>57.29</td>\n",
       "      <td>Month-to-month 0</td>\n",
       "    </tr>\n",
       "    <tr>\n",
       "      <th>1</th>\n",
       "      <td>Month-to-month</td>\n",
       "      <td>1</td>\n",
       "      <td>1655</td>\n",
       "      <td>42.71</td>\n",
       "      <td>Month-to-month 1</td>\n",
       "    </tr>\n",
       "    <tr>\n",
       "      <th>2</th>\n",
       "      <td>One year</td>\n",
       "      <td>0</td>\n",
       "      <td>1307</td>\n",
       "      <td>88.73</td>\n",
       "      <td>One year 0</td>\n",
       "    </tr>\n",
       "    <tr>\n",
       "      <th>3</th>\n",
       "      <td>One year</td>\n",
       "      <td>1</td>\n",
       "      <td>166</td>\n",
       "      <td>11.27</td>\n",
       "      <td>One year 1</td>\n",
       "    </tr>\n",
       "    <tr>\n",
       "      <th>4</th>\n",
       "      <td>Two year</td>\n",
       "      <td>0</td>\n",
       "      <td>1647</td>\n",
       "      <td>97.17</td>\n",
       "      <td>Two year 0</td>\n",
       "    </tr>\n",
       "    <tr>\n",
       "      <th>5</th>\n",
       "      <td>Two year</td>\n",
       "      <td>1</td>\n",
       "      <td>48</td>\n",
       "      <td>2.83</td>\n",
       "      <td>Two year 1</td>\n",
       "    </tr>\n",
       "  </tbody>\n",
       "</table>\n",
       "</div>"
      ],
      "text/plain": [
       "             type  churn  churn_count  churn_%        churn_type\n",
       "0  Month-to-month      0         2220    57.29  Month-to-month 0\n",
       "1  Month-to-month      1         1655    42.71  Month-to-month 1\n",
       "2        One year      0         1307    88.73        One year 0\n",
       "3        One year      1          166    11.27        One year 1\n",
       "4        Two year      0         1647    97.17        Two year 0\n",
       "5        Two year      1           48     2.83        Two year 1"
      ]
     },
     "execution_count": 18,
     "metadata": {},
     "output_type": "execute_result"
    }
   ],
   "source": [
    "#create a df with % of people who churned/did not churn by plan type\n",
    "churn_by_type= pd.DataFrame(ctt_df.groupby('type')['churn'].value_counts())\n",
    "churn_by_type=churn_by_type.rename(columns={'churn':'churn_count'})\n",
    "churn_by_type.reset_index(inplace=True)\n",
    "churn_by_type['churn_%'] = churn_by_type.apply(lambda x: round(x['churn_count']/clients_by_plan[clients_by_plan['index']==x['type']]['type'].values[0]*100,2) , axis=1)\n",
    "churn_by_type ['churn_type']= churn_by_type.apply(lambda x: x['type'] + ' ' + str(x['churn']),axis=1)\n",
    "churn_by_type"
   ]
  },
  {
   "cell_type": "code",
   "execution_count": 19,
   "id": "30e873b8",
   "metadata": {},
   "outputs": [
    {
     "data": {
      "image/png": "[encoded data removed]",
      "text/plain": [
       "<Figure size 576x432 with 1 Axes>"
      ]
     },
     "metadata": {
      "needs_background": "light"
     },
     "output_type": "display_data"
    }
   ],
   "source": [
    "#plot % of clients who resigned the contract by plan type\n",
    "plt.figure(figsize=(8,6))\n",
    "sns.barplot(x='churn_type', y= 'churn_%', data= churn_by_type, palette=\"rocket\")\n",
    "\n",
    "plt.xticks(rotation=45)\n",
    "plt.title('% of customers who churned by contract type')\n",
    "plt.xlabel('Churn & plan type')\n",
    "plt.ylabel('% of users')\n",
    "plt.show()"
   ]
  },
  {
   "cell_type": "markdown",
   "id": "c9b5c125",
   "metadata": {},
   "source": [
    "In the chart above, we can see that the briefer the contract type is, the higher the percentage of users who churned. Hence, we can proceed to encode the values as planned."
   ]
  },
  {
   "cell_type": "code",
   "execution_count": 20,
   "id": "879223c4",
   "metadata": {},
   "outputs": [
    {
     "data": {
      "text/html": [
       "<div>\n",
       "<style scoped>\n",
       "    .dataframe tbody tr th:only-of-type {\n",
       "        vertical-align: middle;\n",
       "    }\n",
       "\n",
       "    .dataframe tbody tr th {\n",
       "        vertical-align: top;\n",
       "    }\n",
       "\n",
       "    .dataframe thead th {\n",
       "        text-align: right;\n",
       "    }\n",
       "</style>\n",
       "<table border=\"1\" class=\"dataframe\">\n",
       "  <thead>\n",
       "    <tr style=\"text-align: right;\">\n",
       "      <th></th>\n",
       "      <th>customer_id</th>\n",
       "      <th>begin_date</th>\n",
       "      <th>end_date</th>\n",
       "      <th>type</th>\n",
       "      <th>paperless_billing</th>\n",
       "      <th>payment_method</th>\n",
       "      <th>monthly_charges</th>\n",
       "      <th>total_charges</th>\n",
       "      <th>churn</th>\n",
       "    </tr>\n",
       "  </thead>\n",
       "  <tbody>\n",
       "    <tr>\n",
       "      <th>0</th>\n",
       "      <td>7590-VHVEG</td>\n",
       "      <td>2020-01-01</td>\n",
       "      <td>2020-02-01</td>\n",
       "      <td>3</td>\n",
       "      <td>Yes</td>\n",
       "      <td>Electronic check</td>\n",
       "      <td>29.85</td>\n",
       "      <td>29.85</td>\n",
       "      <td>0</td>\n",
       "    </tr>\n",
       "    <tr>\n",
       "      <th>1</th>\n",
       "      <td>5575-GNVDE</td>\n",
       "      <td>2017-04-01</td>\n",
       "      <td>2020-02-01</td>\n",
       "      <td>2</td>\n",
       "      <td>No</td>\n",
       "      <td>Mailed check</td>\n",
       "      <td>56.95</td>\n",
       "      <td>1889.5</td>\n",
       "      <td>0</td>\n",
       "    </tr>\n",
       "    <tr>\n",
       "      <th>2</th>\n",
       "      <td>3668-QPYBK</td>\n",
       "      <td>2019-10-01</td>\n",
       "      <td>2019-12-01</td>\n",
       "      <td>3</td>\n",
       "      <td>Yes</td>\n",
       "      <td>Mailed check</td>\n",
       "      <td>53.85</td>\n",
       "      <td>108.15</td>\n",
       "      <td>1</td>\n",
       "    </tr>\n",
       "    <tr>\n",
       "      <th>3</th>\n",
       "      <td>7795-CFOCW</td>\n",
       "      <td>2016-05-01</td>\n",
       "      <td>2020-02-01</td>\n",
       "      <td>2</td>\n",
       "      <td>No</td>\n",
       "      <td>Bank transfer (automatic)</td>\n",
       "      <td>42.30</td>\n",
       "      <td>1840.75</td>\n",
       "      <td>0</td>\n",
       "    </tr>\n",
       "    <tr>\n",
       "      <th>4</th>\n",
       "      <td>9237-HQITU</td>\n",
       "      <td>2019-09-01</td>\n",
       "      <td>2019-11-01</td>\n",
       "      <td>3</td>\n",
       "      <td>Yes</td>\n",
       "      <td>Electronic check</td>\n",
       "      <td>70.70</td>\n",
       "      <td>151.65</td>\n",
       "      <td>1</td>\n",
       "    </tr>\n",
       "  </tbody>\n",
       "</table>\n",
       "</div>"
      ],
      "text/plain": [
       "  customer_id begin_date   end_date  type paperless_billing  \\\n",
       "0  7590-VHVEG 2020-01-01 2020-02-01     3               Yes   \n",
       "1  5575-GNVDE 2017-04-01 2020-02-01     2                No   \n",
       "2  3668-QPYBK 2019-10-01 2019-12-01     3               Yes   \n",
       "3  7795-CFOCW 2016-05-01 2020-02-01     2                No   \n",
       "4  9237-HQITU 2019-09-01 2019-11-01     3               Yes   \n",
       "\n",
       "              payment_method  monthly_charges total_charges  churn  \n",
       "0           Electronic check            29.85         29.85      0  \n",
       "1               Mailed check            56.95        1889.5      0  \n",
       "2               Mailed check            53.85        108.15      1  \n",
       "3  Bank transfer (automatic)            42.30       1840.75      0  \n",
       "4           Electronic check            70.70        151.65      1  "
      ]
     },
     "execution_count": 20,
     "metadata": {},
     "output_type": "execute_result"
    }
   ],
   "source": [
    "#replace month-to-month by 3, one year by 2 and two year by 3\n",
    "ctt_df['type'] = ctt_df['type'].apply(lambda x: 3 if x=='Month-to-month' else (2 if x=='One year' else 1))\n",
    "ctt_df.head()"
   ]
  },
  {
   "cell_type": "markdown",
   "id": "16fb7bdc",
   "metadata": {},
   "source": [
    "#### PaperlessBilling: replace \"Yes\" by 1 and \"No\" by 0"
   ]
  },
  {
   "cell_type": "code",
   "execution_count": 21,
   "id": "19bfdc6f",
   "metadata": {},
   "outputs": [
    {
     "data": {
      "text/html": [
       "<div>\n",
       "<style scoped>\n",
       "    .dataframe tbody tr th:only-of-type {\n",
       "        vertical-align: middle;\n",
       "    }\n",
       "\n",
       "    .dataframe tbody tr th {\n",
       "        vertical-align: top;\n",
       "    }\n",
       "\n",
       "    .dataframe thead th {\n",
       "        text-align: right;\n",
       "    }\n",
       "</style>\n",
       "<table border=\"1\" class=\"dataframe\">\n",
       "  <thead>\n",
       "    <tr style=\"text-align: right;\">\n",
       "      <th></th>\n",
       "      <th>customer_id</th>\n",
       "      <th>begin_date</th>\n",
       "      <th>end_date</th>\n",
       "      <th>type</th>\n",
       "      <th>paperless_billing</th>\n",
       "      <th>payment_method</th>\n",
       "      <th>monthly_charges</th>\n",
       "      <th>total_charges</th>\n",
       "      <th>churn</th>\n",
       "    </tr>\n",
       "  </thead>\n",
       "  <tbody>\n",
       "    <tr>\n",
       "      <th>0</th>\n",
       "      <td>7590-VHVEG</td>\n",
       "      <td>2020-01-01</td>\n",
       "      <td>2020-02-01</td>\n",
       "      <td>3</td>\n",
       "      <td>1</td>\n",
       "      <td>Electronic check</td>\n",
       "      <td>29.85</td>\n",
       "      <td>29.85</td>\n",
       "      <td>0</td>\n",
       "    </tr>\n",
       "    <tr>\n",
       "      <th>1</th>\n",
       "      <td>5575-GNVDE</td>\n",
       "      <td>2017-04-01</td>\n",
       "      <td>2020-02-01</td>\n",
       "      <td>2</td>\n",
       "      <td>0</td>\n",
       "      <td>Mailed check</td>\n",
       "      <td>56.95</td>\n",
       "      <td>1889.5</td>\n",
       "      <td>0</td>\n",
       "    </tr>\n",
       "    <tr>\n",
       "      <th>2</th>\n",
       "      <td>3668-QPYBK</td>\n",
       "      <td>2019-10-01</td>\n",
       "      <td>2019-12-01</td>\n",
       "      <td>3</td>\n",
       "      <td>1</td>\n",
       "      <td>Mailed check</td>\n",
       "      <td>53.85</td>\n",
       "      <td>108.15</td>\n",
       "      <td>1</td>\n",
       "    </tr>\n",
       "    <tr>\n",
       "      <th>3</th>\n",
       "      <td>7795-CFOCW</td>\n",
       "      <td>2016-05-01</td>\n",
       "      <td>2020-02-01</td>\n",
       "      <td>2</td>\n",
       "      <td>0</td>\n",
       "      <td>Bank transfer (automatic)</td>\n",
       "      <td>42.30</td>\n",
       "      <td>1840.75</td>\n",
       "      <td>0</td>\n",
       "    </tr>\n",
       "    <tr>\n",
       "      <th>4</th>\n",
       "      <td>9237-HQITU</td>\n",
       "      <td>2019-09-01</td>\n",
       "      <td>2019-11-01</td>\n",
       "      <td>3</td>\n",
       "      <td>1</td>\n",
       "      <td>Electronic check</td>\n",
       "      <td>70.70</td>\n",
       "      <td>151.65</td>\n",
       "      <td>1</td>\n",
       "    </tr>\n",
       "  </tbody>\n",
       "</table>\n",
       "</div>"
      ],
      "text/plain": [
       "  customer_id begin_date   end_date  type  paperless_billing  \\\n",
       "0  7590-VHVEG 2020-01-01 2020-02-01     3                  1   \n",
       "1  5575-GNVDE 2017-04-01 2020-02-01     2                  0   \n",
       "2  3668-QPYBK 2019-10-01 2019-12-01     3                  1   \n",
       "3  7795-CFOCW 2016-05-01 2020-02-01     2                  0   \n",
       "4  9237-HQITU 2019-09-01 2019-11-01     3                  1   \n",
       "\n",
       "              payment_method  monthly_charges total_charges  churn  \n",
       "0           Electronic check            29.85         29.85      0  \n",
       "1               Mailed check            56.95        1889.5      0  \n",
       "2               Mailed check            53.85        108.15      1  \n",
       "3  Bank transfer (automatic)            42.30       1840.75      0  \n",
       "4           Electronic check            70.70        151.65      1  "
      ]
     },
     "execution_count": 21,
     "metadata": {},
     "output_type": "execute_result"
    }
   ],
   "source": [
    "#change paperless billing to binary\n",
    "ctt_df['paperless_billing']=ctt_df['paperless_billing'].apply(lambda x: 1 if x=='Yes' else 0)\n",
    "ctt_df.head()"
   ]
  },
  {
   "cell_type": "code",
   "execution_count": 22,
   "id": "8f3e77ff",
   "metadata": {},
   "outputs": [
    {
     "data": {
      "text/html": [
       "<div>\n",
       "<style scoped>\n",
       "    .dataframe tbody tr th:only-of-type {\n",
       "        vertical-align: middle;\n",
       "    }\n",
       "\n",
       "    .dataframe tbody tr th {\n",
       "        vertical-align: top;\n",
       "    }\n",
       "\n",
       "    .dataframe thead th {\n",
       "        text-align: right;\n",
       "    }\n",
       "</style>\n",
       "<table border=\"1\" class=\"dataframe\">\n",
       "  <thead>\n",
       "    <tr style=\"text-align: right;\">\n",
       "      <th></th>\n",
       "      <th>index</th>\n",
       "      <th>type</th>\n",
       "    </tr>\n",
       "  </thead>\n",
       "  <tbody>\n",
       "    <tr>\n",
       "      <th>0</th>\n",
       "      <td>3</td>\n",
       "      <td>3875</td>\n",
       "    </tr>\n",
       "    <tr>\n",
       "      <th>1</th>\n",
       "      <td>1</td>\n",
       "      <td>1695</td>\n",
       "    </tr>\n",
       "    <tr>\n",
       "      <th>2</th>\n",
       "      <td>2</td>\n",
       "      <td>1473</td>\n",
       "    </tr>\n",
       "  </tbody>\n",
       "</table>\n",
       "</div>"
      ],
      "text/plain": [
       "   index  type\n",
       "0      3  3875\n",
       "1      1  1695\n",
       "2      2  1473"
      ]
     },
     "execution_count": 22,
     "metadata": {},
     "output_type": "execute_result"
    }
   ],
   "source": [
    "#create a df with count of users by plan\n",
    "clients_by_plan= pd.DataFrame(ctt_df['type'].value_counts())\n",
    "clients_by_plan.reset_index(inplace=True)\n",
    "clients_by_plan"
   ]
  },
  {
   "cell_type": "markdown",
   "id": "f2e835bb",
   "metadata": {},
   "source": [
    "#### Add column specifying if the payment method is automatic or not"
   ]
  },
  {
   "cell_type": "code",
   "execution_count": 23,
   "id": "907e79a8",
   "metadata": {},
   "outputs": [
    {
     "data": {
      "text/html": [
       "<div>\n",
       "<style scoped>\n",
       "    .dataframe tbody tr th:only-of-type {\n",
       "        vertical-align: middle;\n",
       "    }\n",
       "\n",
       "    .dataframe tbody tr th {\n",
       "        vertical-align: top;\n",
       "    }\n",
       "\n",
       "    .dataframe thead th {\n",
       "        text-align: right;\n",
       "    }\n",
       "</style>\n",
       "<table border=\"1\" class=\"dataframe\">\n",
       "  <thead>\n",
       "    <tr style=\"text-align: right;\">\n",
       "      <th></th>\n",
       "      <th>customer_id</th>\n",
       "      <th>begin_date</th>\n",
       "      <th>end_date</th>\n",
       "      <th>type</th>\n",
       "      <th>paperless_billing</th>\n",
       "      <th>payment_method</th>\n",
       "      <th>monthly_charges</th>\n",
       "      <th>total_charges</th>\n",
       "      <th>churn</th>\n",
       "      <th>automatic_payment</th>\n",
       "    </tr>\n",
       "  </thead>\n",
       "  <tbody>\n",
       "    <tr>\n",
       "      <th>1074</th>\n",
       "      <td>2111-DWYHN</td>\n",
       "      <td>2020-01-01</td>\n",
       "      <td>2020-02-01</td>\n",
       "      <td>3</td>\n",
       "      <td>0</td>\n",
       "      <td>Mailed check</td>\n",
       "      <td>21.1</td>\n",
       "      <td>21.1</td>\n",
       "      <td>0</td>\n",
       "      <td>0</td>\n",
       "    </tr>\n",
       "    <tr>\n",
       "      <th>2342</th>\n",
       "      <td>1552-AAGRX</td>\n",
       "      <td>2017-08-01</td>\n",
       "      <td>2020-02-01</td>\n",
       "      <td>3</td>\n",
       "      <td>0</td>\n",
       "      <td>Bank transfer (automatic)</td>\n",
       "      <td>106.4</td>\n",
       "      <td>3211.9</td>\n",
       "      <td>0</td>\n",
       "      <td>1</td>\n",
       "    </tr>\n",
       "    <tr>\n",
       "      <th>6263</th>\n",
       "      <td>8409-WQJUX</td>\n",
       "      <td>2018-01-01</td>\n",
       "      <td>2020-02-01</td>\n",
       "      <td>2</td>\n",
       "      <td>0</td>\n",
       "      <td>Electronic check</td>\n",
       "      <td>54.2</td>\n",
       "      <td>1423.15</td>\n",
       "      <td>0</td>\n",
       "      <td>0</td>\n",
       "    </tr>\n",
       "    <tr>\n",
       "      <th>4553</th>\n",
       "      <td>5914-XRFQB</td>\n",
       "      <td>2014-02-01</td>\n",
       "      <td>2020-02-01</td>\n",
       "      <td>1</td>\n",
       "      <td>1</td>\n",
       "      <td>Bank transfer (automatic)</td>\n",
       "      <td>115.8</td>\n",
       "      <td>8424.9</td>\n",
       "      <td>0</td>\n",
       "      <td>1</td>\n",
       "    </tr>\n",
       "    <tr>\n",
       "      <th>5650</th>\n",
       "      <td>6047-SUHPR</td>\n",
       "      <td>2016-11-01</td>\n",
       "      <td>2020-02-01</td>\n",
       "      <td>2</td>\n",
       "      <td>0</td>\n",
       "      <td>Electronic check</td>\n",
       "      <td>59.8</td>\n",
       "      <td>2343.85</td>\n",
       "      <td>0</td>\n",
       "      <td>0</td>\n",
       "    </tr>\n",
       "  </tbody>\n",
       "</table>\n",
       "</div>"
      ],
      "text/plain": [
       "     customer_id begin_date   end_date  type  paperless_billing  \\\n",
       "1074  2111-DWYHN 2020-01-01 2020-02-01     3                  0   \n",
       "2342  1552-AAGRX 2017-08-01 2020-02-01     3                  0   \n",
       "6263  8409-WQJUX 2018-01-01 2020-02-01     2                  0   \n",
       "4553  5914-XRFQB 2014-02-01 2020-02-01     1                  1   \n",
       "5650  6047-SUHPR 2016-11-01 2020-02-01     2                  0   \n",
       "\n",
       "                 payment_method  monthly_charges total_charges  churn  \\\n",
       "1074               Mailed check             21.1          21.1      0   \n",
       "2342  Bank transfer (automatic)            106.4        3211.9      0   \n",
       "6263           Electronic check             54.2       1423.15      0   \n",
       "4553  Bank transfer (automatic)            115.8        8424.9      0   \n",
       "5650           Electronic check             59.8       2343.85      0   \n",
       "\n",
       "      automatic_payment  \n",
       "1074                  0  \n",
       "2342                  1  \n",
       "6263                  0  \n",
       "4553                  1  \n",
       "5650                  0  "
      ]
     },
     "execution_count": 23,
     "metadata": {},
     "output_type": "execute_result"
    }
   ],
   "source": [
    "#add automatic_payment column\n",
    "ctt_df['automatic_payment'] = ctt_df['payment_method'].apply(lambda x: 1 if 'automatic' in x else 0)\n",
    "ctt_df.sample(5)"
   ]
  },
  {
   "cell_type": "markdown",
   "id": "d3d659cb",
   "metadata": {},
   "source": [
    "#### Remove the automatic condition specification from payment method and study the churn distribution by each of them"
   ]
  },
  {
   "cell_type": "code",
   "execution_count": 24,
   "id": "676843b1",
   "metadata": {},
   "outputs": [
    {
     "data": {
      "text/html": [
       "<div>\n",
       "<style scoped>\n",
       "    .dataframe tbody tr th:only-of-type {\n",
       "        vertical-align: middle;\n",
       "    }\n",
       "\n",
       "    .dataframe tbody tr th {\n",
       "        vertical-align: top;\n",
       "    }\n",
       "\n",
       "    .dataframe thead th {\n",
       "        text-align: right;\n",
       "    }\n",
       "</style>\n",
       "<table border=\"1\" class=\"dataframe\">\n",
       "  <thead>\n",
       "    <tr style=\"text-align: right;\">\n",
       "      <th></th>\n",
       "      <th>customer_id</th>\n",
       "      <th>begin_date</th>\n",
       "      <th>end_date</th>\n",
       "      <th>type</th>\n",
       "      <th>paperless_billing</th>\n",
       "      <th>payment_method</th>\n",
       "      <th>monthly_charges</th>\n",
       "      <th>total_charges</th>\n",
       "      <th>churn</th>\n",
       "      <th>automatic_payment</th>\n",
       "    </tr>\n",
       "  </thead>\n",
       "  <tbody>\n",
       "    <tr>\n",
       "      <th>0</th>\n",
       "      <td>7590-VHVEG</td>\n",
       "      <td>2020-01-01</td>\n",
       "      <td>2020-02-01</td>\n",
       "      <td>3</td>\n",
       "      <td>1</td>\n",
       "      <td>Electronic check</td>\n",
       "      <td>29.85</td>\n",
       "      <td>29.85</td>\n",
       "      <td>0</td>\n",
       "      <td>0</td>\n",
       "    </tr>\n",
       "    <tr>\n",
       "      <th>1</th>\n",
       "      <td>5575-GNVDE</td>\n",
       "      <td>2017-04-01</td>\n",
       "      <td>2020-02-01</td>\n",
       "      <td>2</td>\n",
       "      <td>0</td>\n",
       "      <td>Mailed check</td>\n",
       "      <td>56.95</td>\n",
       "      <td>1889.5</td>\n",
       "      <td>0</td>\n",
       "      <td>0</td>\n",
       "    </tr>\n",
       "    <tr>\n",
       "      <th>2</th>\n",
       "      <td>3668-QPYBK</td>\n",
       "      <td>2019-10-01</td>\n",
       "      <td>2019-12-01</td>\n",
       "      <td>3</td>\n",
       "      <td>1</td>\n",
       "      <td>Mailed check</td>\n",
       "      <td>53.85</td>\n",
       "      <td>108.15</td>\n",
       "      <td>1</td>\n",
       "      <td>0</td>\n",
       "    </tr>\n",
       "    <tr>\n",
       "      <th>3</th>\n",
       "      <td>7795-CFOCW</td>\n",
       "      <td>2016-05-01</td>\n",
       "      <td>2020-02-01</td>\n",
       "      <td>2</td>\n",
       "      <td>0</td>\n",
       "      <td>Bank transfer</td>\n",
       "      <td>42.30</td>\n",
       "      <td>1840.75</td>\n",
       "      <td>0</td>\n",
       "      <td>1</td>\n",
       "    </tr>\n",
       "    <tr>\n",
       "      <th>4</th>\n",
       "      <td>9237-HQITU</td>\n",
       "      <td>2019-09-01</td>\n",
       "      <td>2019-11-01</td>\n",
       "      <td>3</td>\n",
       "      <td>1</td>\n",
       "      <td>Electronic check</td>\n",
       "      <td>70.70</td>\n",
       "      <td>151.65</td>\n",
       "      <td>1</td>\n",
       "      <td>0</td>\n",
       "    </tr>\n",
       "  </tbody>\n",
       "</table>\n",
       "</div>"
      ],
      "text/plain": [
       "  customer_id begin_date   end_date  type  paperless_billing  \\\n",
       "0  7590-VHVEG 2020-01-01 2020-02-01     3                  1   \n",
       "1  5575-GNVDE 2017-04-01 2020-02-01     2                  0   \n",
       "2  3668-QPYBK 2019-10-01 2019-12-01     3                  1   \n",
       "3  7795-CFOCW 2016-05-01 2020-02-01     2                  0   \n",
       "4  9237-HQITU 2019-09-01 2019-11-01     3                  1   \n",
       "\n",
       "     payment_method  monthly_charges total_charges  churn  automatic_payment  \n",
       "0  Electronic check            29.85         29.85      0                  0  \n",
       "1      Mailed check            56.95        1889.5      0                  0  \n",
       "2      Mailed check            53.85        108.15      1                  0  \n",
       "3    Bank transfer             42.30       1840.75      0                  1  \n",
       "4  Electronic check            70.70        151.65      1                  0  "
      ]
     },
     "execution_count": 24,
     "metadata": {},
     "output_type": "execute_result"
    }
   ],
   "source": [
    "#remove the automatic description from payment method\n",
    "ctt_df['payment_method']= ctt_df['payment_method'].apply(lambda x:  re.sub(\"[\\(\\[].*?[\\)\\]]\", \"\", x))\n",
    "ctt_df.head()"
   ]
  },
  {
   "cell_type": "markdown",
   "id": "38b6d9bf",
   "metadata": {},
   "source": [
    "#### Analyze distribution of clients who churned by payment method"
   ]
  },
  {
   "cell_type": "code",
   "execution_count": 25,
   "id": "7793168d",
   "metadata": {},
   "outputs": [
    {
     "data": {
      "text/html": [
       "<div>\n",
       "<style scoped>\n",
       "    .dataframe tbody tr th:only-of-type {\n",
       "        vertical-align: middle;\n",
       "    }\n",
       "\n",
       "    .dataframe tbody tr th {\n",
       "        vertical-align: top;\n",
       "    }\n",
       "\n",
       "    .dataframe thead th {\n",
       "        text-align: right;\n",
       "    }\n",
       "</style>\n",
       "<table border=\"1\" class=\"dataframe\">\n",
       "  <thead>\n",
       "    <tr style=\"text-align: right;\">\n",
       "      <th></th>\n",
       "      <th>index</th>\n",
       "      <th>payment_method</th>\n",
       "    </tr>\n",
       "  </thead>\n",
       "  <tbody>\n",
       "    <tr>\n",
       "      <th>0</th>\n",
       "      <td>Electronic check</td>\n",
       "      <td>2365</td>\n",
       "    </tr>\n",
       "    <tr>\n",
       "      <th>1</th>\n",
       "      <td>Mailed check</td>\n",
       "      <td>1612</td>\n",
       "    </tr>\n",
       "    <tr>\n",
       "      <th>2</th>\n",
       "      <td>Bank transfer</td>\n",
       "      <td>1544</td>\n",
       "    </tr>\n",
       "    <tr>\n",
       "      <th>3</th>\n",
       "      <td>Credit card</td>\n",
       "      <td>1522</td>\n",
       "    </tr>\n",
       "  </tbody>\n",
       "</table>\n",
       "</div>"
      ],
      "text/plain": [
       "              index  payment_method\n",
       "0  Electronic check            2365\n",
       "1      Mailed check            1612\n",
       "2    Bank transfer             1544\n",
       "3      Credit card             1522"
      ]
     },
     "execution_count": 25,
     "metadata": {},
     "output_type": "execute_result"
    }
   ],
   "source": [
    "#create a df with count of users by plan\n",
    "clients_by_pmethod= pd.DataFrame(ctt_df['payment_method'].value_counts())\n",
    "clients_by_pmethod.reset_index(inplace=True)\n",
    "clients_by_pmethod"
   ]
  },
  {
   "cell_type": "code",
   "execution_count": 26,
   "id": "14a71078",
   "metadata": {},
   "outputs": [
    {
     "data": {
      "text/html": [
       "<div>\n",
       "<style scoped>\n",
       "    .dataframe tbody tr th:only-of-type {\n",
       "        vertical-align: middle;\n",
       "    }\n",
       "\n",
       "    .dataframe tbody tr th {\n",
       "        vertical-align: top;\n",
       "    }\n",
       "\n",
       "    .dataframe thead th {\n",
       "        text-align: right;\n",
       "    }\n",
       "</style>\n",
       "<table border=\"1\" class=\"dataframe\">\n",
       "  <thead>\n",
       "    <tr style=\"text-align: right;\">\n",
       "      <th></th>\n",
       "      <th>payment_method</th>\n",
       "      <th>churn</th>\n",
       "      <th>churn_count</th>\n",
       "      <th>churn_%</th>\n",
       "      <th>churn_pmethod</th>\n",
       "    </tr>\n",
       "  </thead>\n",
       "  <tbody>\n",
       "    <tr>\n",
       "      <th>0</th>\n",
       "      <td>Bank transfer</td>\n",
       "      <td>0</td>\n",
       "      <td>1286</td>\n",
       "      <td>83.29</td>\n",
       "      <td>Bank transfer  0</td>\n",
       "    </tr>\n",
       "    <tr>\n",
       "      <th>1</th>\n",
       "      <td>Bank transfer</td>\n",
       "      <td>1</td>\n",
       "      <td>258</td>\n",
       "      <td>16.71</td>\n",
       "      <td>Bank transfer  1</td>\n",
       "    </tr>\n",
       "    <tr>\n",
       "      <th>2</th>\n",
       "      <td>Credit card</td>\n",
       "      <td>0</td>\n",
       "      <td>1290</td>\n",
       "      <td>84.76</td>\n",
       "      <td>Credit card  0</td>\n",
       "    </tr>\n",
       "    <tr>\n",
       "      <th>3</th>\n",
       "      <td>Credit card</td>\n",
       "      <td>1</td>\n",
       "      <td>232</td>\n",
       "      <td>15.24</td>\n",
       "      <td>Credit card  1</td>\n",
       "    </tr>\n",
       "    <tr>\n",
       "      <th>4</th>\n",
       "      <td>Electronic check</td>\n",
       "      <td>0</td>\n",
       "      <td>1294</td>\n",
       "      <td>54.71</td>\n",
       "      <td>Electronic check 0</td>\n",
       "    </tr>\n",
       "    <tr>\n",
       "      <th>5</th>\n",
       "      <td>Electronic check</td>\n",
       "      <td>1</td>\n",
       "      <td>1071</td>\n",
       "      <td>45.29</td>\n",
       "      <td>Electronic check 1</td>\n",
       "    </tr>\n",
       "    <tr>\n",
       "      <th>6</th>\n",
       "      <td>Mailed check</td>\n",
       "      <td>0</td>\n",
       "      <td>1304</td>\n",
       "      <td>80.89</td>\n",
       "      <td>Mailed check 0</td>\n",
       "    </tr>\n",
       "    <tr>\n",
       "      <th>7</th>\n",
       "      <td>Mailed check</td>\n",
       "      <td>1</td>\n",
       "      <td>308</td>\n",
       "      <td>19.11</td>\n",
       "      <td>Mailed check 1</td>\n",
       "    </tr>\n",
       "  </tbody>\n",
       "</table>\n",
       "</div>"
      ],
      "text/plain": [
       "     payment_method  churn  churn_count  churn_%       churn_pmethod\n",
       "0    Bank transfer       0         1286    83.29    Bank transfer  0\n",
       "1    Bank transfer       1          258    16.71    Bank transfer  1\n",
       "2      Credit card       0         1290    84.76      Credit card  0\n",
       "3      Credit card       1          232    15.24      Credit card  1\n",
       "4  Electronic check      0         1294    54.71  Electronic check 0\n",
       "5  Electronic check      1         1071    45.29  Electronic check 1\n",
       "6      Mailed check      0         1304    80.89      Mailed check 0\n",
       "7      Mailed check      1          308    19.11      Mailed check 1"
      ]
     },
     "execution_count": 26,
     "metadata": {},
     "output_type": "execute_result"
    }
   ],
   "source": [
    "#create a df with % of people who churned/did not churn by plan type\n",
    "churn_by_pmethod= pd.DataFrame(ctt_df.groupby('payment_method')['churn'].value_counts())\n",
    "churn_by_pmethod=churn_by_pmethod.rename(columns={'churn':'churn_count'})\n",
    "churn_by_pmethod.reset_index(inplace=True)\n",
    "churn_by_pmethod['churn_%'] = churn_by_pmethod.apply(lambda x: round(x['churn_count']/clients_by_pmethod[clients_by_pmethod['index']==x['payment_method']]['payment_method'].values[0]*100,2) , axis=1)\n",
    "churn_by_pmethod ['churn_pmethod']= churn_by_pmethod.apply(lambda x: x['payment_method'] + ' ' + str(x['churn']),axis=1)\n",
    "churn_by_pmethod"
   ]
  },
  {
   "cell_type": "code",
   "execution_count": 27,
   "id": "3525b615",
   "metadata": {},
   "outputs": [
    {
     "data": {
      "image/png": "[encoded data removed]",
      "text/plain": [
       "<Figure size 576x432 with 1 Axes>"
      ]
     },
     "metadata": {
      "needs_background": "light"
     },
     "output_type": "display_data"
    }
   ],
   "source": [
    "#plot % of clients who resigned the contract by plan type\n",
    "plt.figure(figsize=(8,6))\n",
    "sns.barplot(x='churn_pmethod', y= 'churn_%', data= churn_by_pmethod, palette=\"rocket\")\n",
    "\n",
    "plt.xticks(rotation=45)\n",
    "plt.title('% of customers who churned by payment method')\n",
    "plt.xlabel('Churn & payment method')\n",
    "plt.ylabel('% of users')\n",
    "plt.show()"
   ]
  },
  {
   "cell_type": "markdown",
   "id": "b369cebd",
   "metadata": {},
   "source": [
    "In the case of payment methods, there's no clear pattern that allows to classify them as an ordinal variable. Hence, we will use label encoding or One-hot encoding as appropiate for each particular model that we train later on."
   ]
  },
  {
   "cell_type": "markdown",
   "id": "92f9b513",
   "metadata": {},
   "source": [
    "#### Total charges: convert to float\n",
    "\n",
    "When trying to convert this figures to float, we came across a bug in the values recorded, since some clients who churned the same day of suscription had a white space instead of 0. First we will replace that value by 0, and then convert the column to float."
   ]
  },
  {
   "cell_type": "code",
   "execution_count": 28,
   "id": "bfe81e98",
   "metadata": {},
   "outputs": [
    {
     "data": {
      "text/html": [
       "<div>\n",
       "<style scoped>\n",
       "    .dataframe tbody tr th:only-of-type {\n",
       "        vertical-align: middle;\n",
       "    }\n",
       "\n",
       "    .dataframe tbody tr th {\n",
       "        vertical-align: top;\n",
       "    }\n",
       "\n",
       "    .dataframe thead th {\n",
       "        text-align: right;\n",
       "    }\n",
       "</style>\n",
       "<table border=\"1\" class=\"dataframe\">\n",
       "  <thead>\n",
       "    <tr style=\"text-align: right;\">\n",
       "      <th></th>\n",
       "      <th>customer_id</th>\n",
       "      <th>begin_date</th>\n",
       "      <th>end_date</th>\n",
       "      <th>type</th>\n",
       "      <th>paperless_billing</th>\n",
       "      <th>payment_method</th>\n",
       "      <th>monthly_charges</th>\n",
       "      <th>total_charges</th>\n",
       "      <th>churn</th>\n",
       "      <th>automatic_payment</th>\n",
       "    </tr>\n",
       "  </thead>\n",
       "  <tbody>\n",
       "    <tr>\n",
       "      <th>488</th>\n",
       "      <td>4472-LVYGI</td>\n",
       "      <td>2020-02-01</td>\n",
       "      <td>2020-02-01</td>\n",
       "      <td>1</td>\n",
       "      <td>1</td>\n",
       "      <td>Bank transfer</td>\n",
       "      <td>52.55</td>\n",
       "      <td></td>\n",
       "      <td>0</td>\n",
       "      <td>1</td>\n",
       "    </tr>\n",
       "    <tr>\n",
       "      <th>753</th>\n",
       "      <td>3115-CZMZD</td>\n",
       "      <td>2020-02-01</td>\n",
       "      <td>2020-02-01</td>\n",
       "      <td>1</td>\n",
       "      <td>0</td>\n",
       "      <td>Mailed check</td>\n",
       "      <td>20.25</td>\n",
       "      <td></td>\n",
       "      <td>0</td>\n",
       "      <td>0</td>\n",
       "    </tr>\n",
       "    <tr>\n",
       "      <th>936</th>\n",
       "      <td>5709-LVOEQ</td>\n",
       "      <td>2020-02-01</td>\n",
       "      <td>2020-02-01</td>\n",
       "      <td>1</td>\n",
       "      <td>0</td>\n",
       "      <td>Mailed check</td>\n",
       "      <td>80.85</td>\n",
       "      <td></td>\n",
       "      <td>0</td>\n",
       "      <td>0</td>\n",
       "    </tr>\n",
       "    <tr>\n",
       "      <th>1082</th>\n",
       "      <td>4367-NUYAO</td>\n",
       "      <td>2020-02-01</td>\n",
       "      <td>2020-02-01</td>\n",
       "      <td>1</td>\n",
       "      <td>0</td>\n",
       "      <td>Mailed check</td>\n",
       "      <td>25.75</td>\n",
       "      <td></td>\n",
       "      <td>0</td>\n",
       "      <td>0</td>\n",
       "    </tr>\n",
       "    <tr>\n",
       "      <th>1340</th>\n",
       "      <td>1371-DWPAZ</td>\n",
       "      <td>2020-02-01</td>\n",
       "      <td>2020-02-01</td>\n",
       "      <td>1</td>\n",
       "      <td>0</td>\n",
       "      <td>Credit card</td>\n",
       "      <td>56.05</td>\n",
       "      <td></td>\n",
       "      <td>0</td>\n",
       "      <td>1</td>\n",
       "    </tr>\n",
       "    <tr>\n",
       "      <th>3331</th>\n",
       "      <td>7644-OMVMY</td>\n",
       "      <td>2020-02-01</td>\n",
       "      <td>2020-02-01</td>\n",
       "      <td>1</td>\n",
       "      <td>0</td>\n",
       "      <td>Mailed check</td>\n",
       "      <td>19.85</td>\n",
       "      <td></td>\n",
       "      <td>0</td>\n",
       "      <td>0</td>\n",
       "    </tr>\n",
       "    <tr>\n",
       "      <th>3826</th>\n",
       "      <td>3213-VVOLG</td>\n",
       "      <td>2020-02-01</td>\n",
       "      <td>2020-02-01</td>\n",
       "      <td>1</td>\n",
       "      <td>0</td>\n",
       "      <td>Mailed check</td>\n",
       "      <td>25.35</td>\n",
       "      <td></td>\n",
       "      <td>0</td>\n",
       "      <td>0</td>\n",
       "    </tr>\n",
       "    <tr>\n",
       "      <th>4380</th>\n",
       "      <td>2520-SGTTA</td>\n",
       "      <td>2020-02-01</td>\n",
       "      <td>2020-02-01</td>\n",
       "      <td>1</td>\n",
       "      <td>0</td>\n",
       "      <td>Mailed check</td>\n",
       "      <td>20.00</td>\n",
       "      <td></td>\n",
       "      <td>0</td>\n",
       "      <td>0</td>\n",
       "    </tr>\n",
       "    <tr>\n",
       "      <th>5218</th>\n",
       "      <td>2923-ARZLG</td>\n",
       "      <td>2020-02-01</td>\n",
       "      <td>2020-02-01</td>\n",
       "      <td>2</td>\n",
       "      <td>1</td>\n",
       "      <td>Mailed check</td>\n",
       "      <td>19.70</td>\n",
       "      <td></td>\n",
       "      <td>0</td>\n",
       "      <td>0</td>\n",
       "    </tr>\n",
       "    <tr>\n",
       "      <th>6670</th>\n",
       "      <td>4075-WKNIU</td>\n",
       "      <td>2020-02-01</td>\n",
       "      <td>2020-02-01</td>\n",
       "      <td>1</td>\n",
       "      <td>0</td>\n",
       "      <td>Mailed check</td>\n",
       "      <td>73.35</td>\n",
       "      <td></td>\n",
       "      <td>0</td>\n",
       "      <td>0</td>\n",
       "    </tr>\n",
       "    <tr>\n",
       "      <th>6754</th>\n",
       "      <td>2775-SEFEE</td>\n",
       "      <td>2020-02-01</td>\n",
       "      <td>2020-02-01</td>\n",
       "      <td>1</td>\n",
       "      <td>1</td>\n",
       "      <td>Bank transfer</td>\n",
       "      <td>61.90</td>\n",
       "      <td></td>\n",
       "      <td>0</td>\n",
       "      <td>1</td>\n",
       "    </tr>\n",
       "  </tbody>\n",
       "</table>\n",
       "</div>"
      ],
      "text/plain": [
       "     customer_id begin_date   end_date  type  paperless_billing  \\\n",
       "488   4472-LVYGI 2020-02-01 2020-02-01     1                  1   \n",
       "753   3115-CZMZD 2020-02-01 2020-02-01     1                  0   \n",
       "936   5709-LVOEQ 2020-02-01 2020-02-01     1                  0   \n",
       "1082  4367-NUYAO 2020-02-01 2020-02-01     1                  0   \n",
       "1340  1371-DWPAZ 2020-02-01 2020-02-01     1                  0   \n",
       "3331  7644-OMVMY 2020-02-01 2020-02-01     1                  0   \n",
       "3826  3213-VVOLG 2020-02-01 2020-02-01     1                  0   \n",
       "4380  2520-SGTTA 2020-02-01 2020-02-01     1                  0   \n",
       "5218  2923-ARZLG 2020-02-01 2020-02-01     2                  1   \n",
       "6670  4075-WKNIU 2020-02-01 2020-02-01     1                  0   \n",
       "6754  2775-SEFEE 2020-02-01 2020-02-01     1                  1   \n",
       "\n",
       "      payment_method  monthly_charges total_charges  churn  automatic_payment  \n",
       "488   Bank transfer             52.55                    0                  1  \n",
       "753     Mailed check            20.25                    0                  0  \n",
       "936     Mailed check            80.85                    0                  0  \n",
       "1082    Mailed check            25.75                    0                  0  \n",
       "1340    Credit card             56.05                    0                  1  \n",
       "3331    Mailed check            19.85                    0                  0  \n",
       "3826    Mailed check            25.35                    0                  0  \n",
       "4380    Mailed check            20.00                    0                  0  \n",
       "5218    Mailed check            19.70                    0                  0  \n",
       "6670    Mailed check            73.35                    0                  0  \n",
       "6754  Bank transfer             61.90                    0                  1  "
      ]
     },
     "execution_count": 28,
     "metadata": {},
     "output_type": "execute_result"
    }
   ],
   "source": [
    "#print rows where total charges is blank\n",
    "ctt_df[ctt_df['total_charges']==' ']"
   ]
  },
  {
   "cell_type": "code",
   "execution_count": 29,
   "id": "32f3438b",
   "metadata": {},
   "outputs": [
    {
     "name": "stdout",
     "output_type": "stream",
     "text": [
      "<class 'pandas.core.frame.DataFrame'>\n",
      "RangeIndex: 7043 entries, 0 to 7042\n",
      "Data columns (total 10 columns):\n",
      " #   Column             Non-Null Count  Dtype         \n",
      "---  ------             --------------  -----         \n",
      " 0   customer_id        7043 non-null   object        \n",
      " 1   begin_date         7043 non-null   datetime64[ns]\n",
      " 2   end_date           7043 non-null   datetime64[ns]\n",
      " 3   type               7043 non-null   int64         \n",
      " 4   paperless_billing  7043 non-null   int64         \n",
      " 5   payment_method     7043 non-null   object        \n",
      " 6   monthly_charges    7043 non-null   float64       \n",
      " 7   total_charges      7043 non-null   float64       \n",
      " 8   churn              7043 non-null   int64         \n",
      " 9   automatic_payment  7043 non-null   int64         \n",
      "dtypes: datetime64[ns](2), float64(2), int64(4), object(2)\n",
      "memory usage: 550.4+ KB\n"
     ]
    }
   ],
   "source": [
    "#Replace by 0\n",
    "ctt_df['total_charges']=ctt_df['total_charges'].replace(' ',0)\n",
    "\n",
    "#change to float\n",
    "ctt_df['total_charges']=ctt_df['total_charges'].astype('float')\n",
    "\n",
    "#check result\n",
    "ctt_df.info()"
   ]
  },
  {
   "cell_type": "markdown",
   "id": "1e4c4786",
   "metadata": {},
   "source": [
    "### Personal data"
   ]
  },
  {
   "cell_type": "code",
   "execution_count": 30,
   "id": "e82da6f7",
   "metadata": {},
   "outputs": [
    {
     "name": "stdout",
     "output_type": "stream",
     "text": [
      "Top five rows:\n"
     ]
    },
    {
     "data": {
      "text/html": [
       "<div>\n",
       "<style scoped>\n",
       "    .dataframe tbody tr th:only-of-type {\n",
       "        vertical-align: middle;\n",
       "    }\n",
       "\n",
       "    .dataframe tbody tr th {\n",
       "        vertical-align: top;\n",
       "    }\n",
       "\n",
       "    .dataframe thead th {\n",
       "        text-align: right;\n",
       "    }\n",
       "</style>\n",
       "<table border=\"1\" class=\"dataframe\">\n",
       "  <thead>\n",
       "    <tr style=\"text-align: right;\">\n",
       "      <th></th>\n",
       "      <th>customerID</th>\n",
       "      <th>gender</th>\n",
       "      <th>SeniorCitizen</th>\n",
       "      <th>Partner</th>\n",
       "      <th>Dependents</th>\n",
       "    </tr>\n",
       "  </thead>\n",
       "  <tbody>\n",
       "    <tr>\n",
       "      <th>0</th>\n",
       "      <td>7590-VHVEG</td>\n",
       "      <td>Female</td>\n",
       "      <td>0</td>\n",
       "      <td>Yes</td>\n",
       "      <td>No</td>\n",
       "    </tr>\n",
       "    <tr>\n",
       "      <th>1</th>\n",
       "      <td>5575-GNVDE</td>\n",
       "      <td>Male</td>\n",
       "      <td>0</td>\n",
       "      <td>No</td>\n",
       "      <td>No</td>\n",
       "    </tr>\n",
       "    <tr>\n",
       "      <th>2</th>\n",
       "      <td>3668-QPYBK</td>\n",
       "      <td>Male</td>\n",
       "      <td>0</td>\n",
       "      <td>No</td>\n",
       "      <td>No</td>\n",
       "    </tr>\n",
       "    <tr>\n",
       "      <th>3</th>\n",
       "      <td>7795-CFOCW</td>\n",
       "      <td>Male</td>\n",
       "      <td>0</td>\n",
       "      <td>No</td>\n",
       "      <td>No</td>\n",
       "    </tr>\n",
       "    <tr>\n",
       "      <th>4</th>\n",
       "      <td>9237-HQITU</td>\n",
       "      <td>Female</td>\n",
       "      <td>0</td>\n",
       "      <td>No</td>\n",
       "      <td>No</td>\n",
       "    </tr>\n",
       "  </tbody>\n",
       "</table>\n",
       "</div>"
      ],
      "text/plain": [
       "   customerID  gender  SeniorCitizen Partner Dependents\n",
       "0  7590-VHVEG  Female              0     Yes         No\n",
       "1  5575-GNVDE    Male              0      No         No\n",
       "2  3668-QPYBK    Male              0      No         No\n",
       "3  7795-CFOCW    Male              0      No         No\n",
       "4  9237-HQITU  Female              0      No         No"
      ]
     },
     "metadata": {},
     "output_type": "display_data"
    },
    {
     "name": "stdout",
     "output_type": "stream",
     "text": [
      "\n",
      "\n",
      "Five random samples:\n"
     ]
    },
    {
     "data": {
      "text/html": [
       "<div>\n",
       "<style scoped>\n",
       "    .dataframe tbody tr th:only-of-type {\n",
       "        vertical-align: middle;\n",
       "    }\n",
       "\n",
       "    .dataframe tbody tr th {\n",
       "        vertical-align: top;\n",
       "    }\n",
       "\n",
       "    .dataframe thead th {\n",
       "        text-align: right;\n",
       "    }\n",
       "</style>\n",
       "<table border=\"1\" class=\"dataframe\">\n",
       "  <thead>\n",
       "    <tr style=\"text-align: right;\">\n",
       "      <th></th>\n",
       "      <th>customerID</th>\n",
       "      <th>gender</th>\n",
       "      <th>SeniorCitizen</th>\n",
       "      <th>Partner</th>\n",
       "      <th>Dependents</th>\n",
       "    </tr>\n",
       "  </thead>\n",
       "  <tbody>\n",
       "    <tr>\n",
       "      <th>1841</th>\n",
       "      <td>8958-JPTRR</td>\n",
       "      <td>Female</td>\n",
       "      <td>0</td>\n",
       "      <td>Yes</td>\n",
       "      <td>No</td>\n",
       "    </tr>\n",
       "    <tr>\n",
       "      <th>6585</th>\n",
       "      <td>4955-VCWBI</td>\n",
       "      <td>Female</td>\n",
       "      <td>0</td>\n",
       "      <td>Yes</td>\n",
       "      <td>Yes</td>\n",
       "    </tr>\n",
       "    <tr>\n",
       "      <th>2034</th>\n",
       "      <td>9720-JJJOR</td>\n",
       "      <td>Male</td>\n",
       "      <td>0</td>\n",
       "      <td>Yes</td>\n",
       "      <td>Yes</td>\n",
       "    </tr>\n",
       "    <tr>\n",
       "      <th>4407</th>\n",
       "      <td>1850-AKQEP</td>\n",
       "      <td>Male</td>\n",
       "      <td>0</td>\n",
       "      <td>No</td>\n",
       "      <td>Yes</td>\n",
       "    </tr>\n",
       "    <tr>\n",
       "      <th>6079</th>\n",
       "      <td>9881-VCZEP</td>\n",
       "      <td>Female</td>\n",
       "      <td>0</td>\n",
       "      <td>Yes</td>\n",
       "      <td>No</td>\n",
       "    </tr>\n",
       "  </tbody>\n",
       "</table>\n",
       "</div>"
      ],
      "text/plain": [
       "      customerID  gender  SeniorCitizen Partner Dependents\n",
       "1841  8958-JPTRR  Female              0     Yes         No\n",
       "6585  4955-VCWBI  Female              0     Yes        Yes\n",
       "2034  9720-JJJOR    Male              0     Yes        Yes\n",
       "4407  1850-AKQEP    Male              0      No        Yes\n",
       "6079  9881-VCZEP  Female              0     Yes         No"
      ]
     },
     "metadata": {},
     "output_type": "display_data"
    },
    {
     "name": "stdout",
     "output_type": "stream",
     "text": [
      "\n",
      "\n",
      "Last five rows:\n"
     ]
    },
    {
     "data": {
      "text/html": [
       "<div>\n",
       "<style scoped>\n",
       "    .dataframe tbody tr th:only-of-type {\n",
       "        vertical-align: middle;\n",
       "    }\n",
       "\n",
       "    .dataframe tbody tr th {\n",
       "        vertical-align: top;\n",
       "    }\n",
       "\n",
       "    .dataframe thead th {\n",
       "        text-align: right;\n",
       "    }\n",
       "</style>\n",
       "<table border=\"1\" class=\"dataframe\">\n",
       "  <thead>\n",
       "    <tr style=\"text-align: right;\">\n",
       "      <th></th>\n",
       "      <th>customerID</th>\n",
       "      <th>gender</th>\n",
       "      <th>SeniorCitizen</th>\n",
       "      <th>Partner</th>\n",
       "      <th>Dependents</th>\n",
       "    </tr>\n",
       "  </thead>\n",
       "  <tbody>\n",
       "    <tr>\n",
       "      <th>7038</th>\n",
       "      <td>6840-RESVB</td>\n",
       "      <td>Male</td>\n",
       "      <td>0</td>\n",
       "      <td>Yes</td>\n",
       "      <td>Yes</td>\n",
       "    </tr>\n",
       "    <tr>\n",
       "      <th>7039</th>\n",
       "      <td>2234-XADUH</td>\n",
       "      <td>Female</td>\n",
       "      <td>0</td>\n",
       "      <td>Yes</td>\n",
       "      <td>Yes</td>\n",
       "    </tr>\n",
       "    <tr>\n",
       "      <th>7040</th>\n",
       "      <td>4801-JZAZL</td>\n",
       "      <td>Female</td>\n",
       "      <td>0</td>\n",
       "      <td>Yes</td>\n",
       "      <td>Yes</td>\n",
       "    </tr>\n",
       "    <tr>\n",
       "      <th>7041</th>\n",
       "      <td>8361-LTMKD</td>\n",
       "      <td>Male</td>\n",
       "      <td>1</td>\n",
       "      <td>Yes</td>\n",
       "      <td>No</td>\n",
       "    </tr>\n",
       "    <tr>\n",
       "      <th>7042</th>\n",
       "      <td>3186-AJIEK</td>\n",
       "      <td>Male</td>\n",
       "      <td>0</td>\n",
       "      <td>No</td>\n",
       "      <td>No</td>\n",
       "    </tr>\n",
       "  </tbody>\n",
       "</table>\n",
       "</div>"
      ],
      "text/plain": [
       "      customerID  gender  SeniorCitizen Partner Dependents\n",
       "7038  6840-RESVB    Male              0     Yes        Yes\n",
       "7039  2234-XADUH  Female              0     Yes        Yes\n",
       "7040  4801-JZAZL  Female              0     Yes        Yes\n",
       "7041  8361-LTMKD    Male              1     Yes         No\n",
       "7042  3186-AJIEK    Male              0      No         No"
      ]
     },
     "metadata": {},
     "output_type": "display_data"
    },
    {
     "name": "stdout",
     "output_type": "stream",
     "text": [
      "\n",
      "\n",
      "Info and dtypes:\n",
      "<class 'pandas.core.frame.DataFrame'>\n",
      "RangeIndex: 7043 entries, 0 to 7042\n",
      "Data columns (total 5 columns):\n",
      " #   Column         Non-Null Count  Dtype \n",
      "---  ------         --------------  ----- \n",
      " 0   customerID     7043 non-null   object\n",
      " 1   gender         7043 non-null   object\n",
      " 2   SeniorCitizen  7043 non-null   int64 \n",
      " 3   Partner        7043 non-null   object\n",
      " 4   Dependents     7043 non-null   object\n",
      "dtypes: int64(1), object(4)\n",
      "memory usage: 275.2+ KB\n"
     ]
    },
    {
     "data": {
      "text/plain": [
       "None"
      ]
     },
     "metadata": {},
     "output_type": "display_data"
    },
    {
     "name": "stdout",
     "output_type": "stream",
     "text": [
      "\n",
      "\n",
      "Missing values %:\n"
     ]
    },
    {
     "data": {
      "text/plain": [
       "customerID       0.0\n",
       "gender           0.0\n",
       "SeniorCitizen    0.0\n",
       "Partner          0.0\n",
       "Dependents       0.0\n",
       "dtype: float64"
      ]
     },
     "metadata": {},
     "output_type": "display_data"
    },
    {
     "name": "stdout",
     "output_type": "stream",
     "text": [
      "\n",
      "\n",
      "Duplicates:\n"
     ]
    },
    {
     "data": {
      "text/plain": [
       "0"
      ]
     },
     "metadata": {},
     "output_type": "display_data"
    },
    {
     "name": "stdout",
     "output_type": "stream",
     "text": [
      "\n",
      "\n"
     ]
    }
   ],
   "source": [
    "#Overview of personal data df\n",
    "explore_df(pers_df)"
   ]
  },
  {
   "cell_type": "code",
   "execution_count": 31,
   "id": "d8fa92b5",
   "metadata": {},
   "outputs": [
    {
     "data": {
      "text/plain": [
       "Male      3555\n",
       "Female    3488\n",
       "Name: gender, dtype: int64"
      ]
     },
     "execution_count": 31,
     "metadata": {},
     "output_type": "execute_result"
    }
   ],
   "source": [
    "#check gender unique values\n",
    "pers_df['gender'].value_counts()"
   ]
  },
  {
   "cell_type": "code",
   "execution_count": 32,
   "id": "15260c80",
   "metadata": {},
   "outputs": [
    {
     "data": {
      "text/plain": [
       "0    5901\n",
       "1    1142\n",
       "Name: SeniorCitizen, dtype: int64"
      ]
     },
     "execution_count": 32,
     "metadata": {},
     "output_type": "execute_result"
    }
   ],
   "source": [
    "#check senior citizen unique values\n",
    "pers_df['SeniorCitizen'].value_counts()"
   ]
  },
  {
   "cell_type": "code",
   "execution_count": 33,
   "id": "4505e5d4",
   "metadata": {},
   "outputs": [
    {
     "data": {
      "text/plain": [
       "No     3641\n",
       "Yes    3402\n",
       "Name: Partner, dtype: int64"
      ]
     },
     "execution_count": 33,
     "metadata": {},
     "output_type": "execute_result"
    }
   ],
   "source": [
    "#check partner unique values\n",
    "pers_df['Partner'].value_counts()"
   ]
  },
  {
   "cell_type": "code",
   "execution_count": 34,
   "id": "47d321a5",
   "metadata": {},
   "outputs": [
    {
     "data": {
      "text/plain": [
       "No     4933\n",
       "Yes    2110\n",
       "Name: Dependents, dtype: int64"
      ]
     },
     "execution_count": 34,
     "metadata": {},
     "output_type": "execute_result"
    }
   ],
   "source": [
    "#check dependents unique values\n",
    "pers_df['Dependents'].value_counts()"
   ]
  },
  {
   "cell_type": "markdown",
   "id": "0f9703aa",
   "metadata": {},
   "source": [
    "The dataframe containing client's personal data does not have missing or duplicated values that need to be fixed.\n",
    "\n",
    "However, the following workarounds will be applied to it:\n",
    "    \n",
    "- `pers.csv` — customers' personal information\n",
    "    - Convert column headers to snake_case.\n",
    "    - Change gender column by \"Female\", and set values to 1 (True) or 0 (False)\n",
    " \n",
    "    - In 'Partners' and 'Dependents' change \"Yes\" by 1 and \"No\" by 0\n",
    "\n",
    "\n",
    "\n"
   ]
  },
  {
   "cell_type": "markdown",
   "id": "d6778fc2",
   "metadata": {},
   "source": [
    "#### Convert column headers to snake_case"
   ]
  },
  {
   "cell_type": "code",
   "execution_count": 35,
   "id": "25458a53",
   "metadata": {},
   "outputs": [
    {
     "data": {
      "text/html": [
       "<div>\n",
       "<style scoped>\n",
       "    .dataframe tbody tr th:only-of-type {\n",
       "        vertical-align: middle;\n",
       "    }\n",
       "\n",
       "    .dataframe tbody tr th {\n",
       "        vertical-align: top;\n",
       "    }\n",
       "\n",
       "    .dataframe thead th {\n",
       "        text-align: right;\n",
       "    }\n",
       "</style>\n",
       "<table border=\"1\" class=\"dataframe\">\n",
       "  <thead>\n",
       "    <tr style=\"text-align: right;\">\n",
       "      <th></th>\n",
       "      <th>customer_id</th>\n",
       "      <th>gender</th>\n",
       "      <th>senior_citizen</th>\n",
       "      <th>partner</th>\n",
       "      <th>dependents</th>\n",
       "    </tr>\n",
       "  </thead>\n",
       "  <tbody>\n",
       "    <tr>\n",
       "      <th>0</th>\n",
       "      <td>7590-VHVEG</td>\n",
       "      <td>Female</td>\n",
       "      <td>0</td>\n",
       "      <td>Yes</td>\n",
       "      <td>No</td>\n",
       "    </tr>\n",
       "    <tr>\n",
       "      <th>1</th>\n",
       "      <td>5575-GNVDE</td>\n",
       "      <td>Male</td>\n",
       "      <td>0</td>\n",
       "      <td>No</td>\n",
       "      <td>No</td>\n",
       "    </tr>\n",
       "    <tr>\n",
       "      <th>2</th>\n",
       "      <td>3668-QPYBK</td>\n",
       "      <td>Male</td>\n",
       "      <td>0</td>\n",
       "      <td>No</td>\n",
       "      <td>No</td>\n",
       "    </tr>\n",
       "    <tr>\n",
       "      <th>3</th>\n",
       "      <td>7795-CFOCW</td>\n",
       "      <td>Male</td>\n",
       "      <td>0</td>\n",
       "      <td>No</td>\n",
       "      <td>No</td>\n",
       "    </tr>\n",
       "    <tr>\n",
       "      <th>4</th>\n",
       "      <td>9237-HQITU</td>\n",
       "      <td>Female</td>\n",
       "      <td>0</td>\n",
       "      <td>No</td>\n",
       "      <td>No</td>\n",
       "    </tr>\n",
       "  </tbody>\n",
       "</table>\n",
       "</div>"
      ],
      "text/plain": [
       "  customer_id  gender  senior_citizen partner dependents\n",
       "0  7590-VHVEG  Female               0     Yes         No\n",
       "1  5575-GNVDE    Male               0      No         No\n",
       "2  3668-QPYBK    Male               0      No         No\n",
       "3  7795-CFOCW    Male               0      No         No\n",
       "4  9237-HQITU  Female               0      No         No"
      ]
     },
     "execution_count": 35,
     "metadata": {},
     "output_type": "execute_result"
    }
   ],
   "source": [
    "#rename personal data columns\n",
    "pers_df=rename_col(pers_df)\n",
    "\n",
    "#check replacement\n",
    "pers_df.head()"
   ]
  },
  {
   "cell_type": "markdown",
   "id": "2b192478",
   "metadata": {},
   "source": [
    "#### Change gender column by \"Female\", and set values to 1 (True) or 0 (False)"
   ]
  },
  {
   "cell_type": "code",
   "execution_count": 36,
   "id": "72282b11",
   "metadata": {},
   "outputs": [
    {
     "data": {
      "text/html": [
       "<div>\n",
       "<style scoped>\n",
       "    .dataframe tbody tr th:only-of-type {\n",
       "        vertical-align: middle;\n",
       "    }\n",
       "\n",
       "    .dataframe tbody tr th {\n",
       "        vertical-align: top;\n",
       "    }\n",
       "\n",
       "    .dataframe thead th {\n",
       "        text-align: right;\n",
       "    }\n",
       "</style>\n",
       "<table border=\"1\" class=\"dataframe\">\n",
       "  <thead>\n",
       "    <tr style=\"text-align: right;\">\n",
       "      <th></th>\n",
       "      <th>customer_id</th>\n",
       "      <th>female</th>\n",
       "      <th>senior_citizen</th>\n",
       "      <th>partner</th>\n",
       "      <th>dependents</th>\n",
       "    </tr>\n",
       "  </thead>\n",
       "  <tbody>\n",
       "    <tr>\n",
       "      <th>0</th>\n",
       "      <td>7590-VHVEG</td>\n",
       "      <td>1</td>\n",
       "      <td>0</td>\n",
       "      <td>Yes</td>\n",
       "      <td>No</td>\n",
       "    </tr>\n",
       "    <tr>\n",
       "      <th>1</th>\n",
       "      <td>5575-GNVDE</td>\n",
       "      <td>0</td>\n",
       "      <td>0</td>\n",
       "      <td>No</td>\n",
       "      <td>No</td>\n",
       "    </tr>\n",
       "    <tr>\n",
       "      <th>2</th>\n",
       "      <td>3668-QPYBK</td>\n",
       "      <td>0</td>\n",
       "      <td>0</td>\n",
       "      <td>No</td>\n",
       "      <td>No</td>\n",
       "    </tr>\n",
       "    <tr>\n",
       "      <th>3</th>\n",
       "      <td>7795-CFOCW</td>\n",
       "      <td>0</td>\n",
       "      <td>0</td>\n",
       "      <td>No</td>\n",
       "      <td>No</td>\n",
       "    </tr>\n",
       "    <tr>\n",
       "      <th>4</th>\n",
       "      <td>9237-HQITU</td>\n",
       "      <td>1</td>\n",
       "      <td>0</td>\n",
       "      <td>No</td>\n",
       "      <td>No</td>\n",
       "    </tr>\n",
       "  </tbody>\n",
       "</table>\n",
       "</div>"
      ],
      "text/plain": [
       "  customer_id  female  senior_citizen partner dependents\n",
       "0  7590-VHVEG       1               0     Yes         No\n",
       "1  5575-GNVDE       0               0      No         No\n",
       "2  3668-QPYBK       0               0      No         No\n",
       "3  7795-CFOCW       0               0      No         No\n",
       "4  9237-HQITU       1               0      No         No"
      ]
     },
     "execution_count": 36,
     "metadata": {},
     "output_type": "execute_result"
    }
   ],
   "source": [
    "#Change gender column name by female\n",
    "pers_df=pers_df.rename(columns={'gender':'female'})\n",
    "\n",
    "#set female values to true or false\n",
    "pers_df['female']=pers_df['female'].replace('Female',1).replace('Male',0)\n",
    "\n",
    "#check first five rows\n",
    "pers_df.head()"
   ]
  },
  {
   "cell_type": "markdown",
   "id": "fd66ca64",
   "metadata": {},
   "source": [
    "#### In 'Partners' and 'Dependents' change \"Yes\" by 1 and \"No\" by 0"
   ]
  },
  {
   "cell_type": "code",
   "execution_count": 37,
   "id": "ab603833",
   "metadata": {},
   "outputs": [
    {
     "data": {
      "text/html": [
       "<div>\n",
       "<style scoped>\n",
       "    .dataframe tbody tr th:only-of-type {\n",
       "        vertical-align: middle;\n",
       "    }\n",
       "\n",
       "    .dataframe tbody tr th {\n",
       "        vertical-align: top;\n",
       "    }\n",
       "\n",
       "    .dataframe thead th {\n",
       "        text-align: right;\n",
       "    }\n",
       "</style>\n",
       "<table border=\"1\" class=\"dataframe\">\n",
       "  <thead>\n",
       "    <tr style=\"text-align: right;\">\n",
       "      <th></th>\n",
       "      <th>customer_id</th>\n",
       "      <th>female</th>\n",
       "      <th>senior_citizen</th>\n",
       "      <th>partner</th>\n",
       "      <th>dependents</th>\n",
       "    </tr>\n",
       "  </thead>\n",
       "  <tbody>\n",
       "    <tr>\n",
       "      <th>0</th>\n",
       "      <td>7590-VHVEG</td>\n",
       "      <td>1</td>\n",
       "      <td>0</td>\n",
       "      <td>1</td>\n",
       "      <td>0</td>\n",
       "    </tr>\n",
       "    <tr>\n",
       "      <th>1</th>\n",
       "      <td>5575-GNVDE</td>\n",
       "      <td>0</td>\n",
       "      <td>0</td>\n",
       "      <td>0</td>\n",
       "      <td>0</td>\n",
       "    </tr>\n",
       "    <tr>\n",
       "      <th>2</th>\n",
       "      <td>3668-QPYBK</td>\n",
       "      <td>0</td>\n",
       "      <td>0</td>\n",
       "      <td>0</td>\n",
       "      <td>0</td>\n",
       "    </tr>\n",
       "    <tr>\n",
       "      <th>3</th>\n",
       "      <td>7795-CFOCW</td>\n",
       "      <td>0</td>\n",
       "      <td>0</td>\n",
       "      <td>0</td>\n",
       "      <td>0</td>\n",
       "    </tr>\n",
       "    <tr>\n",
       "      <th>4</th>\n",
       "      <td>9237-HQITU</td>\n",
       "      <td>1</td>\n",
       "      <td>0</td>\n",
       "      <td>0</td>\n",
       "      <td>0</td>\n",
       "    </tr>\n",
       "  </tbody>\n",
       "</table>\n",
       "</div>"
      ],
      "text/plain": [
       "  customer_id  female  senior_citizen  partner  dependents\n",
       "0  7590-VHVEG       1               0        1           0\n",
       "1  5575-GNVDE       0               0        0           0\n",
       "2  3668-QPYBK       0               0        0           0\n",
       "3  7795-CFOCW       0               0        0           0\n",
       "4  9237-HQITU       1               0        0           0"
      ]
     },
     "execution_count": 37,
     "metadata": {},
     "output_type": "execute_result"
    }
   ],
   "source": [
    "#set values to true or false\n",
    "pers_df['partner']=pers_df['partner'].replace('Yes',1).replace('No',0)\n",
    "pers_df['dependents']=pers_df['dependents'].replace('Yes',1).replace('No',0)\n",
    "\n",
    "pers_df.head()"
   ]
  },
  {
   "cell_type": "code",
   "execution_count": 38,
   "id": "5a4ee330",
   "metadata": {},
   "outputs": [
    {
     "name": "stdout",
     "output_type": "stream",
     "text": [
      "<class 'pandas.core.frame.DataFrame'>\n",
      "RangeIndex: 7043 entries, 0 to 7042\n",
      "Data columns (total 5 columns):\n",
      " #   Column          Non-Null Count  Dtype \n",
      "---  ------          --------------  ----- \n",
      " 0   customer_id     7043 non-null   object\n",
      " 1   female          7043 non-null   int64 \n",
      " 2   senior_citizen  7043 non-null   int64 \n",
      " 3   partner         7043 non-null   int64 \n",
      " 4   dependents      7043 non-null   int64 \n",
      "dtypes: int64(4), object(1)\n",
      "memory usage: 275.2+ KB\n"
     ]
    }
   ],
   "source": [
    "#check dtypes\n",
    "pers_df.info()"
   ]
  },
  {
   "cell_type": "markdown",
   "id": "9fc60557",
   "metadata": {},
   "source": [
    "### Internet services"
   ]
  },
  {
   "cell_type": "code",
   "execution_count": 39,
   "id": "5582c998",
   "metadata": {},
   "outputs": [
    {
     "name": "stdout",
     "output_type": "stream",
     "text": [
      "Top five rows:\n"
     ]
    },
    {
     "data": {
      "text/html": [
       "<div>\n",
       "<style scoped>\n",
       "    .dataframe tbody tr th:only-of-type {\n",
       "        vertical-align: middle;\n",
       "    }\n",
       "\n",
       "    .dataframe tbody tr th {\n",
       "        vertical-align: top;\n",
       "    }\n",
       "\n",
       "    .dataframe thead th {\n",
       "        text-align: right;\n",
       "    }\n",
       "</style>\n",
       "<table border=\"1\" class=\"dataframe\">\n",
       "  <thead>\n",
       "    <tr style=\"text-align: right;\">\n",
       "      <th></th>\n",
       "      <th>customerID</th>\n",
       "      <th>InternetService</th>\n",
       "      <th>OnlineSecurity</th>\n",
       "      <th>OnlineBackup</th>\n",
       "      <th>DeviceProtection</th>\n",
       "      <th>TechSupport</th>\n",
       "      <th>StreamingTV</th>\n",
       "      <th>StreamingMovies</th>\n",
       "    </tr>\n",
       "  </thead>\n",
       "  <tbody>\n",
       "    <tr>\n",
       "      <th>0</th>\n",
       "      <td>7590-VHVEG</td>\n",
       "      <td>DSL</td>\n",
       "      <td>No</td>\n",
       "      <td>Yes</td>\n",
       "      <td>No</td>\n",
       "      <td>No</td>\n",
       "      <td>No</td>\n",
       "      <td>No</td>\n",
       "    </tr>\n",
       "    <tr>\n",
       "      <th>1</th>\n",
       "      <td>5575-GNVDE</td>\n",
       "      <td>DSL</td>\n",
       "      <td>Yes</td>\n",
       "      <td>No</td>\n",
       "      <td>Yes</td>\n",
       "      <td>No</td>\n",
       "      <td>No</td>\n",
       "      <td>No</td>\n",
       "    </tr>\n",
       "    <tr>\n",
       "      <th>2</th>\n",
       "      <td>3668-QPYBK</td>\n",
       "      <td>DSL</td>\n",
       "      <td>Yes</td>\n",
       "      <td>Yes</td>\n",
       "      <td>No</td>\n",
       "      <td>No</td>\n",
       "      <td>No</td>\n",
       "      <td>No</td>\n",
       "    </tr>\n",
       "    <tr>\n",
       "      <th>3</th>\n",
       "      <td>7795-CFOCW</td>\n",
       "      <td>DSL</td>\n",
       "      <td>Yes</td>\n",
       "      <td>No</td>\n",
       "      <td>Yes</td>\n",
       "      <td>Yes</td>\n",
       "      <td>No</td>\n",
       "      <td>No</td>\n",
       "    </tr>\n",
       "    <tr>\n",
       "      <th>4</th>\n",
       "      <td>9237-HQITU</td>\n",
       "      <td>Fiber optic</td>\n",
       "      <td>No</td>\n",
       "      <td>No</td>\n",
       "      <td>No</td>\n",
       "      <td>No</td>\n",
       "      <td>No</td>\n",
       "      <td>No</td>\n",
       "    </tr>\n",
       "  </tbody>\n",
       "</table>\n",
       "</div>"
      ],
      "text/plain": [
       "   customerID InternetService OnlineSecurity OnlineBackup DeviceProtection  \\\n",
       "0  7590-VHVEG             DSL             No          Yes               No   \n",
       "1  5575-GNVDE             DSL            Yes           No              Yes   \n",
       "2  3668-QPYBK             DSL            Yes          Yes               No   \n",
       "3  7795-CFOCW             DSL            Yes           No              Yes   \n",
       "4  9237-HQITU     Fiber optic             No           No               No   \n",
       "\n",
       "  TechSupport StreamingTV StreamingMovies  \n",
       "0          No          No              No  \n",
       "1          No          No              No  \n",
       "2          No          No              No  \n",
       "3         Yes          No              No  \n",
       "4          No          No              No  "
      ]
     },
     "metadata": {},
     "output_type": "display_data"
    },
    {
     "name": "stdout",
     "output_type": "stream",
     "text": [
      "\n",
      "\n",
      "Five random samples:\n"
     ]
    },
    {
     "data": {
      "text/html": [
       "<div>\n",
       "<style scoped>\n",
       "    .dataframe tbody tr th:only-of-type {\n",
       "        vertical-align: middle;\n",
       "    }\n",
       "\n",
       "    .dataframe tbody tr th {\n",
       "        vertical-align: top;\n",
       "    }\n",
       "\n",
       "    .dataframe thead th {\n",
       "        text-align: right;\n",
       "    }\n",
       "</style>\n",
       "<table border=\"1\" class=\"dataframe\">\n",
       "  <thead>\n",
       "    <tr style=\"text-align: right;\">\n",
       "      <th></th>\n",
       "      <th>customerID</th>\n",
       "      <th>InternetService</th>\n",
       "      <th>OnlineSecurity</th>\n",
       "      <th>OnlineBackup</th>\n",
       "      <th>DeviceProtection</th>\n",
       "      <th>TechSupport</th>\n",
       "      <th>StreamingTV</th>\n",
       "      <th>StreamingMovies</th>\n",
       "    </tr>\n",
       "  </thead>\n",
       "  <tbody>\n",
       "    <tr>\n",
       "      <th>1786</th>\n",
       "      <td>0093-EXYQL</td>\n",
       "      <td>Fiber optic</td>\n",
       "      <td>No</td>\n",
       "      <td>No</td>\n",
       "      <td>No</td>\n",
       "      <td>No</td>\n",
       "      <td>Yes</td>\n",
       "      <td>Yes</td>\n",
       "    </tr>\n",
       "    <tr>\n",
       "      <th>2493</th>\n",
       "      <td>3745-HRPHI</td>\n",
       "      <td>DSL</td>\n",
       "      <td>No</td>\n",
       "      <td>No</td>\n",
       "      <td>Yes</td>\n",
       "      <td>Yes</td>\n",
       "      <td>Yes</td>\n",
       "      <td>Yes</td>\n",
       "    </tr>\n",
       "    <tr>\n",
       "      <th>1989</th>\n",
       "      <td>4277-PVRAN</td>\n",
       "      <td>Fiber optic</td>\n",
       "      <td>No</td>\n",
       "      <td>No</td>\n",
       "      <td>No</td>\n",
       "      <td>No</td>\n",
       "      <td>Yes</td>\n",
       "      <td>No</td>\n",
       "    </tr>\n",
       "    <tr>\n",
       "      <th>1178</th>\n",
       "      <td>9242-TKFSV</td>\n",
       "      <td>DSL</td>\n",
       "      <td>Yes</td>\n",
       "      <td>Yes</td>\n",
       "      <td>Yes</td>\n",
       "      <td>Yes</td>\n",
       "      <td>Yes</td>\n",
       "      <td>Yes</td>\n",
       "    </tr>\n",
       "    <tr>\n",
       "      <th>1934</th>\n",
       "      <td>1475-VWVDO</td>\n",
       "      <td>Fiber optic</td>\n",
       "      <td>No</td>\n",
       "      <td>No</td>\n",
       "      <td>Yes</td>\n",
       "      <td>No</td>\n",
       "      <td>No</td>\n",
       "      <td>No</td>\n",
       "    </tr>\n",
       "  </tbody>\n",
       "</table>\n",
       "</div>"
      ],
      "text/plain": [
       "      customerID InternetService OnlineSecurity OnlineBackup DeviceProtection  \\\n",
       "1786  0093-EXYQL     Fiber optic             No           No               No   \n",
       "2493  3745-HRPHI             DSL             No           No              Yes   \n",
       "1989  4277-PVRAN     Fiber optic             No           No               No   \n",
       "1178  9242-TKFSV             DSL            Yes          Yes              Yes   \n",
       "1934  1475-VWVDO     Fiber optic             No           No              Yes   \n",
       "\n",
       "     TechSupport StreamingTV StreamingMovies  \n",
       "1786          No         Yes             Yes  \n",
       "2493         Yes         Yes             Yes  \n",
       "1989          No         Yes              No  \n",
       "1178         Yes         Yes             Yes  \n",
       "1934          No          No              No  "
      ]
     },
     "metadata": {},
     "output_type": "display_data"
    },
    {
     "name": "stdout",
     "output_type": "stream",
     "text": [
      "\n",
      "\n",
      "Last five rows:\n"
     ]
    },
    {
     "data": {
      "text/html": [
       "<div>\n",
       "<style scoped>\n",
       "    .dataframe tbody tr th:only-of-type {\n",
       "        vertical-align: middle;\n",
       "    }\n",
       "\n",
       "    .dataframe tbody tr th {\n",
       "        vertical-align: top;\n",
       "    }\n",
       "\n",
       "    .dataframe thead th {\n",
       "        text-align: right;\n",
       "    }\n",
       "</style>\n",
       "<table border=\"1\" class=\"dataframe\">\n",
       "  <thead>\n",
       "    <tr style=\"text-align: right;\">\n",
       "      <th></th>\n",
       "      <th>customerID</th>\n",
       "      <th>InternetService</th>\n",
       "      <th>OnlineSecurity</th>\n",
       "      <th>OnlineBackup</th>\n",
       "      <th>DeviceProtection</th>\n",
       "      <th>TechSupport</th>\n",
       "      <th>StreamingTV</th>\n",
       "      <th>StreamingMovies</th>\n",
       "    </tr>\n",
       "  </thead>\n",
       "  <tbody>\n",
       "    <tr>\n",
       "      <th>5512</th>\n",
       "      <td>6840-RESVB</td>\n",
       "      <td>DSL</td>\n",
       "      <td>Yes</td>\n",
       "      <td>No</td>\n",
       "      <td>Yes</td>\n",
       "      <td>Yes</td>\n",
       "      <td>Yes</td>\n",
       "      <td>Yes</td>\n",
       "    </tr>\n",
       "    <tr>\n",
       "      <th>5513</th>\n",
       "      <td>2234-XADUH</td>\n",
       "      <td>Fiber optic</td>\n",
       "      <td>No</td>\n",
       "      <td>Yes</td>\n",
       "      <td>Yes</td>\n",
       "      <td>No</td>\n",
       "      <td>Yes</td>\n",
       "      <td>Yes</td>\n",
       "    </tr>\n",
       "    <tr>\n",
       "      <th>5514</th>\n",
       "      <td>4801-JZAZL</td>\n",
       "      <td>DSL</td>\n",
       "      <td>Yes</td>\n",
       "      <td>No</td>\n",
       "      <td>No</td>\n",
       "      <td>No</td>\n",
       "      <td>No</td>\n",
       "      <td>No</td>\n",
       "    </tr>\n",
       "    <tr>\n",
       "      <th>5515</th>\n",
       "      <td>8361-LTMKD</td>\n",
       "      <td>Fiber optic</td>\n",
       "      <td>No</td>\n",
       "      <td>No</td>\n",
       "      <td>No</td>\n",
       "      <td>No</td>\n",
       "      <td>No</td>\n",
       "      <td>No</td>\n",
       "    </tr>\n",
       "    <tr>\n",
       "      <th>5516</th>\n",
       "      <td>3186-AJIEK</td>\n",
       "      <td>Fiber optic</td>\n",
       "      <td>Yes</td>\n",
       "      <td>No</td>\n",
       "      <td>Yes</td>\n",
       "      <td>Yes</td>\n",
       "      <td>Yes</td>\n",
       "      <td>Yes</td>\n",
       "    </tr>\n",
       "  </tbody>\n",
       "</table>\n",
       "</div>"
      ],
      "text/plain": [
       "      customerID InternetService OnlineSecurity OnlineBackup DeviceProtection  \\\n",
       "5512  6840-RESVB             DSL            Yes           No              Yes   \n",
       "5513  2234-XADUH     Fiber optic             No          Yes              Yes   \n",
       "5514  4801-JZAZL             DSL            Yes           No               No   \n",
       "5515  8361-LTMKD     Fiber optic             No           No               No   \n",
       "5516  3186-AJIEK     Fiber optic            Yes           No              Yes   \n",
       "\n",
       "     TechSupport StreamingTV StreamingMovies  \n",
       "5512         Yes         Yes             Yes  \n",
       "5513          No         Yes             Yes  \n",
       "5514          No          No              No  \n",
       "5515          No          No              No  \n",
       "5516         Yes         Yes             Yes  "
      ]
     },
     "metadata": {},
     "output_type": "display_data"
    },
    {
     "name": "stdout",
     "output_type": "stream",
     "text": [
      "\n",
      "\n",
      "Info and dtypes:\n",
      "<class 'pandas.core.frame.DataFrame'>\n",
      "RangeIndex: 5517 entries, 0 to 5516\n",
      "Data columns (total 8 columns):\n",
      " #   Column            Non-Null Count  Dtype \n",
      "---  ------            --------------  ----- \n",
      " 0   customerID        5517 non-null   object\n",
      " 1   InternetService   5517 non-null   object\n",
      " 2   OnlineSecurity    5517 non-null   object\n",
      " 3   OnlineBackup      5517 non-null   object\n",
      " 4   DeviceProtection  5517 non-null   object\n",
      " 5   TechSupport       5517 non-null   object\n",
      " 6   StreamingTV       5517 non-null   object\n",
      " 7   StreamingMovies   5517 non-null   object\n",
      "dtypes: object(8)\n",
      "memory usage: 344.9+ KB\n"
     ]
    },
    {
     "data": {
      "text/plain": [
       "None"
      ]
     },
     "metadata": {},
     "output_type": "display_data"
    },
    {
     "name": "stdout",
     "output_type": "stream",
     "text": [
      "\n",
      "\n",
      "Missing values %:\n"
     ]
    },
    {
     "data": {
      "text/plain": [
       "customerID          0.0\n",
       "InternetService     0.0\n",
       "OnlineSecurity      0.0\n",
       "OnlineBackup        0.0\n",
       "DeviceProtection    0.0\n",
       "TechSupport         0.0\n",
       "StreamingTV         0.0\n",
       "StreamingMovies     0.0\n",
       "dtype: float64"
      ]
     },
     "metadata": {},
     "output_type": "display_data"
    },
    {
     "name": "stdout",
     "output_type": "stream",
     "text": [
      "\n",
      "\n",
      "Duplicates:\n"
     ]
    },
    {
     "data": {
      "text/plain": [
       "0"
      ]
     },
     "metadata": {},
     "output_type": "display_data"
    },
    {
     "name": "stdout",
     "output_type": "stream",
     "text": [
      "\n",
      "\n"
     ]
    }
   ],
   "source": [
    "#Overview of internet df\n",
    "explore_df(int_df)"
   ]
  },
  {
   "cell_type": "code",
   "execution_count": 40,
   "id": "063898c2",
   "metadata": {},
   "outputs": [
    {
     "data": {
      "text/plain": [
       "Fiber optic    3096\n",
       "DSL            2421\n",
       "Name: InternetService, dtype: int64"
      ]
     },
     "execution_count": 40,
     "metadata": {},
     "output_type": "execute_result"
    }
   ],
   "source": [
    "#count unique values in internet services\n",
    "int_df['InternetService'].value_counts()"
   ]
  },
  {
   "cell_type": "markdown",
   "id": "4c44ff19",
   "metadata": {},
   "source": [
    "There are no missing or duplicated values in the dataframe containing internet data.\n",
    "\n",
    "\n",
    "Nonetheless, these changes need to be put in place:\n",
    "    \n",
    "- `internet.csv` — Internet information\n",
    "    - Convert column headers to snake_case.\n",
    "    - Change InternetService column by \"fiber_optic\", and set values to 1 (True) or 0 (False)\n",
    "  \n",
    "    - In every other column, change \"Yes\" by 1 and \"No\" by 0\n",
    "\n",
    "\n",
    "\n"
   ]
  },
  {
   "cell_type": "markdown",
   "id": "8956c45d",
   "metadata": {},
   "source": [
    "#### Convert column headers to snake_case"
   ]
  },
  {
   "cell_type": "code",
   "execution_count": 41,
   "id": "53c28cd4",
   "metadata": {},
   "outputs": [
    {
     "data": {
      "text/html": [
       "<div>\n",
       "<style scoped>\n",
       "    .dataframe tbody tr th:only-of-type {\n",
       "        vertical-align: middle;\n",
       "    }\n",
       "\n",
       "    .dataframe tbody tr th {\n",
       "        vertical-align: top;\n",
       "    }\n",
       "\n",
       "    .dataframe thead th {\n",
       "        text-align: right;\n",
       "    }\n",
       "</style>\n",
       "<table border=\"1\" class=\"dataframe\">\n",
       "  <thead>\n",
       "    <tr style=\"text-align: right;\">\n",
       "      <th></th>\n",
       "      <th>customer_id</th>\n",
       "      <th>internet_service</th>\n",
       "      <th>online_security</th>\n",
       "      <th>online_backup</th>\n",
       "      <th>device_protection</th>\n",
       "      <th>tech_support</th>\n",
       "      <th>streaming_t_v</th>\n",
       "      <th>streaming_movies</th>\n",
       "    </tr>\n",
       "  </thead>\n",
       "  <tbody>\n",
       "    <tr>\n",
       "      <th>0</th>\n",
       "      <td>7590-VHVEG</td>\n",
       "      <td>DSL</td>\n",
       "      <td>No</td>\n",
       "      <td>Yes</td>\n",
       "      <td>No</td>\n",
       "      <td>No</td>\n",
       "      <td>No</td>\n",
       "      <td>No</td>\n",
       "    </tr>\n",
       "    <tr>\n",
       "      <th>1</th>\n",
       "      <td>5575-GNVDE</td>\n",
       "      <td>DSL</td>\n",
       "      <td>Yes</td>\n",
       "      <td>No</td>\n",
       "      <td>Yes</td>\n",
       "      <td>No</td>\n",
       "      <td>No</td>\n",
       "      <td>No</td>\n",
       "    </tr>\n",
       "    <tr>\n",
       "      <th>2</th>\n",
       "      <td>3668-QPYBK</td>\n",
       "      <td>DSL</td>\n",
       "      <td>Yes</td>\n",
       "      <td>Yes</td>\n",
       "      <td>No</td>\n",
       "      <td>No</td>\n",
       "      <td>No</td>\n",
       "      <td>No</td>\n",
       "    </tr>\n",
       "    <tr>\n",
       "      <th>3</th>\n",
       "      <td>7795-CFOCW</td>\n",
       "      <td>DSL</td>\n",
       "      <td>Yes</td>\n",
       "      <td>No</td>\n",
       "      <td>Yes</td>\n",
       "      <td>Yes</td>\n",
       "      <td>No</td>\n",
       "      <td>No</td>\n",
       "    </tr>\n",
       "    <tr>\n",
       "      <th>4</th>\n",
       "      <td>9237-HQITU</td>\n",
       "      <td>Fiber optic</td>\n",
       "      <td>No</td>\n",
       "      <td>No</td>\n",
       "      <td>No</td>\n",
       "      <td>No</td>\n",
       "      <td>No</td>\n",
       "      <td>No</td>\n",
       "    </tr>\n",
       "  </tbody>\n",
       "</table>\n",
       "</div>"
      ],
      "text/plain": [
       "  customer_id internet_service online_security online_backup  \\\n",
       "0  7590-VHVEG              DSL              No           Yes   \n",
       "1  5575-GNVDE              DSL             Yes            No   \n",
       "2  3668-QPYBK              DSL             Yes           Yes   \n",
       "3  7795-CFOCW              DSL             Yes            No   \n",
       "4  9237-HQITU      Fiber optic              No            No   \n",
       "\n",
       "  device_protection tech_support streaming_t_v streaming_movies  \n",
       "0                No           No            No               No  \n",
       "1               Yes           No            No               No  \n",
       "2                No           No            No               No  \n",
       "3               Yes          Yes            No               No  \n",
       "4                No           No            No               No  "
      ]
     },
     "execution_count": 41,
     "metadata": {},
     "output_type": "execute_result"
    }
   ],
   "source": [
    "#rename personal data columns\n",
    "int_df=rename_col(int_df)\n",
    "\n",
    "#check replacement\n",
    "int_df.head()"
   ]
  },
  {
   "cell_type": "code",
   "execution_count": 42,
   "id": "2991dc1e",
   "metadata": {},
   "outputs": [
    {
     "data": {
      "text/html": [
       "<div>\n",
       "<style scoped>\n",
       "    .dataframe tbody tr th:only-of-type {\n",
       "        vertical-align: middle;\n",
       "    }\n",
       "\n",
       "    .dataframe tbody tr th {\n",
       "        vertical-align: top;\n",
       "    }\n",
       "\n",
       "    .dataframe thead th {\n",
       "        text-align: right;\n",
       "    }\n",
       "</style>\n",
       "<table border=\"1\" class=\"dataframe\">\n",
       "  <thead>\n",
       "    <tr style=\"text-align: right;\">\n",
       "      <th></th>\n",
       "      <th>customer_id</th>\n",
       "      <th>internet_service</th>\n",
       "      <th>online_security</th>\n",
       "      <th>online_backup</th>\n",
       "      <th>device_protection</th>\n",
       "      <th>tech_support</th>\n",
       "      <th>streaming_tv</th>\n",
       "      <th>streaming_movies</th>\n",
       "    </tr>\n",
       "  </thead>\n",
       "  <tbody>\n",
       "    <tr>\n",
       "      <th>0</th>\n",
       "      <td>7590-VHVEG</td>\n",
       "      <td>DSL</td>\n",
       "      <td>No</td>\n",
       "      <td>Yes</td>\n",
       "      <td>No</td>\n",
       "      <td>No</td>\n",
       "      <td>No</td>\n",
       "      <td>No</td>\n",
       "    </tr>\n",
       "    <tr>\n",
       "      <th>1</th>\n",
       "      <td>5575-GNVDE</td>\n",
       "      <td>DSL</td>\n",
       "      <td>Yes</td>\n",
       "      <td>No</td>\n",
       "      <td>Yes</td>\n",
       "      <td>No</td>\n",
       "      <td>No</td>\n",
       "      <td>No</td>\n",
       "    </tr>\n",
       "    <tr>\n",
       "      <th>2</th>\n",
       "      <td>3668-QPYBK</td>\n",
       "      <td>DSL</td>\n",
       "      <td>Yes</td>\n",
       "      <td>Yes</td>\n",
       "      <td>No</td>\n",
       "      <td>No</td>\n",
       "      <td>No</td>\n",
       "      <td>No</td>\n",
       "    </tr>\n",
       "    <tr>\n",
       "      <th>3</th>\n",
       "      <td>7795-CFOCW</td>\n",
       "      <td>DSL</td>\n",
       "      <td>Yes</td>\n",
       "      <td>No</td>\n",
       "      <td>Yes</td>\n",
       "      <td>Yes</td>\n",
       "      <td>No</td>\n",
       "      <td>No</td>\n",
       "    </tr>\n",
       "    <tr>\n",
       "      <th>4</th>\n",
       "      <td>9237-HQITU</td>\n",
       "      <td>Fiber optic</td>\n",
       "      <td>No</td>\n",
       "      <td>No</td>\n",
       "      <td>No</td>\n",
       "      <td>No</td>\n",
       "      <td>No</td>\n",
       "      <td>No</td>\n",
       "    </tr>\n",
       "  </tbody>\n",
       "</table>\n",
       "</div>"
      ],
      "text/plain": [
       "  customer_id internet_service online_security online_backup  \\\n",
       "0  7590-VHVEG              DSL              No           Yes   \n",
       "1  5575-GNVDE              DSL             Yes            No   \n",
       "2  3668-QPYBK              DSL             Yes           Yes   \n",
       "3  7795-CFOCW              DSL             Yes            No   \n",
       "4  9237-HQITU      Fiber optic              No            No   \n",
       "\n",
       "  device_protection tech_support streaming_tv streaming_movies  \n",
       "0                No           No           No               No  \n",
       "1               Yes           No           No               No  \n",
       "2                No           No           No               No  \n",
       "3               Yes          Yes           No               No  \n",
       "4                No           No           No               No  "
      ]
     },
     "execution_count": 42,
     "metadata": {},
     "output_type": "execute_result"
    }
   ],
   "source": [
    "#correct streaming tv format\n",
    "int_df=int_df.rename(columns={'streaming_t_v': 'streaming_tv'})\n",
    "\n",
    "#check replacement\n",
    "int_df.head()"
   ]
  },
  {
   "cell_type": "markdown",
   "id": "1af2c502",
   "metadata": {},
   "source": [
    "#### Change InternetService column by \"fiber_optic\", and set values to 1 (True) or 0 (False)"
   ]
  },
  {
   "cell_type": "code",
   "execution_count": 43,
   "id": "e5c0c91c",
   "metadata": {},
   "outputs": [
    {
     "data": {
      "text/html": [
       "<div>\n",
       "<style scoped>\n",
       "    .dataframe tbody tr th:only-of-type {\n",
       "        vertical-align: middle;\n",
       "    }\n",
       "\n",
       "    .dataframe tbody tr th {\n",
       "        vertical-align: top;\n",
       "    }\n",
       "\n",
       "    .dataframe thead th {\n",
       "        text-align: right;\n",
       "    }\n",
       "</style>\n",
       "<table border=\"1\" class=\"dataframe\">\n",
       "  <thead>\n",
       "    <tr style=\"text-align: right;\">\n",
       "      <th></th>\n",
       "      <th>customer_id</th>\n",
       "      <th>fiber_optic</th>\n",
       "      <th>online_security</th>\n",
       "      <th>online_backup</th>\n",
       "      <th>device_protection</th>\n",
       "      <th>tech_support</th>\n",
       "      <th>streaming_tv</th>\n",
       "      <th>streaming_movies</th>\n",
       "    </tr>\n",
       "  </thead>\n",
       "  <tbody>\n",
       "    <tr>\n",
       "      <th>0</th>\n",
       "      <td>7590-VHVEG</td>\n",
       "      <td>0</td>\n",
       "      <td>No</td>\n",
       "      <td>Yes</td>\n",
       "      <td>No</td>\n",
       "      <td>No</td>\n",
       "      <td>No</td>\n",
       "      <td>No</td>\n",
       "    </tr>\n",
       "    <tr>\n",
       "      <th>1</th>\n",
       "      <td>5575-GNVDE</td>\n",
       "      <td>0</td>\n",
       "      <td>Yes</td>\n",
       "      <td>No</td>\n",
       "      <td>Yes</td>\n",
       "      <td>No</td>\n",
       "      <td>No</td>\n",
       "      <td>No</td>\n",
       "    </tr>\n",
       "    <tr>\n",
       "      <th>2</th>\n",
       "      <td>3668-QPYBK</td>\n",
       "      <td>0</td>\n",
       "      <td>Yes</td>\n",
       "      <td>Yes</td>\n",
       "      <td>No</td>\n",
       "      <td>No</td>\n",
       "      <td>No</td>\n",
       "      <td>No</td>\n",
       "    </tr>\n",
       "    <tr>\n",
       "      <th>3</th>\n",
       "      <td>7795-CFOCW</td>\n",
       "      <td>0</td>\n",
       "      <td>Yes</td>\n",
       "      <td>No</td>\n",
       "      <td>Yes</td>\n",
       "      <td>Yes</td>\n",
       "      <td>No</td>\n",
       "      <td>No</td>\n",
       "    </tr>\n",
       "    <tr>\n",
       "      <th>4</th>\n",
       "      <td>9237-HQITU</td>\n",
       "      <td>1</td>\n",
       "      <td>No</td>\n",
       "      <td>No</td>\n",
       "      <td>No</td>\n",
       "      <td>No</td>\n",
       "      <td>No</td>\n",
       "      <td>No</td>\n",
       "    </tr>\n",
       "  </tbody>\n",
       "</table>\n",
       "</div>"
      ],
      "text/plain": [
       "  customer_id  fiber_optic online_security online_backup device_protection  \\\n",
       "0  7590-VHVEG            0              No           Yes                No   \n",
       "1  5575-GNVDE            0             Yes            No               Yes   \n",
       "2  3668-QPYBK            0             Yes           Yes                No   \n",
       "3  7795-CFOCW            0             Yes            No               Yes   \n",
       "4  9237-HQITU            1              No            No                No   \n",
       "\n",
       "  tech_support streaming_tv streaming_movies  \n",
       "0           No           No               No  \n",
       "1           No           No               No  \n",
       "2           No           No               No  \n",
       "3          Yes           No               No  \n",
       "4           No           No               No  "
      ]
     },
     "execution_count": 43,
     "metadata": {},
     "output_type": "execute_result"
    }
   ],
   "source": [
    "#Change internet service column name by fiber_optic\n",
    "int_df=int_df.rename(columns={'internet_service':'fiber_optic'})\n",
    "\n",
    "#set fiber_optic values to true or false\n",
    "int_df['fiber_optic']=int_df['fiber_optic'].replace('Fiber optic',1).replace('DSL',0)\n",
    "\n",
    "#check first five rows\n",
    "int_df.head()"
   ]
  },
  {
   "cell_type": "markdown",
   "id": "e542c576",
   "metadata": {},
   "source": [
    "#### In every other column, change \"Yes\" by 1 and \"No\" by 0"
   ]
  },
  {
   "cell_type": "code",
   "execution_count": 44,
   "id": "4bd46df3",
   "metadata": {},
   "outputs": [
    {
     "data": {
      "text/html": [
       "<div>\n",
       "<style scoped>\n",
       "    .dataframe tbody tr th:only-of-type {\n",
       "        vertical-align: middle;\n",
       "    }\n",
       "\n",
       "    .dataframe tbody tr th {\n",
       "        vertical-align: top;\n",
       "    }\n",
       "\n",
       "    .dataframe thead th {\n",
       "        text-align: right;\n",
       "    }\n",
       "</style>\n",
       "<table border=\"1\" class=\"dataframe\">\n",
       "  <thead>\n",
       "    <tr style=\"text-align: right;\">\n",
       "      <th></th>\n",
       "      <th>customer_id</th>\n",
       "      <th>fiber_optic</th>\n",
       "      <th>online_security</th>\n",
       "      <th>online_backup</th>\n",
       "      <th>device_protection</th>\n",
       "      <th>tech_support</th>\n",
       "      <th>streaming_tv</th>\n",
       "      <th>streaming_movies</th>\n",
       "    </tr>\n",
       "  </thead>\n",
       "  <tbody>\n",
       "    <tr>\n",
       "      <th>0</th>\n",
       "      <td>7590-VHVEG</td>\n",
       "      <td>0</td>\n",
       "      <td>0</td>\n",
       "      <td>1</td>\n",
       "      <td>0</td>\n",
       "      <td>0</td>\n",
       "      <td>0</td>\n",
       "      <td>0</td>\n",
       "    </tr>\n",
       "    <tr>\n",
       "      <th>1</th>\n",
       "      <td>5575-GNVDE</td>\n",
       "      <td>0</td>\n",
       "      <td>1</td>\n",
       "      <td>0</td>\n",
       "      <td>1</td>\n",
       "      <td>0</td>\n",
       "      <td>0</td>\n",
       "      <td>0</td>\n",
       "    </tr>\n",
       "    <tr>\n",
       "      <th>2</th>\n",
       "      <td>3668-QPYBK</td>\n",
       "      <td>0</td>\n",
       "      <td>1</td>\n",
       "      <td>1</td>\n",
       "      <td>0</td>\n",
       "      <td>0</td>\n",
       "      <td>0</td>\n",
       "      <td>0</td>\n",
       "    </tr>\n",
       "    <tr>\n",
       "      <th>3</th>\n",
       "      <td>7795-CFOCW</td>\n",
       "      <td>0</td>\n",
       "      <td>1</td>\n",
       "      <td>0</td>\n",
       "      <td>1</td>\n",
       "      <td>1</td>\n",
       "      <td>0</td>\n",
       "      <td>0</td>\n",
       "    </tr>\n",
       "    <tr>\n",
       "      <th>4</th>\n",
       "      <td>9237-HQITU</td>\n",
       "      <td>1</td>\n",
       "      <td>0</td>\n",
       "      <td>0</td>\n",
       "      <td>0</td>\n",
       "      <td>0</td>\n",
       "      <td>0</td>\n",
       "      <td>0</td>\n",
       "    </tr>\n",
       "  </tbody>\n",
       "</table>\n",
       "</div>"
      ],
      "text/plain": [
       "  customer_id  fiber_optic  online_security  online_backup  device_protection  \\\n",
       "0  7590-VHVEG            0                0              1                  0   \n",
       "1  5575-GNVDE            0                1              0                  1   \n",
       "2  3668-QPYBK            0                1              1                  0   \n",
       "3  7795-CFOCW            0                1              0                  1   \n",
       "4  9237-HQITU            1                0              0                  0   \n",
       "\n",
       "   tech_support  streaming_tv  streaming_movies  \n",
       "0             0             0                 0  \n",
       "1             0             0                 0  \n",
       "2             0             0                 0  \n",
       "3             1             0                 0  \n",
       "4             0             0                 0  "
      ]
     },
     "execution_count": 44,
     "metadata": {},
     "output_type": "execute_result"
    }
   ],
   "source": [
    "#replace yes by 1 and no by 0\n",
    "int_df.loc[:,'online_security':'streaming_movies']=int_df.loc[:,'online_security':'streaming_movies'].replace('Yes',1).replace('No',0)\n",
    "\n",
    "#check result\n",
    "int_df.head()"
   ]
  },
  {
   "cell_type": "code",
   "execution_count": 45,
   "id": "9bdaf27c",
   "metadata": {},
   "outputs": [
    {
     "name": "stdout",
     "output_type": "stream",
     "text": [
      "<class 'pandas.core.frame.DataFrame'>\n",
      "RangeIndex: 5517 entries, 0 to 5516\n",
      "Data columns (total 8 columns):\n",
      " #   Column             Non-Null Count  Dtype \n",
      "---  ------             --------------  ----- \n",
      " 0   customer_id        5517 non-null   object\n",
      " 1   fiber_optic        5517 non-null   int64 \n",
      " 2   online_security    5517 non-null   int64 \n",
      " 3   online_backup      5517 non-null   int64 \n",
      " 4   device_protection  5517 non-null   int64 \n",
      " 5   tech_support       5517 non-null   int64 \n",
      " 6   streaming_tv       5517 non-null   int64 \n",
      " 7   streaming_movies   5517 non-null   int64 \n",
      "dtypes: int64(7), object(1)\n",
      "memory usage: 344.9+ KB\n"
     ]
    }
   ],
   "source": [
    "#check dtypes\n",
    "int_df.info()"
   ]
  },
  {
   "cell_type": "markdown",
   "id": "361e31ca",
   "metadata": {},
   "source": [
    "### Phone "
   ]
  },
  {
   "cell_type": "code",
   "execution_count": 46,
   "id": "3aad2f3e",
   "metadata": {},
   "outputs": [
    {
     "name": "stdout",
     "output_type": "stream",
     "text": [
      "Top five rows:\n"
     ]
    },
    {
     "data": {
      "text/html": [
       "<div>\n",
       "<style scoped>\n",
       "    .dataframe tbody tr th:only-of-type {\n",
       "        vertical-align: middle;\n",
       "    }\n",
       "\n",
       "    .dataframe tbody tr th {\n",
       "        vertical-align: top;\n",
       "    }\n",
       "\n",
       "    .dataframe thead th {\n",
       "        text-align: right;\n",
       "    }\n",
       "</style>\n",
       "<table border=\"1\" class=\"dataframe\">\n",
       "  <thead>\n",
       "    <tr style=\"text-align: right;\">\n",
       "      <th></th>\n",
       "      <th>customerID</th>\n",
       "      <th>MultipleLines</th>\n",
       "    </tr>\n",
       "  </thead>\n",
       "  <tbody>\n",
       "    <tr>\n",
       "      <th>0</th>\n",
       "      <td>5575-GNVDE</td>\n",
       "      <td>No</td>\n",
       "    </tr>\n",
       "    <tr>\n",
       "      <th>1</th>\n",
       "      <td>3668-QPYBK</td>\n",
       "      <td>No</td>\n",
       "    </tr>\n",
       "    <tr>\n",
       "      <th>2</th>\n",
       "      <td>9237-HQITU</td>\n",
       "      <td>No</td>\n",
       "    </tr>\n",
       "    <tr>\n",
       "      <th>3</th>\n",
       "      <td>9305-CDSKC</td>\n",
       "      <td>Yes</td>\n",
       "    </tr>\n",
       "    <tr>\n",
       "      <th>4</th>\n",
       "      <td>1452-KIOVK</td>\n",
       "      <td>Yes</td>\n",
       "    </tr>\n",
       "  </tbody>\n",
       "</table>\n",
       "</div>"
      ],
      "text/plain": [
       "   customerID MultipleLines\n",
       "0  5575-GNVDE            No\n",
       "1  3668-QPYBK            No\n",
       "2  9237-HQITU            No\n",
       "3  9305-CDSKC           Yes\n",
       "4  1452-KIOVK           Yes"
      ]
     },
     "metadata": {},
     "output_type": "display_data"
    },
    {
     "name": "stdout",
     "output_type": "stream",
     "text": [
      "\n",
      "\n",
      "Five random samples:\n"
     ]
    },
    {
     "data": {
      "text/html": [
       "<div>\n",
       "<style scoped>\n",
       "    .dataframe tbody tr th:only-of-type {\n",
       "        vertical-align: middle;\n",
       "    }\n",
       "\n",
       "    .dataframe tbody tr th {\n",
       "        vertical-align: top;\n",
       "    }\n",
       "\n",
       "    .dataframe thead th {\n",
       "        text-align: right;\n",
       "    }\n",
       "</style>\n",
       "<table border=\"1\" class=\"dataframe\">\n",
       "  <thead>\n",
       "    <tr style=\"text-align: right;\">\n",
       "      <th></th>\n",
       "      <th>customerID</th>\n",
       "      <th>MultipleLines</th>\n",
       "    </tr>\n",
       "  </thead>\n",
       "  <tbody>\n",
       "    <tr>\n",
       "      <th>2504</th>\n",
       "      <td>3948-KXDUF</td>\n",
       "      <td>Yes</td>\n",
       "    </tr>\n",
       "    <tr>\n",
       "      <th>5465</th>\n",
       "      <td>2887-JPYLU</td>\n",
       "      <td>No</td>\n",
       "    </tr>\n",
       "    <tr>\n",
       "      <th>1245</th>\n",
       "      <td>9793-WECQC</td>\n",
       "      <td>No</td>\n",
       "    </tr>\n",
       "    <tr>\n",
       "      <th>4538</th>\n",
       "      <td>5600-PDUJF</td>\n",
       "      <td>No</td>\n",
       "    </tr>\n",
       "    <tr>\n",
       "      <th>392</th>\n",
       "      <td>5628-RKIFK</td>\n",
       "      <td>Yes</td>\n",
       "    </tr>\n",
       "  </tbody>\n",
       "</table>\n",
       "</div>"
      ],
      "text/plain": [
       "      customerID MultipleLines\n",
       "2504  3948-KXDUF           Yes\n",
       "5465  2887-JPYLU            No\n",
       "1245  9793-WECQC            No\n",
       "4538  5600-PDUJF            No\n",
       "392   5628-RKIFK           Yes"
      ]
     },
     "metadata": {},
     "output_type": "display_data"
    },
    {
     "name": "stdout",
     "output_type": "stream",
     "text": [
      "\n",
      "\n",
      "Last five rows:\n"
     ]
    },
    {
     "data": {
      "text/html": [
       "<div>\n",
       "<style scoped>\n",
       "    .dataframe tbody tr th:only-of-type {\n",
       "        vertical-align: middle;\n",
       "    }\n",
       "\n",
       "    .dataframe tbody tr th {\n",
       "        vertical-align: top;\n",
       "    }\n",
       "\n",
       "    .dataframe thead th {\n",
       "        text-align: right;\n",
       "    }\n",
       "</style>\n",
       "<table border=\"1\" class=\"dataframe\">\n",
       "  <thead>\n",
       "    <tr style=\"text-align: right;\">\n",
       "      <th></th>\n",
       "      <th>customerID</th>\n",
       "      <th>MultipleLines</th>\n",
       "    </tr>\n",
       "  </thead>\n",
       "  <tbody>\n",
       "    <tr>\n",
       "      <th>6356</th>\n",
       "      <td>2569-WGERO</td>\n",
       "      <td>No</td>\n",
       "    </tr>\n",
       "    <tr>\n",
       "      <th>6357</th>\n",
       "      <td>6840-RESVB</td>\n",
       "      <td>Yes</td>\n",
       "    </tr>\n",
       "    <tr>\n",
       "      <th>6358</th>\n",
       "      <td>2234-XADUH</td>\n",
       "      <td>Yes</td>\n",
       "    </tr>\n",
       "    <tr>\n",
       "      <th>6359</th>\n",
       "      <td>8361-LTMKD</td>\n",
       "      <td>Yes</td>\n",
       "    </tr>\n",
       "    <tr>\n",
       "      <th>6360</th>\n",
       "      <td>3186-AJIEK</td>\n",
       "      <td>No</td>\n",
       "    </tr>\n",
       "  </tbody>\n",
       "</table>\n",
       "</div>"
      ],
      "text/plain": [
       "      customerID MultipleLines\n",
       "6356  2569-WGERO            No\n",
       "6357  6840-RESVB           Yes\n",
       "6358  2234-XADUH           Yes\n",
       "6359  8361-LTMKD           Yes\n",
       "6360  3186-AJIEK            No"
      ]
     },
     "metadata": {},
     "output_type": "display_data"
    },
    {
     "name": "stdout",
     "output_type": "stream",
     "text": [
      "\n",
      "\n",
      "Info and dtypes:\n",
      "<class 'pandas.core.frame.DataFrame'>\n",
      "RangeIndex: 6361 entries, 0 to 6360\n",
      "Data columns (total 2 columns):\n",
      " #   Column         Non-Null Count  Dtype \n",
      "---  ------         --------------  ----- \n",
      " 0   customerID     6361 non-null   object\n",
      " 1   MultipleLines  6361 non-null   object\n",
      "dtypes: object(2)\n",
      "memory usage: 99.5+ KB\n"
     ]
    },
    {
     "data": {
      "text/plain": [
       "None"
      ]
     },
     "metadata": {},
     "output_type": "display_data"
    },
    {
     "name": "stdout",
     "output_type": "stream",
     "text": [
      "\n",
      "\n",
      "Missing values %:\n"
     ]
    },
    {
     "data": {
      "text/plain": [
       "customerID       0.0\n",
       "MultipleLines    0.0\n",
       "dtype: float64"
      ]
     },
     "metadata": {},
     "output_type": "display_data"
    },
    {
     "name": "stdout",
     "output_type": "stream",
     "text": [
      "\n",
      "\n",
      "Duplicates:\n"
     ]
    },
    {
     "data": {
      "text/plain": [
       "0"
      ]
     },
     "metadata": {},
     "output_type": "display_data"
    },
    {
     "name": "stdout",
     "output_type": "stream",
     "text": [
      "\n",
      "\n"
     ]
    }
   ],
   "source": [
    "#Overview of phone df\n",
    "explore_df(phone_df)"
   ]
  },
  {
   "cell_type": "markdown",
   "id": "f8eec37a",
   "metadata": {},
   "source": [
    "The dataframe containing phone data is complete, but we need to fix the following:\n",
    "\n",
    "    - Convert column headers to snake_case.\n",
    "   \n",
    "    - In 'MultipleLines' \"Yes\" by 1 and \"No\" by 0\n",
    "    \n",
    "\n",
    "\n",
    "\n"
   ]
  },
  {
   "cell_type": "code",
   "execution_count": 47,
   "id": "7c69d4fa",
   "metadata": {},
   "outputs": [
    {
     "data": {
      "text/html": [
       "<div>\n",
       "<style scoped>\n",
       "    .dataframe tbody tr th:only-of-type {\n",
       "        vertical-align: middle;\n",
       "    }\n",
       "\n",
       "    .dataframe tbody tr th {\n",
       "        vertical-align: top;\n",
       "    }\n",
       "\n",
       "    .dataframe thead th {\n",
       "        text-align: right;\n",
       "    }\n",
       "</style>\n",
       "<table border=\"1\" class=\"dataframe\">\n",
       "  <thead>\n",
       "    <tr style=\"text-align: right;\">\n",
       "      <th></th>\n",
       "      <th>customer_id</th>\n",
       "      <th>multiple_lines</th>\n",
       "    </tr>\n",
       "  </thead>\n",
       "  <tbody>\n",
       "    <tr>\n",
       "      <th>0</th>\n",
       "      <td>5575-GNVDE</td>\n",
       "      <td>No</td>\n",
       "    </tr>\n",
       "    <tr>\n",
       "      <th>1</th>\n",
       "      <td>3668-QPYBK</td>\n",
       "      <td>No</td>\n",
       "    </tr>\n",
       "    <tr>\n",
       "      <th>2</th>\n",
       "      <td>9237-HQITU</td>\n",
       "      <td>No</td>\n",
       "    </tr>\n",
       "    <tr>\n",
       "      <th>3</th>\n",
       "      <td>9305-CDSKC</td>\n",
       "      <td>Yes</td>\n",
       "    </tr>\n",
       "    <tr>\n",
       "      <th>4</th>\n",
       "      <td>1452-KIOVK</td>\n",
       "      <td>Yes</td>\n",
       "    </tr>\n",
       "  </tbody>\n",
       "</table>\n",
       "</div>"
      ],
      "text/plain": [
       "  customer_id multiple_lines\n",
       "0  5575-GNVDE             No\n",
       "1  3668-QPYBK             No\n",
       "2  9237-HQITU             No\n",
       "3  9305-CDSKC            Yes\n",
       "4  1452-KIOVK            Yes"
      ]
     },
     "execution_count": 47,
     "metadata": {},
     "output_type": "execute_result"
    }
   ],
   "source": [
    "#rename phone columns\n",
    "phone_df=rename_col(phone_df)\n",
    "\n",
    "#check replacement\n",
    "phone_df.head()"
   ]
  },
  {
   "cell_type": "code",
   "execution_count": 48,
   "id": "e0cb1618",
   "metadata": {},
   "outputs": [
    {
     "data": {
      "text/html": [
       "<div>\n",
       "<style scoped>\n",
       "    .dataframe tbody tr th:only-of-type {\n",
       "        vertical-align: middle;\n",
       "    }\n",
       "\n",
       "    .dataframe tbody tr th {\n",
       "        vertical-align: top;\n",
       "    }\n",
       "\n",
       "    .dataframe thead th {\n",
       "        text-align: right;\n",
       "    }\n",
       "</style>\n",
       "<table border=\"1\" class=\"dataframe\">\n",
       "  <thead>\n",
       "    <tr style=\"text-align: right;\">\n",
       "      <th></th>\n",
       "      <th>customer_id</th>\n",
       "      <th>multiple_lines</th>\n",
       "    </tr>\n",
       "  </thead>\n",
       "  <tbody>\n",
       "    <tr>\n",
       "      <th>0</th>\n",
       "      <td>5575-GNVDE</td>\n",
       "      <td>0</td>\n",
       "    </tr>\n",
       "    <tr>\n",
       "      <th>1</th>\n",
       "      <td>3668-QPYBK</td>\n",
       "      <td>0</td>\n",
       "    </tr>\n",
       "    <tr>\n",
       "      <th>2</th>\n",
       "      <td>9237-HQITU</td>\n",
       "      <td>0</td>\n",
       "    </tr>\n",
       "    <tr>\n",
       "      <th>3</th>\n",
       "      <td>9305-CDSKC</td>\n",
       "      <td>1</td>\n",
       "    </tr>\n",
       "    <tr>\n",
       "      <th>4</th>\n",
       "      <td>1452-KIOVK</td>\n",
       "      <td>1</td>\n",
       "    </tr>\n",
       "  </tbody>\n",
       "</table>\n",
       "</div>"
      ],
      "text/plain": [
       "  customer_id  multiple_lines\n",
       "0  5575-GNVDE               0\n",
       "1  3668-QPYBK               0\n",
       "2  9237-HQITU               0\n",
       "3  9305-CDSKC               1\n",
       "4  1452-KIOVK               1"
      ]
     },
     "execution_count": 48,
     "metadata": {},
     "output_type": "execute_result"
    }
   ],
   "source": [
    "#set multiple lines values to true or false\n",
    "phone_df['multiple_lines']=phone_df['multiple_lines'].replace('Yes',1).replace('No',0)\n",
    "\n",
    "#check result\n",
    "phone_df.head()"
   ]
  },
  {
   "cell_type": "markdown",
   "id": "a5dfdafb",
   "metadata": {},
   "source": [
    "### Conclusions\n",
    "\n",
    "Even though all the datasets are complete (no missing values) and there aren't any duplicated rows on them, we must flag the issue that both internet and phone datasets have less rows than contracts and personal data tables. This means that such information is missing for some customers.\n",
    "\n",
    "\n",
    "We will proceed to merge them by customer ID and assess how to fill out missing data."
   ]
  },
  {
   "cell_type": "markdown",
   "id": "1ac8cae8",
   "metadata": {},
   "source": [
    "### Merging DataFrames"
   ]
  },
  {
   "cell_type": "code",
   "execution_count": 49,
   "id": "f069ceeb",
   "metadata": {},
   "outputs": [],
   "source": [
    "#merge contracts df and personal df\n",
    "df= ctt_df.merge(pers_df, right_on='customer_id', left_on='customer_id', how='outer')\n"
   ]
  },
  {
   "cell_type": "code",
   "execution_count": 50,
   "id": "2e1d81bc",
   "metadata": {},
   "outputs": [
    {
     "data": {
      "text/plain": [
       "customer_id          0\n",
       "begin_date           0\n",
       "end_date             0\n",
       "type                 0\n",
       "paperless_billing    0\n",
       "payment_method       0\n",
       "monthly_charges      0\n",
       "total_charges        0\n",
       "churn                0\n",
       "automatic_payment    0\n",
       "female               0\n",
       "senior_citizen       0\n",
       "partner              0\n",
       "dependents           0\n",
       "dtype: int64"
      ]
     },
     "execution_count": 50,
     "metadata": {},
     "output_type": "execute_result"
    }
   ],
   "source": [
    "#check for missing values\n",
    "df.isna().sum()"
   ]
  },
  {
   "cell_type": "markdown",
   "id": "7abf5a6f",
   "metadata": {},
   "source": [
    "All the customer IDs included in each dataset were matched"
   ]
  },
  {
   "cell_type": "code",
   "execution_count": 51,
   "id": "9487c155",
   "metadata": {},
   "outputs": [
    {
     "data": {
      "text/plain": [
       "Index(['customer_id', 'begin_date', 'end_date', 'type', 'paperless_billing',\n",
       "       'payment_method', 'monthly_charges', 'total_charges', 'churn',\n",
       "       'automatic_payment', 'female', 'senior_citizen', 'partner',\n",
       "       'dependents', 'fiber_optic', 'online_security', 'online_backup',\n",
       "       'device_protection', 'tech_support', 'streaming_tv',\n",
       "       'streaming_movies'],\n",
       "      dtype='object')"
      ]
     },
     "execution_count": 51,
     "metadata": {},
     "output_type": "execute_result"
    }
   ],
   "source": [
    "#merge internet df\n",
    "df= df.merge(int_df, right_on='customer_id', left_on='customer_id', how='outer')\n",
    "df\n",
    "df.columns"
   ]
  },
  {
   "cell_type": "code",
   "execution_count": 52,
   "id": "5bedeef2",
   "metadata": {},
   "outputs": [
    {
     "data": {
      "text/plain": [
       "customer_id           0.00\n",
       "begin_date            0.00\n",
       "end_date              0.00\n",
       "type                  0.00\n",
       "paperless_billing     0.00\n",
       "payment_method        0.00\n",
       "monthly_charges       0.00\n",
       "total_charges         0.00\n",
       "churn                 0.00\n",
       "automatic_payment     0.00\n",
       "female                0.00\n",
       "senior_citizen        0.00\n",
       "partner               0.00\n",
       "dependents            0.00\n",
       "fiber_optic          21.67\n",
       "online_security      21.67\n",
       "online_backup        21.67\n",
       "device_protection    21.67\n",
       "tech_support         21.67\n",
       "streaming_tv         21.67\n",
       "streaming_movies     21.67\n",
       "dtype: float64"
      ]
     },
     "execution_count": 52,
     "metadata": {},
     "output_type": "execute_result"
    }
   ],
   "source": [
    "#calculate % of missing values\n",
    "round(df.isna().sum()/len(df)*100,2)"
   ]
  },
  {
   "cell_type": "markdown",
   "id": "0d837e33",
   "metadata": {},
   "source": [
    "The 22% of the values relating to internet plan information are missing and need to be filled out, as it's too large a percentage as to drop out the rows."
   ]
  },
  {
   "cell_type": "markdown",
   "id": "9ed192cb",
   "metadata": {},
   "source": [
    "For filling missing values, we will proceed to set them as -1 (bear in mind that we are only dealing with binary columns) to indicate that the user did not have any internet plan hired, as we assume such is the reason for them not to be in place.\n"
   ]
  },
  {
   "cell_type": "code",
   "execution_count": 53,
   "id": "20a573ac",
   "metadata": {},
   "outputs": [],
   "source": [
    "#fill missing values with -1\n",
    "\n",
    "for col in df.loc[:,'fiber_optic':].columns:\n",
    "    df[col]= df[col].fillna(-1)"
   ]
  },
  {
   "cell_type": "code",
   "execution_count": 54,
   "id": "b6abf96d",
   "metadata": {},
   "outputs": [
    {
     "data": {
      "text/plain": [
       "customer_id          0\n",
       "begin_date           0\n",
       "end_date             0\n",
       "type                 0\n",
       "paperless_billing    0\n",
       "payment_method       0\n",
       "monthly_charges      0\n",
       "total_charges        0\n",
       "churn                0\n",
       "automatic_payment    0\n",
       "female               0\n",
       "senior_citizen       0\n",
       "partner              0\n",
       "dependents           0\n",
       "fiber_optic          0\n",
       "online_security      0\n",
       "online_backup        0\n",
       "device_protection    0\n",
       "tech_support         0\n",
       "streaming_tv         0\n",
       "streaming_movies     0\n",
       "dtype: int64"
      ]
     },
     "execution_count": 54,
     "metadata": {},
     "output_type": "execute_result"
    }
   ],
   "source": [
    "#check fulfillment\n",
    "df.isna().sum()"
   ]
  },
  {
   "cell_type": "code",
   "execution_count": 55,
   "id": "bcd59751",
   "metadata": {},
   "outputs": [
    {
     "data": {
      "text/plain": [
       "customer_id          0.00\n",
       "begin_date           0.00\n",
       "end_date             0.00\n",
       "type                 0.00\n",
       "paperless_billing    0.00\n",
       "payment_method       0.00\n",
       "monthly_charges      0.00\n",
       "total_charges        0.00\n",
       "churn                0.00\n",
       "automatic_payment    0.00\n",
       "female               0.00\n",
       "senior_citizen       0.00\n",
       "partner              0.00\n",
       "dependents           0.00\n",
       "fiber_optic          0.00\n",
       "online_security      0.00\n",
       "online_backup        0.00\n",
       "device_protection    0.00\n",
       "tech_support         0.00\n",
       "streaming_tv         0.00\n",
       "streaming_movies     0.00\n",
       "multiple_lines       9.68\n",
       "dtype: float64"
      ]
     },
     "execution_count": 55,
     "metadata": {},
     "output_type": "execute_result"
    }
   ],
   "source": [
    "#merge phone df\n",
    "df=df.merge(phone_df, right_on='customer_id', left_on='customer_id', how='outer')\n",
    "#calculate % of missing values\n",
    "round(df.isna().sum()/len(df)*100,2)"
   ]
  },
  {
   "cell_type": "markdown",
   "id": "7bd7acc0",
   "metadata": {},
   "source": [
    "An extra 10% of the values relating to phone services information are missing, and will apply the same workaround as above to fix them."
   ]
  },
  {
   "cell_type": "code",
   "execution_count": 56,
   "id": "7eb65697",
   "metadata": {},
   "outputs": [
    {
     "data": {
      "text/plain": [
       "customer_id          0\n",
       "begin_date           0\n",
       "end_date             0\n",
       "type                 0\n",
       "paperless_billing    0\n",
       "payment_method       0\n",
       "monthly_charges      0\n",
       "total_charges        0\n",
       "churn                0\n",
       "automatic_payment    0\n",
       "female               0\n",
       "senior_citizen       0\n",
       "partner              0\n",
       "dependents           0\n",
       "fiber_optic          0\n",
       "online_security      0\n",
       "online_backup        0\n",
       "device_protection    0\n",
       "tech_support         0\n",
       "streaming_tv         0\n",
       "streaming_movies     0\n",
       "multiple_lines       0\n",
       "dtype: int64"
      ]
     },
     "execution_count": 56,
     "metadata": {},
     "output_type": "execute_result"
    }
   ],
   "source": [
    "#apply function to column with missing values\n",
    "df['multiple_lines']= df['multiple_lines'].fillna(-1)\n",
    "\n",
    "\n",
    "#check fulfillment\n",
    "df.isna().sum()"
   ]
  },
  {
   "cell_type": "markdown",
   "id": "c38566d1",
   "metadata": {},
   "source": [
    "The final tweak will consist of splitting begin_date into day_suscribed and year_suscribed to make it suitable for model processing, and convert binary columns to integer.\n",
    "\n",
    "Also, we'll drop out customer_ID, end_date and begin_date as they're not useful anymore.\n"
   ]
  },
  {
   "cell_type": "code",
   "execution_count": 57,
   "id": "76c69550",
   "metadata": {},
   "outputs": [
    {
     "data": {
      "text/html": [
       "<div>\n",
       "<style scoped>\n",
       "    .dataframe tbody tr th:only-of-type {\n",
       "        vertical-align: middle;\n",
       "    }\n",
       "\n",
       "    .dataframe tbody tr th {\n",
       "        vertical-align: top;\n",
       "    }\n",
       "\n",
       "    .dataframe thead th {\n",
       "        text-align: right;\n",
       "    }\n",
       "</style>\n",
       "<table border=\"1\" class=\"dataframe\">\n",
       "  <thead>\n",
       "    <tr style=\"text-align: right;\">\n",
       "      <th></th>\n",
       "      <th>customer_id</th>\n",
       "      <th>begin_date</th>\n",
       "      <th>end_date</th>\n",
       "      <th>type</th>\n",
       "      <th>paperless_billing</th>\n",
       "      <th>payment_method</th>\n",
       "      <th>monthly_charges</th>\n",
       "      <th>total_charges</th>\n",
       "      <th>churn</th>\n",
       "      <th>automatic_payment</th>\n",
       "      <th>...</th>\n",
       "      <th>fiber_optic</th>\n",
       "      <th>online_security</th>\n",
       "      <th>online_backup</th>\n",
       "      <th>device_protection</th>\n",
       "      <th>tech_support</th>\n",
       "      <th>streaming_tv</th>\n",
       "      <th>streaming_movies</th>\n",
       "      <th>multiple_lines</th>\n",
       "      <th>month_suscribed</th>\n",
       "      <th>year_suscribed</th>\n",
       "    </tr>\n",
       "  </thead>\n",
       "  <tbody>\n",
       "    <tr>\n",
       "      <th>0</th>\n",
       "      <td>7590-VHVEG</td>\n",
       "      <td>2020-01-01</td>\n",
       "      <td>2020-02-01</td>\n",
       "      <td>3</td>\n",
       "      <td>1</td>\n",
       "      <td>Electronic check</td>\n",
       "      <td>29.85</td>\n",
       "      <td>29.85</td>\n",
       "      <td>0</td>\n",
       "      <td>0</td>\n",
       "      <td>...</td>\n",
       "      <td>0.0</td>\n",
       "      <td>0.0</td>\n",
       "      <td>1.0</td>\n",
       "      <td>0.0</td>\n",
       "      <td>0.0</td>\n",
       "      <td>0.0</td>\n",
       "      <td>0.0</td>\n",
       "      <td>-1.0</td>\n",
       "      <td>1</td>\n",
       "      <td>2020</td>\n",
       "    </tr>\n",
       "    <tr>\n",
       "      <th>1</th>\n",
       "      <td>5575-GNVDE</td>\n",
       "      <td>2017-04-01</td>\n",
       "      <td>2020-02-01</td>\n",
       "      <td>2</td>\n",
       "      <td>0</td>\n",
       "      <td>Mailed check</td>\n",
       "      <td>56.95</td>\n",
       "      <td>1889.50</td>\n",
       "      <td>0</td>\n",
       "      <td>0</td>\n",
       "      <td>...</td>\n",
       "      <td>0.0</td>\n",
       "      <td>1.0</td>\n",
       "      <td>0.0</td>\n",
       "      <td>1.0</td>\n",
       "      <td>0.0</td>\n",
       "      <td>0.0</td>\n",
       "      <td>0.0</td>\n",
       "      <td>0.0</td>\n",
       "      <td>4</td>\n",
       "      <td>2017</td>\n",
       "    </tr>\n",
       "    <tr>\n",
       "      <th>2</th>\n",
       "      <td>3668-QPYBK</td>\n",
       "      <td>2019-10-01</td>\n",
       "      <td>2019-12-01</td>\n",
       "      <td>3</td>\n",
       "      <td>1</td>\n",
       "      <td>Mailed check</td>\n",
       "      <td>53.85</td>\n",
       "      <td>108.15</td>\n",
       "      <td>1</td>\n",
       "      <td>0</td>\n",
       "      <td>...</td>\n",
       "      <td>0.0</td>\n",
       "      <td>1.0</td>\n",
       "      <td>1.0</td>\n",
       "      <td>0.0</td>\n",
       "      <td>0.0</td>\n",
       "      <td>0.0</td>\n",
       "      <td>0.0</td>\n",
       "      <td>0.0</td>\n",
       "      <td>10</td>\n",
       "      <td>2019</td>\n",
       "    </tr>\n",
       "    <tr>\n",
       "      <th>3</th>\n",
       "      <td>7795-CFOCW</td>\n",
       "      <td>2016-05-01</td>\n",
       "      <td>2020-02-01</td>\n",
       "      <td>2</td>\n",
       "      <td>0</td>\n",
       "      <td>Bank transfer</td>\n",
       "      <td>42.30</td>\n",
       "      <td>1840.75</td>\n",
       "      <td>0</td>\n",
       "      <td>1</td>\n",
       "      <td>...</td>\n",
       "      <td>0.0</td>\n",
       "      <td>1.0</td>\n",
       "      <td>0.0</td>\n",
       "      <td>1.0</td>\n",
       "      <td>1.0</td>\n",
       "      <td>0.0</td>\n",
       "      <td>0.0</td>\n",
       "      <td>-1.0</td>\n",
       "      <td>5</td>\n",
       "      <td>2016</td>\n",
       "    </tr>\n",
       "    <tr>\n",
       "      <th>4</th>\n",
       "      <td>9237-HQITU</td>\n",
       "      <td>2019-09-01</td>\n",
       "      <td>2019-11-01</td>\n",
       "      <td>3</td>\n",
       "      <td>1</td>\n",
       "      <td>Electronic check</td>\n",
       "      <td>70.70</td>\n",
       "      <td>151.65</td>\n",
       "      <td>1</td>\n",
       "      <td>0</td>\n",
       "      <td>...</td>\n",
       "      <td>1.0</td>\n",
       "      <td>0.0</td>\n",
       "      <td>0.0</td>\n",
       "      <td>0.0</td>\n",
       "      <td>0.0</td>\n",
       "      <td>0.0</td>\n",
       "      <td>0.0</td>\n",
       "      <td>0.0</td>\n",
       "      <td>9</td>\n",
       "      <td>2019</td>\n",
       "    </tr>\n",
       "  </tbody>\n",
       "</table>\n",
       "<p>5 rows × 24 columns</p>\n",
       "</div>"
      ],
      "text/plain": [
       "  customer_id begin_date   end_date  type  paperless_billing  \\\n",
       "0  7590-VHVEG 2020-01-01 2020-02-01     3                  1   \n",
       "1  5575-GNVDE 2017-04-01 2020-02-01     2                  0   \n",
       "2  3668-QPYBK 2019-10-01 2019-12-01     3                  1   \n",
       "3  7795-CFOCW 2016-05-01 2020-02-01     2                  0   \n",
       "4  9237-HQITU 2019-09-01 2019-11-01     3                  1   \n",
       "\n",
       "     payment_method  monthly_charges  total_charges  churn  automatic_payment  \\\n",
       "0  Electronic check            29.85          29.85      0                  0   \n",
       "1      Mailed check            56.95        1889.50      0                  0   \n",
       "2      Mailed check            53.85         108.15      1                  0   \n",
       "3    Bank transfer             42.30        1840.75      0                  1   \n",
       "4  Electronic check            70.70         151.65      1                  0   \n",
       "\n",
       "   ...  fiber_optic  online_security  online_backup  device_protection  \\\n",
       "0  ...          0.0              0.0            1.0                0.0   \n",
       "1  ...          0.0              1.0            0.0                1.0   \n",
       "2  ...          0.0              1.0            1.0                0.0   \n",
       "3  ...          0.0              1.0            0.0                1.0   \n",
       "4  ...          1.0              0.0            0.0                0.0   \n",
       "\n",
       "   tech_support  streaming_tv  streaming_movies  multiple_lines  \\\n",
       "0           0.0           0.0               0.0            -1.0   \n",
       "1           0.0           0.0               0.0             0.0   \n",
       "2           0.0           0.0               0.0             0.0   \n",
       "3           1.0           0.0               0.0            -1.0   \n",
       "4           0.0           0.0               0.0             0.0   \n",
       "\n",
       "   month_suscribed  year_suscribed  \n",
       "0                1            2020  \n",
       "1                4            2017  \n",
       "2               10            2019  \n",
       "3                5            2016  \n",
       "4                9            2019  \n",
       "\n",
       "[5 rows x 24 columns]"
      ]
     },
     "execution_count": 57,
     "metadata": {},
     "output_type": "execute_result"
    }
   ],
   "source": [
    "#add a column with month and year of suscription\n",
    "df['month_suscribed']= df['begin_date'].apply(lambda x: x.month)\n",
    "df['year_suscribed']= df['begin_date'].apply(lambda x: x.year)\n",
    "\n",
    "df.head()"
   ]
  },
  {
   "cell_type": "code",
   "execution_count": 58,
   "id": "a9b0aaa3",
   "metadata": {},
   "outputs": [
    {
     "data": {
      "text/html": [
       "<div>\n",
       "<style scoped>\n",
       "    .dataframe tbody tr th:only-of-type {\n",
       "        vertical-align: middle;\n",
       "    }\n",
       "\n",
       "    .dataframe tbody tr th {\n",
       "        vertical-align: top;\n",
       "    }\n",
       "\n",
       "    .dataframe thead th {\n",
       "        text-align: right;\n",
       "    }\n",
       "</style>\n",
       "<table border=\"1\" class=\"dataframe\">\n",
       "  <thead>\n",
       "    <tr style=\"text-align: right;\">\n",
       "      <th></th>\n",
       "      <th>type</th>\n",
       "      <th>paperless_billing</th>\n",
       "      <th>payment_method</th>\n",
       "      <th>monthly_charges</th>\n",
       "      <th>total_charges</th>\n",
       "      <th>churn</th>\n",
       "      <th>automatic_payment</th>\n",
       "      <th>female</th>\n",
       "      <th>senior_citizen</th>\n",
       "      <th>partner</th>\n",
       "      <th>...</th>\n",
       "      <th>fiber_optic</th>\n",
       "      <th>online_security</th>\n",
       "      <th>online_backup</th>\n",
       "      <th>device_protection</th>\n",
       "      <th>tech_support</th>\n",
       "      <th>streaming_tv</th>\n",
       "      <th>streaming_movies</th>\n",
       "      <th>multiple_lines</th>\n",
       "      <th>month_suscribed</th>\n",
       "      <th>year_suscribed</th>\n",
       "    </tr>\n",
       "  </thead>\n",
       "  <tbody>\n",
       "    <tr>\n",
       "      <th>0</th>\n",
       "      <td>3</td>\n",
       "      <td>1</td>\n",
       "      <td>Electronic check</td>\n",
       "      <td>29.85</td>\n",
       "      <td>29.85</td>\n",
       "      <td>0</td>\n",
       "      <td>0</td>\n",
       "      <td>1</td>\n",
       "      <td>0</td>\n",
       "      <td>1</td>\n",
       "      <td>...</td>\n",
       "      <td>0.0</td>\n",
       "      <td>0.0</td>\n",
       "      <td>1.0</td>\n",
       "      <td>0.0</td>\n",
       "      <td>0.0</td>\n",
       "      <td>0.0</td>\n",
       "      <td>0.0</td>\n",
       "      <td>-1.0</td>\n",
       "      <td>1</td>\n",
       "      <td>2020</td>\n",
       "    </tr>\n",
       "    <tr>\n",
       "      <th>1</th>\n",
       "      <td>2</td>\n",
       "      <td>0</td>\n",
       "      <td>Mailed check</td>\n",
       "      <td>56.95</td>\n",
       "      <td>1889.50</td>\n",
       "      <td>0</td>\n",
       "      <td>0</td>\n",
       "      <td>0</td>\n",
       "      <td>0</td>\n",
       "      <td>0</td>\n",
       "      <td>...</td>\n",
       "      <td>0.0</td>\n",
       "      <td>1.0</td>\n",
       "      <td>0.0</td>\n",
       "      <td>1.0</td>\n",
       "      <td>0.0</td>\n",
       "      <td>0.0</td>\n",
       "      <td>0.0</td>\n",
       "      <td>0.0</td>\n",
       "      <td>4</td>\n",
       "      <td>2017</td>\n",
       "    </tr>\n",
       "    <tr>\n",
       "      <th>2</th>\n",
       "      <td>3</td>\n",
       "      <td>1</td>\n",
       "      <td>Mailed check</td>\n",
       "      <td>53.85</td>\n",
       "      <td>108.15</td>\n",
       "      <td>1</td>\n",
       "      <td>0</td>\n",
       "      <td>0</td>\n",
       "      <td>0</td>\n",
       "      <td>0</td>\n",
       "      <td>...</td>\n",
       "      <td>0.0</td>\n",
       "      <td>1.0</td>\n",
       "      <td>1.0</td>\n",
       "      <td>0.0</td>\n",
       "      <td>0.0</td>\n",
       "      <td>0.0</td>\n",
       "      <td>0.0</td>\n",
       "      <td>0.0</td>\n",
       "      <td>10</td>\n",
       "      <td>2019</td>\n",
       "    </tr>\n",
       "    <tr>\n",
       "      <th>3</th>\n",
       "      <td>2</td>\n",
       "      <td>0</td>\n",
       "      <td>Bank transfer</td>\n",
       "      <td>42.30</td>\n",
       "      <td>1840.75</td>\n",
       "      <td>0</td>\n",
       "      <td>1</td>\n",
       "      <td>0</td>\n",
       "      <td>0</td>\n",
       "      <td>0</td>\n",
       "      <td>...</td>\n",
       "      <td>0.0</td>\n",
       "      <td>1.0</td>\n",
       "      <td>0.0</td>\n",
       "      <td>1.0</td>\n",
       "      <td>1.0</td>\n",
       "      <td>0.0</td>\n",
       "      <td>0.0</td>\n",
       "      <td>-1.0</td>\n",
       "      <td>5</td>\n",
       "      <td>2016</td>\n",
       "    </tr>\n",
       "    <tr>\n",
       "      <th>4</th>\n",
       "      <td>3</td>\n",
       "      <td>1</td>\n",
       "      <td>Electronic check</td>\n",
       "      <td>70.70</td>\n",
       "      <td>151.65</td>\n",
       "      <td>1</td>\n",
       "      <td>0</td>\n",
       "      <td>1</td>\n",
       "      <td>0</td>\n",
       "      <td>0</td>\n",
       "      <td>...</td>\n",
       "      <td>1.0</td>\n",
       "      <td>0.0</td>\n",
       "      <td>0.0</td>\n",
       "      <td>0.0</td>\n",
       "      <td>0.0</td>\n",
       "      <td>0.0</td>\n",
       "      <td>0.0</td>\n",
       "      <td>0.0</td>\n",
       "      <td>9</td>\n",
       "      <td>2019</td>\n",
       "    </tr>\n",
       "  </tbody>\n",
       "</table>\n",
       "<p>5 rows × 21 columns</p>\n",
       "</div>"
      ],
      "text/plain": [
       "   type  paperless_billing    payment_method  monthly_charges  total_charges  \\\n",
       "0     3                  1  Electronic check            29.85          29.85   \n",
       "1     2                  0      Mailed check            56.95        1889.50   \n",
       "2     3                  1      Mailed check            53.85         108.15   \n",
       "3     2                  0    Bank transfer             42.30        1840.75   \n",
       "4     3                  1  Electronic check            70.70         151.65   \n",
       "\n",
       "   churn  automatic_payment  female  senior_citizen  partner  ...  \\\n",
       "0      0                  0       1               0        1  ...   \n",
       "1      0                  0       0               0        0  ...   \n",
       "2      1                  0       0               0        0  ...   \n",
       "3      0                  1       0               0        0  ...   \n",
       "4      1                  0       1               0        0  ...   \n",
       "\n",
       "   fiber_optic  online_security  online_backup  device_protection  \\\n",
       "0          0.0              0.0            1.0                0.0   \n",
       "1          0.0              1.0            0.0                1.0   \n",
       "2          0.0              1.0            1.0                0.0   \n",
       "3          0.0              1.0            0.0                1.0   \n",
       "4          1.0              0.0            0.0                0.0   \n",
       "\n",
       "   tech_support  streaming_tv  streaming_movies  multiple_lines  \\\n",
       "0           0.0           0.0               0.0            -1.0   \n",
       "1           0.0           0.0               0.0             0.0   \n",
       "2           0.0           0.0               0.0             0.0   \n",
       "3           1.0           0.0               0.0            -1.0   \n",
       "4           0.0           0.0               0.0             0.0   \n",
       "\n",
       "   month_suscribed  year_suscribed  \n",
       "0                1            2020  \n",
       "1                4            2017  \n",
       "2               10            2019  \n",
       "3                5            2016  \n",
       "4                9            2019  \n",
       "\n",
       "[5 rows x 21 columns]"
      ]
     },
     "execution_count": 58,
     "metadata": {},
     "output_type": "execute_result"
    }
   ],
   "source": [
    "#drop customer ID\n",
    "df=df.drop(['customer_id','end_date','begin_date'], axis=1)\n",
    "df.head()"
   ]
  },
  {
   "cell_type": "code",
   "execution_count": 59,
   "id": "0ae9b7b4",
   "metadata": {},
   "outputs": [
    {
     "name": "stdout",
     "output_type": "stream",
     "text": [
      "<class 'pandas.core.frame.DataFrame'>\n",
      "Int64Index: 7043 entries, 0 to 7042\n",
      "Data columns (total 21 columns):\n",
      " #   Column             Non-Null Count  Dtype  \n",
      "---  ------             --------------  -----  \n",
      " 0   type               7043 non-null   int64  \n",
      " 1   paperless_billing  7043 non-null   int64  \n",
      " 2   payment_method     7043 non-null   object \n",
      " 3   monthly_charges    7043 non-null   float64\n",
      " 4   total_charges      7043 non-null   float64\n",
      " 5   churn              7043 non-null   int64  \n",
      " 6   automatic_payment  7043 non-null   int64  \n",
      " 7   female             7043 non-null   int64  \n",
      " 8   senior_citizen     7043 non-null   int64  \n",
      " 9   partner            7043 non-null   int64  \n",
      " 10  dependents         7043 non-null   int64  \n",
      " 11  fiber_optic        7043 non-null   int32  \n",
      " 12  online_security    7043 non-null   int32  \n",
      " 13  online_backup      7043 non-null   int32  \n",
      " 14  device_protection  7043 non-null   int32  \n",
      " 15  tech_support       7043 non-null   int32  \n",
      " 16  streaming_tv       7043 non-null   int32  \n",
      " 17  streaming_movies   7043 non-null   int32  \n",
      " 18  multiple_lines     7043 non-null   int32  \n",
      " 19  month_suscribed    7043 non-null   int32  \n",
      " 20  year_suscribed     7043 non-null   int32  \n",
      "dtypes: float64(2), int32(10), int64(8), object(1)\n",
      "memory usage: 935.4+ KB\n"
     ]
    }
   ],
   "source": [
    "#convert binary columns to int\n",
    "\n",
    "for col in df.loc[:,'fiber_optic':]:\n",
    "    df[col]=df[col].astype('int')\n",
    "\n",
    "#check result\n",
    "df.info()"
   ]
  },
  {
   "cell_type": "markdown",
   "id": "41dadb8b",
   "metadata": {},
   "source": [
    "#### Plot a heatmap to assess the correlation of numerical features to the target\n"
   ]
  },
  {
   "cell_type": "code",
   "execution_count": 60,
   "id": "b263f403",
   "metadata": {},
   "outputs": [
    {
     "data": {
      "image/png": "[encoded data removed]",
      "text/plain": [
       "<Figure size 1080x1080 with 2 Axes>"
      ]
     },
     "metadata": {
      "needs_background": "light"
     },
     "output_type": "display_data"
    }
   ],
   "source": [
    "#plot correlation chart with the numerical features\n",
    "corr = df.corr()\n",
    "fig, ax = plt.subplots(figsize=(15,15))  \n",
    "ax = sns.heatmap(\n",
    "    corr[['churn']].sort_values(by='churn', ascending=False), \n",
    "    vmin=-1, vmax=1, center=0,\n",
    "    cmap=sns.diverging_palette(20, 220, n=200),\n",
    "    square=True, annot=True\n",
    ")\n",
    "ax.set_xticklabels(\n",
    "    ax.get_xticklabels(),\n",
    "    rotation=45,\n",
    "    horizontalalignment='right'\n",
    ")\n",
    "plt.show()"
   ]
  },
  {
   "cell_type": "markdown",
   "id": "3d9e4bfa",
   "metadata": {},
   "source": [
    "The conclusions drawn from the chart are that the contract type (as labeled above) positively correlates to churn (in alignment to the hypothesis that long term contracts are expected to have a lower churn rate). Clients that have fiber optic instead of DSL also had a higher propensity to leave. Month_suscribed and year_suscribed are positively correlated to churn too, what means that older customers are more likely to stay, whereas the ones who unsuscribe tend to be recently added clients. \n",
    "\n",
    "Paperless_billing and monthly_charges have a positive correlation to churn as well (except that in a smaller measure), meaning that clients who are not sent their bill in paper had a higher churn rate, as well as those with greater monthly charges. Finally, seniority had a low but positive correlation, as well as streaming TV and movies (this can be due to users interested in such service moving to another provider, and can indicate that Interconnect needs to improve that cornerstone for fidelizing users interested in that service.)\n",
    "\n",
    "On the counterside the ones who paid by automatic means had a lower churn rate, so the company should try and to pull clients to commit to this suscription, maybe offering a discount to people who have their service fee charged automatically. Total charges had a negative correlation to churn, following the same line as suscription date: the ones who were suscribed longer, most typically had higher total charges, and a lower churn rate.\n",
    "\n",
    "Lastly, users who had dependants or a partner were less likely to quit, probably because there's one or more users at home who need to access the service.\n"
   ]
  },
  {
   "cell_type": "markdown",
   "id": "0833a065",
   "metadata": {},
   "source": [
    "#### Assess class imbalance"
   ]
  },
  {
   "cell_type": "code",
   "execution_count": 61,
   "id": "ec1b0134",
   "metadata": {},
   "outputs": [
    {
     "name": "stdout",
     "output_type": "stream",
     "text": [
      "0    0.73463\n",
      "1    0.26537\n",
      "Name: churn, dtype: float64\n"
     ]
    },
    {
     "data": {
      "image/png": "[encoded data removed]",
      "text/plain": [
       "<Figure size 432x288 with 1 Axes>"
      ]
     },
     "metadata": {
      "needs_background": "light"
     },
     "output_type": "display_data"
    }
   ],
   "source": [
    "#Print and plot percentages of users who churned vs. those who didn't\n",
    "class_frequency= df['churn'].value_counts(normalize=True)\n",
    "print(class_frequency)\n",
    "class_frequency.plot(kind='bar')\n",
    "plt.show()"
   ]
  },
  {
   "cell_type": "markdown",
   "id": "27ad3785",
   "metadata": {},
   "source": [
    "Users who churned are underepresented in the set. We will bear this in mind for building the work plan below."
   ]
  },
  {
   "cell_type": "markdown",
   "id": "000abab7",
   "metadata": {},
   "source": [
    "## Stage 3. Work plan<a id='work_plan'></a>"
   ]
  },
  {
   "cell_type": "markdown",
   "id": "a130908e",
   "metadata": {},
   "source": [
    "### QUESTIONS\n",
    "\n",
    "1) Do you agree with the approach applied to the gender and fiber_optic columns? (Changing \"gender\" by female and \"InternetService\" by \"fiber_optic\" and  and setting values to 1 (True) or (False) \n",
    "\n",
    "2) Is removing the end_date column and leaving the calculation of \"days_suscribed\" and \"begin_date\" (timestamp) instead a good way to go in your opinion?\n",
    "\n",
    "3) As for \"payment method\", do you think it's ok to use label encoding/OHE as appropriate depending on the model type? i.e., as this feature is neither ordinal non binary, as \"contract type\" (natural order in the values) or gender/internet service.\n",
    "\n",
    "4) What's your opinion regarding using a logistic regressor to fill out information about internet/phone plans from customers for whom we're missing this data?\n",
    "\n",
    "5) Would you try out as many models as included in the work plan, or take some of them out for the sake of time-saving?"
   ]
  },
  {
   "cell_type": "markdown",
   "id": "508c11b0",
   "metadata": {},
   "source": [
    "### Encoding categorical variable  <a id='encoding'></a>"
   ]
  },
  {
   "cell_type": "markdown",
   "id": "8aa57c37",
   "metadata": {},
   "source": [
    "#### Label encoding"
   ]
  },
  {
   "cell_type": "code",
   "execution_count": 62,
   "id": "f2e359f4",
   "metadata": {},
   "outputs": [
    {
     "data": {
      "text/html": [
       "<div>\n",
       "<style scoped>\n",
       "    .dataframe tbody tr th:only-of-type {\n",
       "        vertical-align: middle;\n",
       "    }\n",
       "\n",
       "    .dataframe tbody tr th {\n",
       "        vertical-align: top;\n",
       "    }\n",
       "\n",
       "    .dataframe thead th {\n",
       "        text-align: right;\n",
       "    }\n",
       "</style>\n",
       "<table border=\"1\" class=\"dataframe\">\n",
       "  <thead>\n",
       "    <tr style=\"text-align: right;\">\n",
       "      <th></th>\n",
       "      <th>payment_method</th>\n",
       "    </tr>\n",
       "  </thead>\n",
       "  <tbody>\n",
       "    <tr>\n",
       "      <th>0</th>\n",
       "      <td>2.0</td>\n",
       "    </tr>\n",
       "    <tr>\n",
       "      <th>1</th>\n",
       "      <td>3.0</td>\n",
       "    </tr>\n",
       "    <tr>\n",
       "      <th>2</th>\n",
       "      <td>3.0</td>\n",
       "    </tr>\n",
       "    <tr>\n",
       "      <th>3</th>\n",
       "      <td>0.0</td>\n",
       "    </tr>\n",
       "    <tr>\n",
       "      <th>4</th>\n",
       "      <td>2.0</td>\n",
       "    </tr>\n",
       "  </tbody>\n",
       "</table>\n",
       "</div>"
      ],
      "text/plain": [
       "   payment_method\n",
       "0             2.0\n",
       "1             3.0\n",
       "2             3.0\n",
       "3             0.0\n",
       "4             2.0"
      ]
     },
     "execution_count": 62,
     "metadata": {},
     "output_type": "execute_result"
    }
   ],
   "source": [
    "#Label-encode categorical data\n",
    "cat_col=[col for col in df.columns if df[col].dtype=='object' ]\n",
    "encoder = OrdinalEncoder() \n",
    "encoder.fit(df[cat_col]) \n",
    "df_ord = pd.DataFrame(encoder.transform(df[cat_col]),columns=cat_col) \n",
    "df_ord.head()"
   ]
  },
  {
   "cell_type": "code",
   "execution_count": 63,
   "id": "d891547b",
   "metadata": {},
   "outputs": [
    {
     "data": {
      "text/html": [
       "<div>\n",
       "<style scoped>\n",
       "    .dataframe tbody tr th:only-of-type {\n",
       "        vertical-align: middle;\n",
       "    }\n",
       "\n",
       "    .dataframe tbody tr th {\n",
       "        vertical-align: top;\n",
       "    }\n",
       "\n",
       "    .dataframe thead th {\n",
       "        text-align: right;\n",
       "    }\n",
       "</style>\n",
       "<table border=\"1\" class=\"dataframe\">\n",
       "  <thead>\n",
       "    <tr style=\"text-align: right;\">\n",
       "      <th></th>\n",
       "      <th>type</th>\n",
       "      <th>paperless_billing</th>\n",
       "      <th>monthly_charges</th>\n",
       "      <th>total_charges</th>\n",
       "      <th>churn</th>\n",
       "      <th>automatic_payment</th>\n",
       "      <th>female</th>\n",
       "      <th>senior_citizen</th>\n",
       "      <th>partner</th>\n",
       "      <th>dependents</th>\n",
       "      <th>...</th>\n",
       "      <th>online_security</th>\n",
       "      <th>online_backup</th>\n",
       "      <th>device_protection</th>\n",
       "      <th>tech_support</th>\n",
       "      <th>streaming_tv</th>\n",
       "      <th>streaming_movies</th>\n",
       "      <th>multiple_lines</th>\n",
       "      <th>month_suscribed</th>\n",
       "      <th>year_suscribed</th>\n",
       "      <th>payment_method</th>\n",
       "    </tr>\n",
       "  </thead>\n",
       "  <tbody>\n",
       "    <tr>\n",
       "      <th>0</th>\n",
       "      <td>3</td>\n",
       "      <td>1</td>\n",
       "      <td>29.85</td>\n",
       "      <td>29.85</td>\n",
       "      <td>0</td>\n",
       "      <td>0</td>\n",
       "      <td>1</td>\n",
       "      <td>0</td>\n",
       "      <td>1</td>\n",
       "      <td>0</td>\n",
       "      <td>...</td>\n",
       "      <td>0</td>\n",
       "      <td>1</td>\n",
       "      <td>0</td>\n",
       "      <td>0</td>\n",
       "      <td>0</td>\n",
       "      <td>0</td>\n",
       "      <td>-1</td>\n",
       "      <td>1</td>\n",
       "      <td>2020</td>\n",
       "      <td>2.0</td>\n",
       "    </tr>\n",
       "    <tr>\n",
       "      <th>1</th>\n",
       "      <td>2</td>\n",
       "      <td>0</td>\n",
       "      <td>56.95</td>\n",
       "      <td>1889.50</td>\n",
       "      <td>0</td>\n",
       "      <td>0</td>\n",
       "      <td>0</td>\n",
       "      <td>0</td>\n",
       "      <td>0</td>\n",
       "      <td>0</td>\n",
       "      <td>...</td>\n",
       "      <td>1</td>\n",
       "      <td>0</td>\n",
       "      <td>1</td>\n",
       "      <td>0</td>\n",
       "      <td>0</td>\n",
       "      <td>0</td>\n",
       "      <td>0</td>\n",
       "      <td>4</td>\n",
       "      <td>2017</td>\n",
       "      <td>3.0</td>\n",
       "    </tr>\n",
       "    <tr>\n",
       "      <th>2</th>\n",
       "      <td>3</td>\n",
       "      <td>1</td>\n",
       "      <td>53.85</td>\n",
       "      <td>108.15</td>\n",
       "      <td>1</td>\n",
       "      <td>0</td>\n",
       "      <td>0</td>\n",
       "      <td>0</td>\n",
       "      <td>0</td>\n",
       "      <td>0</td>\n",
       "      <td>...</td>\n",
       "      <td>1</td>\n",
       "      <td>1</td>\n",
       "      <td>0</td>\n",
       "      <td>0</td>\n",
       "      <td>0</td>\n",
       "      <td>0</td>\n",
       "      <td>0</td>\n",
       "      <td>10</td>\n",
       "      <td>2019</td>\n",
       "      <td>3.0</td>\n",
       "    </tr>\n",
       "    <tr>\n",
       "      <th>3</th>\n",
       "      <td>2</td>\n",
       "      <td>0</td>\n",
       "      <td>42.30</td>\n",
       "      <td>1840.75</td>\n",
       "      <td>0</td>\n",
       "      <td>1</td>\n",
       "      <td>0</td>\n",
       "      <td>0</td>\n",
       "      <td>0</td>\n",
       "      <td>0</td>\n",
       "      <td>...</td>\n",
       "      <td>1</td>\n",
       "      <td>0</td>\n",
       "      <td>1</td>\n",
       "      <td>1</td>\n",
       "      <td>0</td>\n",
       "      <td>0</td>\n",
       "      <td>-1</td>\n",
       "      <td>5</td>\n",
       "      <td>2016</td>\n",
       "      <td>0.0</td>\n",
       "    </tr>\n",
       "    <tr>\n",
       "      <th>4</th>\n",
       "      <td>3</td>\n",
       "      <td>1</td>\n",
       "      <td>70.70</td>\n",
       "      <td>151.65</td>\n",
       "      <td>1</td>\n",
       "      <td>0</td>\n",
       "      <td>1</td>\n",
       "      <td>0</td>\n",
       "      <td>0</td>\n",
       "      <td>0</td>\n",
       "      <td>...</td>\n",
       "      <td>0</td>\n",
       "      <td>0</td>\n",
       "      <td>0</td>\n",
       "      <td>0</td>\n",
       "      <td>0</td>\n",
       "      <td>0</td>\n",
       "      <td>0</td>\n",
       "      <td>9</td>\n",
       "      <td>2019</td>\n",
       "      <td>2.0</td>\n",
       "    </tr>\n",
       "  </tbody>\n",
       "</table>\n",
       "<p>5 rows × 21 columns</p>\n",
       "</div>"
      ],
      "text/plain": [
       "   type  paperless_billing  monthly_charges  total_charges  churn  \\\n",
       "0     3                  1            29.85          29.85      0   \n",
       "1     2                  0            56.95        1889.50      0   \n",
       "2     3                  1            53.85         108.15      1   \n",
       "3     2                  0            42.30        1840.75      0   \n",
       "4     3                  1            70.70         151.65      1   \n",
       "\n",
       "   automatic_payment  female  senior_citizen  partner  dependents  ...  \\\n",
       "0                  0       1               0        1           0  ...   \n",
       "1                  0       0               0        0           0  ...   \n",
       "2                  0       0               0        0           0  ...   \n",
       "3                  1       0               0        0           0  ...   \n",
       "4                  0       1               0        0           0  ...   \n",
       "\n",
       "   online_security  online_backup  device_protection  tech_support  \\\n",
       "0                0              1                  0             0   \n",
       "1                1              0                  1             0   \n",
       "2                1              1                  0             0   \n",
       "3                1              0                  1             1   \n",
       "4                0              0                  0             0   \n",
       "\n",
       "   streaming_tv  streaming_movies  multiple_lines  month_suscribed  \\\n",
       "0             0                 0              -1                1   \n",
       "1             0                 0               0                4   \n",
       "2             0                 0               0               10   \n",
       "3             0                 0              -1                5   \n",
       "4             0                 0               0                9   \n",
       "\n",
       "   year_suscribed  payment_method  \n",
       "0            2020             2.0  \n",
       "1            2017             3.0  \n",
       "2            2019             3.0  \n",
       "3            2016             0.0  \n",
       "4            2019             2.0  \n",
       "\n",
       "[5 rows x 21 columns]"
      ]
     },
     "execution_count": 63,
     "metadata": {},
     "output_type": "execute_result"
    }
   ],
   "source": [
    "#list with non categorical columns\n",
    "non_cat_col=[col for col in df.columns if df[col].dtype!='object' ]\n",
    "\n",
    "#join with non categorical columns\n",
    "df_ord=df[non_cat_col].join( df_ord).copy()\n",
    "\n",
    "#print first five rows\n",
    "df_ord.head()"
   ]
  },
  {
   "cell_type": "markdown",
   "id": "a30508e3",
   "metadata": {},
   "source": [
    "#### One-Hot encoding"
   ]
  },
  {
   "cell_type": "code",
   "execution_count": 64,
   "id": "db8b2a16",
   "metadata": {},
   "outputs": [
    {
     "data": {
      "text/html": [
       "<div>\n",
       "<style scoped>\n",
       "    .dataframe tbody tr th:only-of-type {\n",
       "        vertical-align: middle;\n",
       "    }\n",
       "\n",
       "    .dataframe tbody tr th {\n",
       "        vertical-align: top;\n",
       "    }\n",
       "\n",
       "    .dataframe thead th {\n",
       "        text-align: right;\n",
       "    }\n",
       "</style>\n",
       "<table border=\"1\" class=\"dataframe\">\n",
       "  <thead>\n",
       "    <tr style=\"text-align: right;\">\n",
       "      <th></th>\n",
       "      <th>type</th>\n",
       "      <th>paperless_billing</th>\n",
       "      <th>monthly_charges</th>\n",
       "      <th>total_charges</th>\n",
       "      <th>churn</th>\n",
       "      <th>automatic_payment</th>\n",
       "      <th>female</th>\n",
       "      <th>senior_citizen</th>\n",
       "      <th>partner</th>\n",
       "      <th>dependents</th>\n",
       "      <th>...</th>\n",
       "      <th>device_protection</th>\n",
       "      <th>tech_support</th>\n",
       "      <th>streaming_tv</th>\n",
       "      <th>streaming_movies</th>\n",
       "      <th>multiple_lines</th>\n",
       "      <th>month_suscribed</th>\n",
       "      <th>year_suscribed</th>\n",
       "      <th>payment_method_Credit card</th>\n",
       "      <th>payment_method_Electronic check</th>\n",
       "      <th>payment_method_Mailed check</th>\n",
       "    </tr>\n",
       "  </thead>\n",
       "  <tbody>\n",
       "    <tr>\n",
       "      <th>0</th>\n",
       "      <td>3</td>\n",
       "      <td>1</td>\n",
       "      <td>29.85</td>\n",
       "      <td>29.85</td>\n",
       "      <td>0</td>\n",
       "      <td>0</td>\n",
       "      <td>1</td>\n",
       "      <td>0</td>\n",
       "      <td>1</td>\n",
       "      <td>0</td>\n",
       "      <td>...</td>\n",
       "      <td>0</td>\n",
       "      <td>0</td>\n",
       "      <td>0</td>\n",
       "      <td>0</td>\n",
       "      <td>-1</td>\n",
       "      <td>1</td>\n",
       "      <td>2020</td>\n",
       "      <td>0</td>\n",
       "      <td>1</td>\n",
       "      <td>0</td>\n",
       "    </tr>\n",
       "    <tr>\n",
       "      <th>1</th>\n",
       "      <td>2</td>\n",
       "      <td>0</td>\n",
       "      <td>56.95</td>\n",
       "      <td>1889.50</td>\n",
       "      <td>0</td>\n",
       "      <td>0</td>\n",
       "      <td>0</td>\n",
       "      <td>0</td>\n",
       "      <td>0</td>\n",
       "      <td>0</td>\n",
       "      <td>...</td>\n",
       "      <td>1</td>\n",
       "      <td>0</td>\n",
       "      <td>0</td>\n",
       "      <td>0</td>\n",
       "      <td>0</td>\n",
       "      <td>4</td>\n",
       "      <td>2017</td>\n",
       "      <td>0</td>\n",
       "      <td>0</td>\n",
       "      <td>1</td>\n",
       "    </tr>\n",
       "    <tr>\n",
       "      <th>2</th>\n",
       "      <td>3</td>\n",
       "      <td>1</td>\n",
       "      <td>53.85</td>\n",
       "      <td>108.15</td>\n",
       "      <td>1</td>\n",
       "      <td>0</td>\n",
       "      <td>0</td>\n",
       "      <td>0</td>\n",
       "      <td>0</td>\n",
       "      <td>0</td>\n",
       "      <td>...</td>\n",
       "      <td>0</td>\n",
       "      <td>0</td>\n",
       "      <td>0</td>\n",
       "      <td>0</td>\n",
       "      <td>0</td>\n",
       "      <td>10</td>\n",
       "      <td>2019</td>\n",
       "      <td>0</td>\n",
       "      <td>0</td>\n",
       "      <td>1</td>\n",
       "    </tr>\n",
       "    <tr>\n",
       "      <th>3</th>\n",
       "      <td>2</td>\n",
       "      <td>0</td>\n",
       "      <td>42.30</td>\n",
       "      <td>1840.75</td>\n",
       "      <td>0</td>\n",
       "      <td>1</td>\n",
       "      <td>0</td>\n",
       "      <td>0</td>\n",
       "      <td>0</td>\n",
       "      <td>0</td>\n",
       "      <td>...</td>\n",
       "      <td>1</td>\n",
       "      <td>1</td>\n",
       "      <td>0</td>\n",
       "      <td>0</td>\n",
       "      <td>-1</td>\n",
       "      <td>5</td>\n",
       "      <td>2016</td>\n",
       "      <td>0</td>\n",
       "      <td>0</td>\n",
       "      <td>0</td>\n",
       "    </tr>\n",
       "    <tr>\n",
       "      <th>4</th>\n",
       "      <td>3</td>\n",
       "      <td>1</td>\n",
       "      <td>70.70</td>\n",
       "      <td>151.65</td>\n",
       "      <td>1</td>\n",
       "      <td>0</td>\n",
       "      <td>1</td>\n",
       "      <td>0</td>\n",
       "      <td>0</td>\n",
       "      <td>0</td>\n",
       "      <td>...</td>\n",
       "      <td>0</td>\n",
       "      <td>0</td>\n",
       "      <td>0</td>\n",
       "      <td>0</td>\n",
       "      <td>0</td>\n",
       "      <td>9</td>\n",
       "      <td>2019</td>\n",
       "      <td>0</td>\n",
       "      <td>1</td>\n",
       "      <td>0</td>\n",
       "    </tr>\n",
       "  </tbody>\n",
       "</table>\n",
       "<p>5 rows × 23 columns</p>\n",
       "</div>"
      ],
      "text/plain": [
       "   type  paperless_billing  monthly_charges  total_charges  churn  \\\n",
       "0     3                  1            29.85          29.85      0   \n",
       "1     2                  0            56.95        1889.50      0   \n",
       "2     3                  1            53.85         108.15      1   \n",
       "3     2                  0            42.30        1840.75      0   \n",
       "4     3                  1            70.70         151.65      1   \n",
       "\n",
       "   automatic_payment  female  senior_citizen  partner  dependents  ...  \\\n",
       "0                  0       1               0        1           0  ...   \n",
       "1                  0       0               0        0           0  ...   \n",
       "2                  0       0               0        0           0  ...   \n",
       "3                  1       0               0        0           0  ...   \n",
       "4                  0       1               0        0           0  ...   \n",
       "\n",
       "   device_protection  tech_support  streaming_tv  streaming_movies  \\\n",
       "0                  0             0             0                 0   \n",
       "1                  1             0             0                 0   \n",
       "2                  0             0             0                 0   \n",
       "3                  1             1             0                 0   \n",
       "4                  0             0             0                 0   \n",
       "\n",
       "   multiple_lines  month_suscribed  year_suscribed  \\\n",
       "0              -1                1            2020   \n",
       "1               0                4            2017   \n",
       "2               0               10            2019   \n",
       "3              -1                5            2016   \n",
       "4               0                9            2019   \n",
       "\n",
       "   payment_method_Credit card   payment_method_Electronic check  \\\n",
       "0                            0                                1   \n",
       "1                            0                                0   \n",
       "2                            0                                0   \n",
       "3                            0                                0   \n",
       "4                            0                                1   \n",
       "\n",
       "   payment_method_Mailed check  \n",
       "0                            0  \n",
       "1                            1  \n",
       "2                            1  \n",
       "3                            0  \n",
       "4                            0  \n",
       "\n",
       "[5 rows x 23 columns]"
      ]
     },
     "execution_count": 64,
     "metadata": {},
     "output_type": "execute_result"
    }
   ],
   "source": [
    "#encode categorical variables using OHE (most suitable apporach for regression)\n",
    "df_ohe = pd.get_dummies(df, drop_first=True)\n",
    "df_ohe.head()\n"
   ]
  },
  {
   "cell_type": "markdown",
   "id": "fa1557c3",
   "metadata": {},
   "source": [
    "### Split into train and test set and separate features from target <a id='split'></a>"
   ]
  },
  {
   "cell_type": "code",
   "execution_count": 65,
   "id": "f947f45a",
   "metadata": {},
   "outputs": [],
   "source": [
    "def train_test (df):\n",
    "    train_df, test_df = train_test_split(df, test_size=0.20, random_state=12345 )\n",
    "    return  train_df, test_df"
   ]
  },
  {
   "cell_type": "code",
   "execution_count": 66,
   "id": "0930fcbf",
   "metadata": {},
   "outputs": [],
   "source": [
    "#Split datasets into train and test\n",
    "train_OHE, test_OHE= train_test(df_ohe)\n",
    "train_ord, test_ord= train_test(df_ord)\n"
   ]
  },
  {
   "cell_type": "code",
   "execution_count": 67,
   "id": "ca139a5b",
   "metadata": {},
   "outputs": [],
   "source": [
    "#separate features from target (as random state is fixed, both datsets will be split alike)\n",
    "#so there's no need to store target separately\n",
    "\n",
    "train_X_OHE= train_OHE.drop('churn', axis=1)\n",
    "test_X_OHE= test_OHE.drop('churn', axis=1)\n",
    "train_X_ord= train_ord.drop('churn', axis=1)\n",
    "test_X_ord= test_ord.drop('churn', axis=1)\n",
    "train_y= train_OHE['churn']\n",
    "test_y=test_OHE['churn']"
   ]
  },
  {
   "cell_type": "markdown",
   "id": "bedbd96e",
   "metadata": {},
   "source": [
    "### Upsample the train set <a id='upsampling'></a>"
   ]
  },
  {
   "cell_type": "markdown",
   "id": "10b23d3a",
   "metadata": {},
   "source": [
    "**Upsampling: repeating the samples with the rarest class result (churn=1)**\n",
    "\n",
    "Upsampling is performed in several steps:\n",
    "\n",
    "- Split the training sample into negative and positive observations;\n",
    "\n",
    "- Duplicate the positive observations several times;\n",
    "\n",
    "- Create a new training sample based on the data obtained;\n",
    "\n",
    "- Shuffle the data: identical questions following one another will not help the training."
   ]
  },
  {
   "cell_type": "code",
   "execution_count": 68,
   "id": "20783d45",
   "metadata": {},
   "outputs": [],
   "source": [
    "#Define function to upsample the train set\n",
    "def upsample(features, target, repeat):\n",
    "    features_zeros = features[target == 0]\n",
    "    features_ones = features[target == 1]\n",
    "    target_zeros = target[target == 0]\n",
    "    target_ones = target[target == 1]\n",
    "\n",
    "    features_upsampled = pd.concat([features_zeros] + [features_ones] * repeat)\n",
    "    target_upsampled = pd.concat([target_zeros] + [target_ones] * repeat)\n",
    "\n",
    "    features_upsampled, target_upsampled = shuffle(\n",
    "        features_upsampled, target_upsampled, random_state=12345\n",
    "    )\n",
    "    \n",
    "    return features_upsampled, target_upsampled"
   ]
  },
  {
   "cell_type": "code",
   "execution_count": 69,
   "id": "6e1e07bf",
   "metadata": {},
   "outputs": [],
   "source": [
    "#upsample the train set\n",
    "\n",
    "train_X_OHE_up, train_y_up = upsample(train_X_OHE, train_y,3)\n",
    "train_X_ord_up, train_y_up = upsample(train_X_ord, train_y,3)\n"
   ]
  },
  {
   "cell_type": "markdown",
   "id": "ebe2f344",
   "metadata": {},
   "source": [
    "### Scale the features in the train and test set <a id='scaling'></a>"
   ]
  },
  {
   "cell_type": "code",
   "execution_count": 70,
   "id": "46c23c4c",
   "metadata": {},
   "outputs": [],
   "source": [
    "#scale the upsampled train features and the test features (OHE)\n",
    "scaler = StandardScaler()\n",
    "scaler.fit(train_X_OHE) \n",
    "\n",
    "train_X_OHE_up_scl= scaler.transform(train_X_OHE_up)\n",
    "test_X_OHE_scl= scaler.transform(test_X_OHE)"
   ]
  },
  {
   "cell_type": "code",
   "execution_count": 71,
   "id": "be3d4ac1",
   "metadata": {},
   "outputs": [],
   "source": [
    "#scale the upsampled train features and the test features (Label encoded)\n",
    "scaler = StandardScaler()\n",
    "scaler.fit(train_X_ord) \n",
    "\n",
    "train_X_ord_up_scl= scaler.transform(train_X_ord_up)\n",
    "test_X_ord_scl= scaler.transform(test_X_ord)"
   ]
  },
  {
   "cell_type": "code",
   "execution_count": 72,
   "id": "ee38dba5",
   "metadata": {},
   "outputs": [],
   "source": [
    "#define function to apply cross validation upsampling and scaling the data at each fold\n",
    "def best_hyperparameters_cv (model, features, target, k_folds=4, repeat=3, scale=False):\n",
    "    '''takes a model, train features and train target, together with the k_folds (4 by default) to be applied when\n",
    "    cross-validating the model, and the nº of repetitions for the underpresented class to upscale (3 by default)\n",
    "    If scale=True, the features will be scaled as well.'''\n",
    "    \n",
    "    features.reset_index(inplace=True, drop=True)\n",
    "    target.reset_index(inplace=True, drop=True)\n",
    "    \n",
    "      \n",
    "    \n",
    "    sample_size= len(features)//k_folds\n",
    "    \n",
    "        \n",
    "    scores=[]\n",
    "    for i in range(0, len(features)-sample_size, sample_size):\n",
    "\n",
    "        valid_indexes=range(i, i+sample_size)\n",
    "        train_indexes=list(range(0,i))+list(range(i+sample_size, len(features))) \n",
    "\n",
    "        features_train = features.iloc[train_indexes]\n",
    "        features_valid = features.iloc[valid_indexes]\n",
    "        target_train = target.iloc[train_indexes]\n",
    "        target_valid = target.iloc[valid_indexes]\n",
    "        \n",
    "        if scale:\n",
    "            #scale the upsampled train features and the test feature\n",
    "            scaler = StandardScaler()\n",
    "            scaler.fit(features_train) \n",
    "\n",
    "            features_train = pd.DataFrame(scaler.transform(features_train), columns=features_train.columns, index=train_indexes)\n",
    "            features_valid =  pd.DataFrame(scaler.transform(features_valid) , columns=features_train.columns, index=valid_indexes)\n",
    "\n",
    "        features_train_up, target_train_up = upsample (features_train, target_train, repeat)\n",
    "\n",
    "\n",
    "\n",
    "        model = model\n",
    "        model = model.fit(features_train, target_train)\n",
    "\n",
    "        #Store probabilities assigned by the model\n",
    "        probabilities = model.predict_proba(features_valid)\n",
    "\n",
    "        #Store probabilities of class \"1\" (churn)\n",
    "        probabilities_one = probabilities[:, 1]\n",
    "\n",
    "        score = roc_auc_score(target_valid,probabilities_one)\n",
    "    \n",
    "    scores.append(score)\n",
    "    return sum(scores)/len(scores)"
   ]
  },
  {
   "cell_type": "markdown",
   "id": "f5400c53",
   "metadata": {},
   "source": [
    "### Train and test different models and assess the AUC-ROC and accuracy achieved <a id='models'></a>"
   ]
  },
  {
   "cell_type": "code",
   "execution_count": 73,
   "id": "3ad9f837",
   "metadata": {},
   "outputs": [],
   "source": [
    "#write function to evaluate each model\n",
    "def evaluate_model (target, predictions, prob_one):\n",
    "    \n",
    "    '''Takes the test target, predictions and probabilities\n",
    "    calculated by an ML classifier and returns\n",
    "    the AUC-ROC and accuracy achieved, plus a chart of the ROC Curve \n",
    "    as compared to a random model (auc-roc=0.5)'''\n",
    "    \n",
    "    auc_roc= roc_auc_score(target,prob_one)\n",
    "    accuracy= accuracy_score(target, predictions)\n",
    "    print(f'AUC-ROC: {round(auc_roc,2)}\\n')\n",
    "    print(f'Accuracy: {round(accuracy,2)}\\n')\n",
    "    \n",
    "    fpr, tpr, thresh = roc_curve(target, predictions)\n",
    "\n",
    "    plt.clf()\n",
    "    # ROC curve for random model (looks like a straight line)\n",
    "    plt.plot([0, 1], [0, 1], linestyle='--')\n",
    "\n",
    "    # < plot the graph >\n",
    "    plt.plot(fpr, tpr)\n",
    "\n",
    "    # < use the functions plt.xlim() and plt.ylim() to\n",
    "    #   set the boundary for the axes from 0 to 1 >\n",
    "    plt.ylim([0.0, 1.0])\n",
    "    plt.xlim([0.0, 1.0])\n",
    "\n",
    "    # < use the functions plt.xlabel() and plt.ylabel() to\n",
    "    #   name the axes \"False Positive Rate\" and \"True Positive Rate\" >\n",
    "\n",
    "\n",
    "    plt.xlabel('FPR')\n",
    "    plt.ylabel('TPR')\n",
    "\n",
    "    # < add the heading \"ROC curve\" with the function plt.title() >\n",
    "    plt.title('ROC curve')\n",
    "    plt.show()\n",
    "\n",
    "    \n",
    "    return auc_roc, accuracy"
   ]
  },
  {
   "cell_type": "markdown",
   "id": "69b9571f",
   "metadata": {},
   "source": [
    "#### Dummy model <a id='dummy'></a>\n",
    "\n",
    "A baseline model is essentially a simple model that acts as a reference in a machine learning project. Its main function is to contextualize the results of trained models.\n",
    "\n",
    "Baseline models usually lack complexity and may have little predictive power. Regardless, their inclusion is good practice, as they serve as benchmarks for trained models and improve understanding of the data.\n",
    "\n",
    "In this case, the dummy model built below will predict the most frequent value found in the train target for every observation in the test set."
   ]
  },
  {
   "cell_type": "code",
   "execution_count": 74,
   "id": "91047afe",
   "metadata": {},
   "outputs": [
    {
     "name": "stdout",
     "output_type": "stream",
     "text": [
      "AUC-ROC: 0.5\n",
      "\n",
      "Accuracy: 0.73\n",
      "\n"
     ]
    },
    {
     "data": {
      "image/png": "[encoded data removed]",
      "text/plain": [
       "<Figure size 432x288 with 1 Axes>"
      ]
     },
     "metadata": {
      "needs_background": "light"
     },
     "output_type": "display_data"
    }
   ],
   "source": [
    "#Get AUC-ROC for a baseline model (as we said in the introduction, the AUC-ROC achieved by a random model is 0.5)\n",
    "dummy_clf = DummyClassifier(strategy=\"most_frequent\")\n",
    "dummy_clf.fit(train_X_OHE, train_y)\n",
    "pred_dummy= dummy_clf.predict(test_X_OHE)\n",
    "prob_dummy= dummy_clf.predict_proba(test_X_OHE)\n",
    "\n",
    "#Store probabilities of class \"1\" (churn)\n",
    "probabilities_one_dummy = prob_dummy[:, 1]\n",
    "\n",
    "#assess performance\n",
    "dummy_auc_roc,dummy_accuracy= evaluate_model (test_y,pred_dummy, probabilities_one_dummy)\n"
   ]
  },
  {
   "cell_type": "code",
   "execution_count": 75,
   "id": "841d2f9d",
   "metadata": {},
   "outputs": [
    {
     "data": {
      "text/plain": [
       "0    73.1\n",
       "1    26.9\n",
       "Name: churn, dtype: float64"
      ]
     },
     "execution_count": 75,
     "metadata": {},
     "output_type": "execute_result"
    }
   ],
   "source": [
    "#check % of negative class in the test set\n",
    "round(test_y.value_counts()/len(test_y)*100,2)"
   ]
  },
  {
   "cell_type": "markdown",
   "id": "11fd7383",
   "metadata": {},
   "source": [
    "As 0 accounts for the 73% of the values in the test target, a model predicting always 0 as an answer would achieve an accuracy of the 73%."
   ]
  },
  {
   "cell_type": "markdown",
   "id": "9a72b5b1",
   "metadata": {},
   "source": [
    "Basing our work in the dataset we've constructed above by merging and fixing the information provided by Interconnect in separte tables, we will train and test diferent classification models in order to select the one that performs the best and use it in the future to prevent clients from leaving by offering them promotional codes and special plan options.\n",
    "\n",
    "The primary metric we'll base our decision on is AUC-ROC. We will also get the accuracy of each model as a secondary assessment.\n",
    "\n",
    "**AUC-ROC (Area Under Curve-Receiver Operating Characteristic)**\n",
    "\n",
    "The ROC curve can be plotted by putting the false positive rate values (FPR) along the horizontal axis, and true positive rate values (TPR) along the vertical axis. Then we iterate over the logistic regression threshold values (the value starting from which the predicted value will be set as 1=True) and plot a curve. \n",
    "\n",
    "For a model that always answers randomly, the ROC curve is a diagonal line going from the lower left to the upper right. The higher the curve, the greater the TPR value and the better the model's quality.\n",
    "\n",
    "\n",
    "The AUC-ROC value will allow us to find how much our model differs from the random model. Its values are always in the range from 0 to 1. The AUC-ROC value for a random model is 0.5.\n",
    "\n",
    "**Accuracy**\n",
    "\n",
    "Accuracy is the ratio of the number of correct answers to the total number of questions (i.e. the test dataset size).\n",
    "\n"
   ]
  },
  {
   "cell_type": "markdown",
   "id": "6d65f746",
   "metadata": {},
   "source": [
    "#### Logistic regression<a id='logistic'></a>"
   ]
  },
  {
   "cell_type": "code",
   "execution_count": 76,
   "id": "3a7d2ed7",
   "metadata": {},
   "outputs": [
    {
     "name": "stdout",
     "output_type": "stream",
     "text": [
      "AUC-ROC: 0.85\n",
      "\n",
      "Accuracy: 0.74\n",
      "\n"
     ]
    },
    {
     "data": {
      "image/png": "[encoded data removed]",
      "text/plain": [
       "<Figure size 432x288 with 1 Axes>"
      ]
     },
     "metadata": {
      "needs_background": "light"
     },
     "output_type": "display_data"
    }
   ],
   "source": [
    "#Create regression model\n",
    "model_regression= LogisticRegression(random_state=12345, solver='liblinear')\n",
    "\n",
    "#Train regression model w/ OHE upsampled and scaled features\n",
    "model_regression.fit(train_X_OHE_up_scl, train_y_up)\n",
    "\n",
    "#Store predictions\n",
    "predictions_linear = model_regression.predict(test_X_OHE_scl)\n",
    "\n",
    "#Store probabilities assigned by the model\n",
    "probabilities_linear = model_regression.predict_proba(test_X_OHE_scl)\n",
    "\n",
    "#Store probabilities of class \"1\" (churn)\n",
    "probabilities_one_linear = probabilities_linear[:, 1]\n",
    "\n",
    "\n",
    "#evaluate model performance\n",
    "logistic_auc_roc,logistic_accuracy= evaluate_model (test_y, predictions_linear,probabilities_one_linear )"
   ]
  },
  {
   "cell_type": "markdown",
   "id": "3a91b246",
   "metadata": {},
   "source": [
    "#### Desicion tree <a id='tree'></a>"
   ]
  },
  {
   "cell_type": "code",
   "execution_count": 77,
   "id": "e9012325",
   "metadata": {},
   "outputs": [
    {
     "name": "stdout",
     "output_type": "stream",
     "text": [
      "DecisionTreeClassifier(max_depth=6, random_state=12345) 0.8400606187290972\n"
     ]
    }
   ],
   "source": [
    "#Select the best hyperparameters for the decision tree classifier using cross validation on the train set\n",
    "model_tree = None\n",
    "best_result_tree = 0\n",
    "\n",
    "\n",
    "\n",
    "for depth in range(1,10): # choose hyperparameter range\n",
    "    model = DecisionTreeClassifier(random_state=12345, max_depth= depth) # train model on training set\n",
    "    mean_score = best_hyperparameters_cv (model, train_X_ord, train_y , k_folds=4, repeat=3, scale=False)\n",
    "    if mean_score > best_result_tree:\n",
    "        model_tree=model\n",
    "        best_result_tree=mean_score\n",
    "        \n",
    "#print the hyperparameters of the best-performing model\n",
    "print(model_tree, best_result_tree)"
   ]
  },
  {
   "cell_type": "code",
   "execution_count": 78,
   "id": "17e51ca5",
   "metadata": {},
   "outputs": [
    {
     "name": "stdout",
     "output_type": "stream",
     "text": [
      "AUC-ROC: 0.87\n",
      "\n",
      "Accuracy: 0.75\n",
      "\n"
     ]
    },
    {
     "data": {
      "image/png": "[encoded data removed]",
      "text/plain": [
       "<Figure size 432x288 with 1 Axes>"
      ]
     },
     "metadata": {
      "needs_background": "light"
     },
     "output_type": "display_data"
    }
   ],
   "source": [
    "#evaluate the quality of the model on the test set\n",
    "model_tree.fit(train_X_ord_up_scl,train_y_up )\n",
    "\n",
    "\n",
    "#Store predictions\n",
    "predictions_tree = model_tree.predict(test_X_ord_scl)\n",
    "\n",
    "#Store probabilities assigned by the model\n",
    "probabilities_tree = model_tree.predict_proba(test_X_ord_scl)\n",
    "\n",
    "#Store probabilities of class \"1\" (churn)\n",
    "probabilities_one_tree = probabilities_tree[:, 1]\n",
    "\n",
    "\n",
    "#evaluate model performance\n",
    "tree_auc_roc,tree_accuracy= evaluate_model (test_y, predictions_tree,probabilities_one_tree )\n"
   ]
  },
  {
   "cell_type": "markdown",
   "id": "6ff37e62",
   "metadata": {},
   "source": [
    "#### Random Forest <a id='forest'></a>"
   ]
  },
  {
   "cell_type": "code",
   "execution_count": 79,
   "id": "cbc38448",
   "metadata": {},
   "outputs": [
    {
     "name": "stdout",
     "output_type": "stream",
     "text": [
      "RandomForestClassifier(max_depth=9, n_estimators=40, random_state=12345) 0.85856239548495\n"
     ]
    }
   ],
   "source": [
    "#Select the best hyperparameters for the Random Forest classifier using cross validation on the train set\n",
    "model_forest = None\n",
    "best_result_forest = 0\n",
    "\n",
    "\n",
    "for est in range(40, 51, 10):\n",
    "    for depth in range(1,10): # choose hyperparameter range\n",
    "        model = RandomForestClassifier(random_state=12345, max_depth= depth,n_estimators=est)\n",
    "        mean_score =  best_hyperparameters_cv (model, train_X_ord, train_y , k_folds=4, repeat=3, scale=False)\n",
    "        if mean_score > best_result_forest:\n",
    "            model_forest=model\n",
    "            best_result_forest=mean_score\n",
    "\n",
    "print(model_forest, best_result_forest)"
   ]
  },
  {
   "cell_type": "code",
   "execution_count": 80,
   "id": "39f9dcb2",
   "metadata": {},
   "outputs": [
    {
     "name": "stdout",
     "output_type": "stream",
     "text": [
      "AUC-ROC: 0.88\n",
      "\n",
      "Accuracy: 0.79\n",
      "\n"
     ]
    },
    {
     "data": {
      "image/png": "[encoded data removed]",
      "text/plain": [
       "<Figure size 432x288 with 1 Axes>"
      ]
     },
     "metadata": {
      "needs_background": "light"
     },
     "output_type": "display_data"
    }
   ],
   "source": [
    "#evaluate the quality of the model on the test set\n",
    "model_forest.fit(train_X_ord_up_scl,train_y_up )\n",
    "\n",
    "\n",
    "#Store predictions\n",
    "predictions_forest = model_forest.predict(test_X_ord_scl)\n",
    "\n",
    "#Store probabilities assigned by the model\n",
    "probabilities_forest = model_forest.predict_proba(test_X_ord_scl)\n",
    "\n",
    "#Store probabilities of class \"1\" (churn)\n",
    "probabilities_one_forest = probabilities_forest[:, 1]\n",
    "\n",
    "\n",
    "#evaluate model performance\n",
    "forest_auc_roc,forest_accuracy= evaluate_model (test_y, predictions_forest,probabilities_one_forest )\n"
   ]
  },
  {
   "cell_type": "markdown",
   "id": "ed271fe3",
   "metadata": {},
   "source": [
    "#### KNN Classifier <a id='knn'></a>"
   ]
  },
  {
   "cell_type": "code",
   "execution_count": 81,
   "id": "a401ab1a",
   "metadata": {},
   "outputs": [
    {
     "name": "stdout",
     "output_type": "stream",
     "text": [
      "KNeighborsClassifier(n_neighbors=19) 0.808145641722408\n"
     ]
    }
   ],
   "source": [
    "model_knn=None\n",
    "best_result_knn=0\n",
    "\n",
    "for n in range(1,20):\n",
    "    model = KNeighborsClassifier(n_neighbors=n)\n",
    "    mean_score = best_hyperparameters_cv (model, train_X_OHE, train_y , k_folds=4, repeat=3, scale=True)\n",
    "    if mean_score > best_result_knn:\n",
    "        best_result_knn=mean_score\n",
    "        model_knn= model\n",
    "\n",
    "print(model_knn, best_result_knn)   "
   ]
  },
  {
   "cell_type": "code",
   "execution_count": 82,
   "id": "038bf597",
   "metadata": {},
   "outputs": [
    {
     "name": "stdout",
     "output_type": "stream",
     "text": [
      "AUC-ROC: 0.81\n",
      "\n",
      "Accuracy: 0.7\n",
      "\n"
     ]
    },
    {
     "data": {
      "image/png": "[encoded data removed]",
      "text/plain": [
       "<Figure size 432x288 with 1 Axes>"
      ]
     },
     "metadata": {
      "needs_background": "light"
     },
     "output_type": "display_data"
    }
   ],
   "source": [
    "#evaluate the quality of the model on the test set\n",
    "model_knn.fit(train_X_OHE_up_scl,train_y_up )\n",
    "\n",
    "#Store predictions\n",
    "predictions_knn= model_knn.predict(test_X_OHE_scl)\n",
    "\n",
    "#Store probabilities assigned by the model\n",
    "probabilities_knn = model_knn.predict_proba(test_X_OHE_scl)\n",
    "\n",
    "#Store probabilities of class \"1\" (churn)\n",
    "probabilities_one_knn = probabilities_knn[:, 1]\n",
    "\n",
    "\n",
    "#evaluate model performance\n",
    "knn_auc_roc,knn_accuracy= evaluate_model (test_y, predictions_knn,probabilities_one_knn )\n"
   ]
  },
  {
   "cell_type": "markdown",
   "id": "176036b5",
   "metadata": {},
   "source": [
    "#### Light GBM <a id='lgbm'></a>"
   ]
  },
  {
   "cell_type": "code",
   "execution_count": 83,
   "id": "dc28297c",
   "metadata": {},
   "outputs": [],
   "source": [
    "#initialize model\n",
    "\n",
    "\n",
    "param_test ={'lgb__num_leaves': (6, 10, 50), \n",
    "             'lgb__min_child_samples': (100,200,500), \n",
    "             'lgb__min_child_weight': [1e-5, 1e-3, 1e-2, 1e-1, 1, 1e1, 1e2, 1e3, 1e4],\n",
    "             'lgb__reg_alpha': [0, 1e-1, 1, 2, 5, 7, 10, 50, 100],\n",
    "             'lgb__reg_lambda': [0, 1e-1, 1, 5, 10, 20, 50, 100]}\n"
   ]
  },
  {
   "cell_type": "code",
   "execution_count": 84,
   "id": "c2fc88de",
   "metadata": {},
   "outputs": [],
   "source": [
    "\n",
    "\n",
    "pipeline = imbpipeline(steps = [\n",
    "                                ['smote', SMOTE(random_state=12345)],\n",
    "                                \n",
    "                                ['lgb', lgb.LGBMClassifier(max_depth=-1, random_state=12345, metric='None', n_jobs=4, n_estimators=5000) ]])\n",
    "\n",
    "cv = RandomizedSearchCV(pipeline, cv=4, param_distributions=param_test, scoring='roc_auc')"
   ]
  },
  {
   "cell_type": "code",
   "execution_count": 85,
   "id": "1aa9ad27",
   "metadata": {},
   "outputs": [],
   "source": [
    "#cv.fit(train_X_OHE,train_y)\n",
    "#print(\"Best parameters:\", cv.best_params_)\n",
    "#print(\"Highest Auc-Roc: \", (cv.best_score_))"
   ]
  },
  {
   "cell_type": "markdown",
   "id": "307001f6",
   "metadata": {},
   "source": [
    "Best parameters: {'lgb__reg_lambda': 50, 'lgb__reg_alpha': 2, 'lgb__num_leaves': 50, 'lgb__min_child_weight': 0.01, 'lgb__min_child_samples': 500}\n",
    "Highest Auc-Roc:  0.9330499419914471"
   ]
  },
  {
   "cell_type": "code",
   "execution_count": 86,
   "id": "4ee1ff25",
   "metadata": {},
   "outputs": [],
   "source": [
    "opt_parameters_lgb= {'reg_lambda': 50, 'reg_alpha': 2, 'num_leaves': 50, 'min_child_weight': 0.01, 'min_child_samples': 500}\n",
    "model_lgb = lgb.LGBMClassifier(max_depth=-1, random_state=12345, metric='None', n_jobs=4, n_estimators=5000,**opt_parameters_lgb)\n"
   ]
  },
  {
   "cell_type": "code",
   "execution_count": 87,
   "id": "efab6611",
   "metadata": {},
   "outputs": [
    {
     "name": "stdout",
     "output_type": "stream",
     "text": [
      "AUC-ROC: 0.94\n",
      "\n",
      "Accuracy: 0.89\n",
      "\n"
     ]
    },
    {
     "data": {
      "image/png": "[encoded data removed]",
      "text/plain": [
       "<Figure size 432x288 with 1 Axes>"
      ]
     },
     "metadata": {
      "needs_background": "light"
     },
     "output_type": "display_data"
    }
   ],
   "source": [
    "model_lgb.fit(train_X_OHE_up, train_y_up)\n",
    "\n",
    "predictions_lgb= model_lgb.predict(test_X_OHE)\n",
    "\n",
    "#Store probabilities assigned by the model\n",
    "probabilities_lgb = model_lgb.predict_proba(test_X_OHE)\n",
    "\n",
    "#Store probabilities of class \"1\" (churn)\n",
    "probabilities_one_lgb = probabilities_lgb[:, 1]\n",
    "\n",
    "\n",
    "#evaluate model performance\n",
    "lgbm_auc_roc,lgbm_accuracy= evaluate_model (test_y, predictions_lgb,probabilities_one_lgb )\n"
   ]
  },
  {
   "cell_type": "markdown",
   "id": "3123c5e3",
   "metadata": {},
   "source": [
    "#### XGBooster <a id='xgb'></a>"
   ]
  },
  {
   "cell_type": "code",
   "execution_count": 88,
   "id": "d4837a2a",
   "metadata": {},
   "outputs": [
    {
     "name": "stdout",
     "output_type": "stream",
     "text": [
      "Fitting 4 folds for each of 5 candidates, totalling 20 fits\n",
      "Best parameters: {'xgb__subsample': 0.8999999999999999, 'xgb__max_depth': 6, 'xgb__learning_rate': 0.3, 'xgb__colsample_bytree': 0.6, 'xgb__colsample_bylevel': 0.7999999999999999}\n",
      "Highest Auc-Roc:  0.8949841179082617\n"
     ]
    }
   ],
   "source": [
    "params = { 'xgb__max_depth': [3, 5, 6, 10, 15, 20],\n",
    "          'xgb__learning_rate': [0.01, 0.1, 0.2, 0.3],\n",
    "        'xgb__subsample': np.arange(0.5, 1.0, 0.1),\n",
    "      'xgb__colsample_bytree': np.arange(0.4, 1.0, 0.1),\n",
    "     'xgb__colsample_bylevel': np.arange(0.4, 1.0, 0.1)\n",
    "        }\n",
    "\n",
    "\n",
    "\n",
    "\n",
    "pipeline = imbpipeline(steps = [['smote', SMOTE(random_state=12345)],\n",
    "                              \n",
    "                              ['xgb',  xgb.XGBClassifier(seed =12345,use_label_encoder=False,eval_metric='auc')]])\n",
    "\n",
    "\n",
    "clf_xgb = RandomizedSearchCV(pipeline,\n",
    "                         param_distributions=params,\n",
    "                       scoring='roc_auc',\n",
    "                      n_iter=5,\n",
    "                       verbose=1, cv=4)\n",
    "clf_xgb.fit(train_X_OHE,train_y)\n",
    "print(\"Best parameters:\", clf_xgb.best_params_)\n",
    "print(\"Highest Auc-Roc: \", (clf_xgb.best_score_))"
   ]
  },
  {
   "cell_type": "markdown",
   "id": "1d839b7f",
   "metadata": {},
   "source": [
    "Fitting 4 folds for each of 5 candidates, totalling 20 fits\n",
    "Best parameters: {'xgb__subsample': 0.7, 'xgb__max_depth': 20, 'xgb__learning_rate': 0.3, 'xgb__colsample_bytree': 0.7999999999999999, 'xgb__colsample_bylevel': 0.5}\n",
    "Highest Auc-Roc:  0.8910253409612896"
   ]
  },
  {
   "cell_type": "code",
   "execution_count": 89,
   "id": "54eb7d89",
   "metadata": {},
   "outputs": [
    {
     "name": "stdout",
     "output_type": "stream",
     "text": [
      "AUC-ROC: 0.91\n",
      "\n",
      "Accuracy: 0.87\n",
      "\n"
     ]
    },
    {
     "data": {
      "image/png": "[encoded data removed]",
      "text/plain": [
       "<Figure size 432x288 with 1 Axes>"
      ]
     },
     "metadata": {
      "needs_background": "light"
     },
     "output_type": "display_data"
    }
   ],
   "source": [
    "opt_parameters_xgb={'subsample': 0.6, 'max_depth': 10, 'learning_rate': 0.1, 'colsample_bytree': 0.8999999999999999, 'colsample_bylevel': 0.6} \n",
    "model_xgb = xgb.XGBClassifier(random_state=12345,**opt_parameters_xgb,use_label_encoder=False, eval_metric='auc')\n",
    "\n",
    "#evaluate the quality of the model on the test set\n",
    "model_xgb.fit(train_X_OHE_up,train_y_up )\n",
    "\n",
    "#Store predictions\n",
    "predictions_xgb= model_xgb.predict(test_X_OHE)\n",
    "\n",
    "#Store probabilities assigned by the model\n",
    "probabilities_xgb = model_xgb.predict_proba(test_X_OHE)\n",
    "\n",
    "#Store probabilities of class \"1\" (churn)\n",
    "probabilities_one_xgb = probabilities_xgb[:, 1]\n",
    "\n",
    "\n",
    "#evaluate model performance\n",
    "xgb_auc_roc,xgb_accuracy= evaluate_model (test_y, predictions_xgb,probabilities_one_xgb )\n",
    "\n"
   ]
  },
  {
   "cell_type": "markdown",
   "id": "131ff163",
   "metadata": {},
   "source": [
    "#### Conclusion:\n",
    "\n",
    "The best performing models was Light GBM with an AUC-ROC of 0.94 on the test set, and an accuracy of the 89%\n",
    "\n",
    "Further explanations will be included in the final report once the code is validated."
   ]
  },
  {
   "cell_type": "code",
   "execution_count": 90,
   "id": "918c5821",
   "metadata": {},
   "outputs": [
    {
     "data": {
      "text/html": [
       "<div>\n",
       "<style scoped>\n",
       "    .dataframe tbody tr th:only-of-type {\n",
       "        vertical-align: middle;\n",
       "    }\n",
       "\n",
       "    .dataframe tbody tr th {\n",
       "        vertical-align: top;\n",
       "    }\n",
       "\n",
       "    .dataframe thead th {\n",
       "        text-align: right;\n",
       "    }\n",
       "</style>\n",
       "<table border=\"1\" class=\"dataframe\">\n",
       "  <thead>\n",
       "    <tr style=\"text-align: right;\">\n",
       "      <th></th>\n",
       "      <th>AUC-ROC on test set</th>\n",
       "    </tr>\n",
       "  </thead>\n",
       "  <tbody>\n",
       "    <tr>\n",
       "      <th>KNearestNeighbors</th>\n",
       "      <td>0.81</td>\n",
       "    </tr>\n",
       "    <tr>\n",
       "      <th>Logistic regression</th>\n",
       "      <td>0.85</td>\n",
       "    </tr>\n",
       "    <tr>\n",
       "      <th>Decision tree classifier</th>\n",
       "      <td>0.87</td>\n",
       "    </tr>\n",
       "    <tr>\n",
       "      <th>Random forest classifier</th>\n",
       "      <td>0.88</td>\n",
       "    </tr>\n",
       "    <tr>\n",
       "      <th>XGBoost</th>\n",
       "      <td>0.91</td>\n",
       "    </tr>\n",
       "    <tr>\n",
       "      <th>LightGBM</th>\n",
       "      <td>0.94</td>\n",
       "    </tr>\n",
       "  </tbody>\n",
       "</table>\n",
       "</div>"
      ],
      "text/plain": [
       "                          AUC-ROC on test set\n",
       "KNearestNeighbors                        0.81\n",
       "Logistic regression                      0.85\n",
       "Decision tree classifier                 0.87\n",
       "Random forest classifier                 0.88\n",
       "XGBoost                                  0.91\n",
       "LightGBM                                 0.94"
      ]
     },
     "execution_count": 90,
     "metadata": {},
     "output_type": "execute_result"
    }
   ],
   "source": [
    "#Create a dataframe with results\n",
    "\n",
    "\n",
    "table_comp = pd.DataFrame({\n",
    "                          'Logistic regression': [round(logistic_auc_roc,2)],\n",
    "                          'Decision tree classifier': [round(tree_auc_roc,2)],\n",
    "                          'Random forest classifier':[round(forest_auc_roc,2)],\n",
    "                          'KNearestNeighbors ':[round(knn_auc_roc,2)],\n",
    "                          'LightGBM ':[round(lgbm_auc_roc,2)],\n",
    "                          'XGBoost': [round(xgb_auc_roc,2)]\n",
    "                          }).T\n",
    "table_comp=table_comp.rename(columns={0:'AUC-ROC on test set'})\n",
    "#sort by rmse in ascending order\n",
    "table_comp= table_comp.sort_values(by=['AUC-ROC on test set'],ascending=True)\n",
    "#print\n",
    "table_comp\n",
    "table_comp\n",
    "\n",
    "\n",
    "\n",
    "\n",
    "\n"
   ]
  },
  {
   "cell_type": "code",
   "execution_count": 91,
   "id": "9abfaea1",
   "metadata": {},
   "outputs": [
    {
     "data": {
      "image/png": "[encoded data removed]",
      "text/plain": [
       "<Figure size 1440x720 with 1 Axes>"
      ]
     },
     "metadata": {
      "needs_background": "light"
     },
     "output_type": "display_data"
    }
   ],
   "source": [
    "# Print feature importance assigned by the best performing model\n",
    "feature_imp = pd.DataFrame(sorted(zip(model_lgb.feature_importances_,train_X_OHE.columns)), columns=['Value','Feature'])\n",
    "\n",
    "plt.figure(figsize=(20, 10))\n",
    "sns.barplot(x=\"Value\", y=\"Feature\", data=feature_imp.sort_values(by=\"Value\", ascending=False))\n",
    "plt.title('LightGBM Features (avg over folds)')\n",
    "plt.tight_layout()\n",
    "plt.show()\n"
   ]
  },
  {
   "cell_type": "code",
   "execution_count": 93,
   "id": "bedb490f",
   "metadata": {},
   "outputs": [
    {
     "data": {
      "image/png": "[encoded data removed]",
      "text/plain": [
       "<Figure size 1080x1080 with 2 Axes>"
      ]
     },
     "metadata": {
      "needs_background": "light"
     },
     "output_type": "display_data"
    }
   ],
   "source": [
    "#plot correlation chart for one-hot encoded dataframe\n",
    "corr = df_OHE.corr().sort_values(by='churn')\n",
    "fig, ax = plt.subplots(figsize=(15,15))  \n",
    "ax = sns.heatmap(\n",
    "    corr[['churn']], \n",
    "    vmin=-1, vmax=1, center=0,\n",
    "    cmap=sns.diverging_palette(20, 220, n=200),\n",
    "    square=True, annot=True\n",
    ")\n",
    "ax.set_xticklabels(\n",
    "    ax.get_xticklabels(),\n",
    "    rotation=45,\n",
    "    horizontalalignment='right'\n",
    ")\n",
    "plt.show()\n"
   ]
  },
  {
   "attachments": {
    "image-2.png": {
     "image/png": "[encoded data removed]"
    },
    "image-3.png": {
     "image/png": "[encoded data removed]"
    },
    "image-4.png": {
     "image/png": "[encoded data removed]"
    },
    "image-5.png": {
     "image/png": "[encoded data removed]"
    }
   },
   "cell_type": "markdown",
   "id": "8664b162",
   "metadata": {},
   "source": [
    "# Report - Overall Summary\n",
    "\n",
    "## Objective\n",
    "\n",
    "The main goal of this project is to allow telecom operator to forecast their churn of clients. If it's discovered that a user is planning to leave, they will be offered promotional codes and special plan options. \n",
    "\n",
    "## Data preparation\n",
    "\n",
    "Interconnect's marketing team has collected some of their clientele's personal data, including information about their plans and contracts. After importing the data and getting an overall view of the sets, we performed some formatting fixes, and :\n",
    "\n",
    "- Split begin date into month_suscribed and year_suscribed.\n",
    "- Calculated \"churn\" column, depending on whether end_date was \"no\" (churn=0) or a specific date (churn=1).\n",
    "- Labeled encoded contract type, following the natural order of variables: \"Month-to-Month\"=3, \"One year\"=2 and \"Two year\"=1 (as correlated to churn= 1 or 0).\n",
    "- Added a column set to 1 if the payment method contained the word \"automatic\" or to 0 otherwise.\n",
    "- Converted every other categorical column to binary, except for payment method. Total charges had some incorrect values that were fixed, and then it was turned into float.\n",
    "- Merged the customer's personal data to contracts information, as well as to the data available on phone and internet plans hired by each client. Whenever a client was missing information either on their phone plan or their internet plan, we filled it out with -1, to indicate that they actually didn't count on such service.\n",
    "- Dropped out the \"begin date\", \"end date\" and customer id columns.\n",
    "\n",
    "\n",
    "Next, we plotted a heatmap to assess linear correlation between individual features and the target (churn), arriving to the following conclusions:\n",
    "\n",
    "![image-2.png](attachment:image-2.png)\n",
    "\n",
    "The contract type (as labeled above) positively correlates to churn (in alignment to the hypothesis that long term contracts are expected to have a lower churn rate). Clients that have fiber optic instead of DSL also had a higher propensity to leave. Month_suscribed and year_suscribed are positively correlated to churn too, what means that older customers are more likely to stay, whereas the ones who unsuscribe tend to be recently added clients. \n",
    "\n",
    "Paperless_billing and monthly_charges have a positive correlation to churn as well (except that in a smaller measure), meaning that clients who are not sent their bill in paper had a higher churn rate, as well as those with greater monthly charges. Finally, seniority had a low but positive correlation, as well as streaming TV and movies (this can be due to users interested in such service moving to another provider, and can indicate that Interconnect needs to improve that cornerstone for fidelizing users interested in that service.)\n",
    "\n",
    "On the counterside the ones who paid by automatic means had a lower churn rate, so the company should try and to pull clients to commit to this suscription, maybe offering a discount to people who have their service fee charged automatically. Total charges had a negative correlation to churn, following the same line as suscription date: the ones who were suscribed longer, most typically had higher total charges, and a lower churn rate.\n",
    "\n",
    "Lastly, users who had dependants or a partner were less likely to quit, probably because there's one or more users at home who need to access the service.\n",
    "\n",
    "\n",
    "\n",
    "## Model training and testing\n",
    "\n",
    "\n",
    "## Class imabalance\n",
    "Since we've managed to convert this task into a classification problem, we proceeded to assess class imbalance before deciding on a detailed work plan:\n",
    "\n",
    "![image-3.png](attachment:image-3.png)\n",
    "\n",
    "Users who churned are underepresented in the set. We will bear this in mind for building the work plan below.\n",
    "\n",
    "\n",
    "## Work plan\n",
    "\n",
    "The steps followed to tune, train and test different classification models were:\n",
    "\n",
    "[1) Encode the unique categorical feature as most suitable for each model (OHE/label encoding).](#encoding)\n",
    "\n",
    "[2) Split the dataset into train and test applying a 4:1 ratio, and store features and target separately.](#split)\n",
    "\n",
    "[3) Fix the target class imbalance applying upsampling.](#upsampling)\n",
    "\n",
    "[4) Scale the features in the train set for the regression and KNN models.](#scaling)\n",
    "\n",
    "[5) Train the following models trying different hyperparameters and using cross-validation to select the best performing ones, and assessing their performance on the test set:](#models)\n",
    "\n",
    "- [Dummy model (baseline): a model predicting a constant value.](#dummy)\n",
    "\n",
    "     The AUC-ROC was 0.5, as supposed to be for the random model. Its accuracy was of the 73%, as 0 accounts for the 73% of the values in the test target.\n",
    "\n",
    "- [Logistic Regression](#logistic)\n",
    "- [Decision Tree Classifier](#tree)\n",
    "- [Random Forest Classifier](#forest)\n",
    "- [KNearest Neighbors Classifier](#knn)\n",
    "- [Light GBM Classifier](#lgbm)\n",
    "- [XGBoost Classifier](#xgb)\n",
    "\n",
    "For all the models where we used cross-validation for tuning hyperparameters, the train data was scaled and upsampled at each fold.\n",
    "\n",
    "6) Test performance on the test set assessing the AUC-ROC metric and the accuracy of the predictions.\n",
    "\n",
    "## Results:\n",
    "\n",
    "The AUC-ROC achieved by each model on the test set was as follows:\n",
    "\n",
    "\n",
    "KNearestNeighbors\t0.81\n",
    "\n",
    "Logistic regression\t0.85\n",
    "\n",
    "Decision tree classifier\t0.87\n",
    "\n",
    "Random forest classifier\t0.88\n",
    "\n",
    "XGBoost\t0.91\n",
    "\n",
    "LightGBM\t0.94\n",
    "\n",
    "\n",
    "The best performing model was Light GBM, both on terms of AUC-ROC and accuracy (89%). Hence, we will put it into place for the company to try to predict whether a given set of customers is at risk of churning, in order to offer special retaining conditios to those who are classified as such by the model.\n",
    "\n",
    "## Suggestions\n",
    "\n",
    "The features that were deemed as more relevant to predict churn by the best performing model were:\n",
    "\n",
    "- Total charges.\n",
    "- Monthly charges.\n",
    "- Year suscribed.\n",
    "- Month suscribed.\n",
    "\n",
    "This means that those are the key drivers for predicting churn, and the points it's worth focusing on to decide who to offer special conditions to.\n",
    "\n",
    "![image-4.png](attachment:image-4.png)\n",
    "\n",
    "\n",
    "As for the features correlation to target, we got the following chart:\n",
    "\n",
    "![image-5.png](attachment:image-5.png)\n",
    "\n",
    "\n",
    "Since monthly charges have a negative correlation to churn, we know that total charges is only positively correlated to it due to the fact that customers that the longest a customer has been suscribed, the more likely they are to stay (which is deducted from the positivel correlation between month_suscribed and year_suscribed to churn).\n",
    "\n",
    "Hence, we can tell from that conclusion that offering customers who are predicted to be about to churn a discount on their monthly fee is a good way to prevent them from leaving.\n",
    "\n",
    "Based on the correlation plot, we can also suggest the company to:\n",
    "\n",
    "- Incentive such clients to change to longer time contract types if they are in a month-to-month or one-year term contracts.\n",
    "\n",
    "- Offer them to start receiving their bill by email (paperless billing seems to avoing over-checking on the detailed charges).\n",
    "\n",
    "- If they're suscribed to an internet plan, offer a free trial of DSL to those using fiber optic.\n",
    "\n",
    "- Try and pull them to start using automatic payment means if they still aren't, especially in case they currently use electronic checks. \n",
    "\n",
    "Below, we will take a look at how the churns predicted by the model lower down when applying the suggested changed to everyone in the test set:\n",
    "\n",
    "\n"
   ]
  },
  {
   "cell_type": "code",
   "execution_count": 94,
   "id": "ec262848",
   "metadata": {},
   "outputs": [
    {
     "name": "stdout",
     "output_type": "stream",
     "text": [
      "The 28% of the clients in the test set were predicted as likely to churn by the Light GBM model\n"
     ]
    }
   ],
   "source": [
    "#print % of users from the test set who were predicted as potential churns by the model\n",
    "print(f'The {int(predictions_lgb.mean()*100)}% of the clients in the test set were predicted as likely to churn by the Light GBM model')"
   ]
  },
  {
   "cell_type": "code",
   "execution_count": 95,
   "id": "0b3060d2",
   "metadata": {},
   "outputs": [
    {
     "name": "stdout",
     "output_type": "stream",
     "text": [
      "The 26% of the clients in the test set had actually churned\n"
     ]
    }
   ],
   "source": [
    "#print % of real users from the test set who churned\n",
    "\n",
    "print(f'The {int(test_y.mean()*100)}% of the clients in the test set had actually churned')"
   ]
  },
  {
   "cell_type": "markdown",
   "id": "ab0a1caa",
   "metadata": {},
   "source": [
    "For assessing the forecasted effects of the proposed change in the predicted churn rate, we will work on the assumption that every customer on the test set predicted to be prone to churn by the Light GBM model:\n",
    "\n",
    "1) Agreed to suscribe to a two-year contract type.\n",
    "\n",
    "2) Accepted a 10% discount on their monthly charges (we won't modify total charges proportionally because the model will detect them as old-time customers even if they aren't just because of having lower total charges. Besides, the discount will be applied in the future and not retrospectively).\n",
    "\n",
    "3) Changed fiber optic to DSL in the event that they had an internet plan in place.\n",
    "\n",
    "4) Changed payment method from electronic or mailed check to credit card (automatic mean).\n",
    "\n",
    "5) Agreed to start receiving their bills by email if they still weren't."
   ]
  },
  {
   "cell_type": "code",
   "execution_count": 96,
   "id": "90ad771c",
   "metadata": {},
   "outputs": [],
   "source": [
    "# Create a new dataframe as a copy of test_X_OHE df\n",
    "test_X_OHE.reset_index(inplace=True, drop=True)\n",
    "\n",
    "test_y.reset_index(inplace=True, drop=True)\n",
    "\n",
    "test_X_OHE_promo=test_X_OHE.copy()"
   ]
  },
  {
   "cell_type": "code",
   "execution_count": 97,
   "id": "89642e5a",
   "metadata": {},
   "outputs": [],
   "source": [
    "# Turn array predicted by Light GBM model into pandas series format\n",
    "pred_lgb=pd.Series(predictions_lgb)\n",
    "\n",
    "# Store indexes where predicted value=1\n",
    "churn_idx= pred_lgb[pred_lgb==1].index"
   ]
  },
  {
   "cell_type": "code",
   "execution_count": 98,
   "id": "87ecbfe8",
   "metadata": {},
   "outputs": [],
   "source": [
    "#For rows corresponding to clients that were predicted as likely to churn\n",
    "\n",
    "#Reduce monthly charges by a 10%\n",
    "test_X_OHE_promo.loc[churn_idx,'monthly_charges']=test_X_OHE_promo ['monthly_charges'].apply(lambda x: round(x*0.90,2))\n",
    "\n",
    "#Change paperless billing to 1 (yes)\n",
    "test_X_OHE_promo.loc[churn_idx,'paperless_billing']= 1\n",
    "\n",
    "#Change rows where fiber optic is 1 to 0 (if it's -1, leave it as is)\n",
    "test_X_OHE_promo.loc [churn_idx,'fiber_optic']=test_X_OHE_promo.apply(lambda x: 0 if x['fiber_optic']==1 else x, axis=1)\n",
    "\n",
    "#Change contract type to 1 (two-year contract)\n",
    "test_X_OHE_promo.loc [churn_idx,'type']=1\n",
    "\n",
    "#Change rows where electronic check or mailed check is 1 to 1 in credit card (suppose they switched to credit card as payment method)\n",
    "test_X_OHE_promo.loc [churn_idx,'payment_method_Credit card '] = test_X_OHE_promo.apply(lambda x: 1 if (x['payment_method_Credit card ']==1 or x['payment_method_Electronic check']==1 or x['payment_method_Mailed check']==1 )else 0, axis=1)\n",
    "\n",
    "#Change rows where electronic check is 1 to 0\n",
    "test_X_OHE_promo.loc [churn_idx,'payment_method_Electronic check']=0\n",
    "\n",
    "\n",
    "#Change rows where mailed check is 1 to 0\n",
    "test_X_OHE_promo.loc[churn_idx,'payment_method_Mailed check']= 0\n",
    "\n",
    "#Change automatic payment to 1 in every row (either they switched to credit card or were paying by bank transfer )\n",
    "test_X_OHE_promo.loc[churn_idx,'automatic_payment']=1"
   ]
  },
  {
   "cell_type": "code",
   "execution_count": 99,
   "id": "92a1d71b",
   "metadata": {},
   "outputs": [],
   "source": [
    "#make new predictions with the modified features\n",
    "predictions_offer_applied= model_lgb.predict(test_X_OHE_promo)\n"
   ]
  },
  {
   "cell_type": "code",
   "execution_count": 100,
   "id": "f461bec4",
   "metadata": {},
   "outputs": [
    {
     "name": "stdout",
     "output_type": "stream",
     "text": [
      "The 8% of the clients in the test set would have been predicted as a potential churn if the suggested offer was put into place and accepted by every client previously predicted to churn\n"
     ]
    }
   ],
   "source": [
    "#print % of users likely to churn from the test set who churned\n",
    "\n",
    "print(f'The {int(predictions_offer_applied.mean()*100)}% of the clients in the test set would have been predicted as a potential churn if the suggested offer was put into place and accepted by every client previously predicted to churn')"
   ]
  },
  {
   "cell_type": "markdown",
   "id": "7e0e4532",
   "metadata": {},
   "source": [
    "## Conclusion\n",
    "\n",
    "The acceptance of the proposed incentives to all customers who were predicted to churn by the Light GBM model would result in a reduction of the 20% (from the 28% to the 8%) in the churn rate predicted."
   ]
  }
 ],
 "metadata": {
  "ExecuteTimeLog": [
   {
    "duration": 1822,
    "start_time": "2022-07-15T18:05:50.615Z"
   },
   {
    "duration": 481,
    "start_time": "2022-07-15T18:05:52.439Z"
   },
   {
    "duration": 6,
    "start_time": "2022-07-15T18:05:52.921Z"
   },
   {
    "duration": 87,
    "start_time": "2022-07-15T18:05:52.929Z"
   },
   {
    "duration": 6,
    "start_time": "2022-07-15T18:05:53.017Z"
   },
   {
    "duration": 11,
    "start_time": "2022-07-15T18:05:53.024Z"
   },
   {
    "duration": 17,
    "start_time": "2022-07-15T18:05:53.036Z"
   },
   {
    "duration": 10,
    "start_time": "2022-07-15T18:05:53.055Z"
   },
   {
    "duration": 3,
    "start_time": "2022-07-15T18:05:53.067Z"
   },
   {
    "duration": 45,
    "start_time": "2022-07-15T18:05:53.072Z"
   },
   {
    "duration": 31,
    "start_time": "2022-07-15T18:05:53.118Z"
   },
   {
    "duration": 5,
    "start_time": "2022-07-15T18:05:53.150Z"
   },
   {
    "duration": 11,
    "start_time": "2022-07-15T18:05:53.157Z"
   },
   {
    "duration": 7,
    "start_time": "2022-07-15T18:05:53.170Z"
   },
   {
    "duration": 14,
    "start_time": "2022-07-15T18:05:53.179Z"
   },
   {
    "duration": 7,
    "start_time": "2022-07-15T18:05:53.195Z"
   },
   {
    "duration": 4,
    "start_time": "2022-07-15T18:05:53.204Z"
   },
   {
    "duration": 10,
    "start_time": "2022-07-15T18:05:53.210Z"
   },
   {
    "duration": 22,
    "start_time": "2022-07-15T18:05:53.222Z"
   },
   {
    "duration": 185,
    "start_time": "2022-07-15T18:05:53.246Z"
   },
   {
    "duration": 19,
    "start_time": "2022-07-15T18:05:53.432Z"
   },
   {
    "duration": 21,
    "start_time": "2022-07-15T18:05:53.453Z"
   },
   {
    "duration": 9,
    "start_time": "2022-07-15T18:05:53.476Z"
   },
   {
    "duration": 15,
    "start_time": "2022-07-15T18:05:53.501Z"
   },
   {
    "duration": 27,
    "start_time": "2022-07-15T18:05:53.517Z"
   },
   {
    "duration": 11,
    "start_time": "2022-07-15T18:05:53.546Z"
   },
   {
    "duration": 60,
    "start_time": "2022-07-15T18:05:53.559Z"
   },
   {
    "duration": 214,
    "start_time": "2022-07-15T18:05:53.625Z"
   },
   {
    "duration": 12,
    "start_time": "2022-07-15T18:05:53.841Z"
   },
   {
    "duration": 14,
    "start_time": "2022-07-15T18:05:53.855Z"
   },
   {
    "duration": 61,
    "start_time": "2022-07-15T18:05:53.871Z"
   },
   {
    "duration": 6,
    "start_time": "2022-07-15T18:05:53.934Z"
   },
   {
    "duration": 8,
    "start_time": "2022-07-15T18:05:53.942Z"
   },
   {
    "duration": 6,
    "start_time": "2022-07-15T18:05:53.952Z"
   },
   {
    "duration": 43,
    "start_time": "2022-07-15T18:05:53.960Z"
   },
   {
    "duration": 12,
    "start_time": "2022-07-15T18:05:54.005Z"
   },
   {
    "duration": 17,
    "start_time": "2022-07-15T18:05:54.020Z"
   },
   {
    "duration": 14,
    "start_time": "2022-07-15T18:05:54.038Z"
   },
   {
    "duration": 12,
    "start_time": "2022-07-15T18:05:54.054Z"
   },
   {
    "duration": 83,
    "start_time": "2022-07-15T18:05:54.068Z"
   },
   {
    "duration": 6,
    "start_time": "2022-07-15T18:05:54.153Z"
   },
   {
    "duration": 45,
    "start_time": "2022-07-15T18:05:54.161Z"
   },
   {
    "duration": 12,
    "start_time": "2022-07-15T18:05:54.208Z"
   },
   {
    "duration": 16,
    "start_time": "2022-07-15T18:05:54.221Z"
   },
   {
    "duration": 21,
    "start_time": "2022-07-15T18:05:54.239Z"
   },
   {
    "duration": 14,
    "start_time": "2022-07-15T18:05:54.261Z"
   },
   {
    "duration": 40,
    "start_time": "2022-07-15T18:05:54.301Z"
   },
   {
    "duration": 10,
    "start_time": "2022-07-15T18:05:54.342Z"
   },
   {
    "duration": 15,
    "start_time": "2022-07-15T18:05:54.353Z"
   },
   {
    "duration": 45,
    "start_time": "2022-07-15T18:05:54.370Z"
   },
   {
    "duration": 9,
    "start_time": "2022-07-15T18:05:54.417Z"
   },
   {
    "duration": 11,
    "start_time": "2022-07-15T18:05:54.428Z"
   },
   {
    "duration": 8,
    "start_time": "2022-07-15T18:05:54.441Z"
   },
   {
    "duration": 5,
    "start_time": "2022-07-15T18:05:54.451Z"
   },
   {
    "duration": 8,
    "start_time": "2022-07-15T18:05:54.458Z"
   },
   {
    "duration": 48,
    "start_time": "2022-07-15T18:05:54.468Z"
   },
   {
    "duration": 8,
    "start_time": "2022-07-15T18:05:54.517Z"
   },
   {
    "duration": 139,
    "start_time": "2022-07-15T18:05:54.526Z"
   },
   {
    "duration": 20,
    "start_time": "2022-07-15T18:05:54.666Z"
   },
   {
    "duration": 28,
    "start_time": "2022-07-15T18:05:54.687Z"
   },
   {
    "duration": 452,
    "start_time": "2022-07-15T18:05:54.717Z"
   },
   {
    "duration": 160,
    "start_time": "2022-07-15T18:05:55.171Z"
   },
   {
    "duration": 13,
    "start_time": "2022-07-15T18:05:55.333Z"
   },
   {
    "duration": 18,
    "start_time": "2022-07-15T18:05:55.348Z"
   },
   {
    "duration": 37,
    "start_time": "2022-07-15T18:05:55.368Z"
   },
   {
    "duration": 3,
    "start_time": "2022-07-15T18:05:55.406Z"
   },
   {
    "duration": 13,
    "start_time": "2022-07-15T18:05:55.410Z"
   },
   {
    "duration": 9,
    "start_time": "2022-07-15T18:05:55.425Z"
   },
   {
    "duration": 16,
    "start_time": "2022-07-15T18:05:55.437Z"
   },
   {
    "duration": 25,
    "start_time": "2022-07-15T18:05:55.455Z"
   },
   {
    "duration": 11,
    "start_time": "2022-07-15T18:05:55.482Z"
   },
   {
    "duration": 14,
    "start_time": "2022-07-15T18:05:55.502Z"
   },
   {
    "duration": 10,
    "start_time": "2022-07-15T18:05:55.520Z"
   },
   {
    "duration": 120,
    "start_time": "2022-07-15T18:05:55.532Z"
   },
   {
    "duration": 7,
    "start_time": "2022-07-15T18:05:55.654Z"
   },
   {
    "duration": 315,
    "start_time": "2022-07-15T18:05:55.663Z"
   },
   {
    "duration": 521,
    "start_time": "2022-07-15T18:05:55.980Z"
   },
   {
    "duration": 123,
    "start_time": "2022-07-15T18:05:56.503Z"
   },
   {
    "duration": 10660,
    "start_time": "2022-07-15T18:05:56.628Z"
   },
   {
    "duration": 468,
    "start_time": "2022-07-15T18:06:07.290Z"
   },
   {
    "duration": 41028,
    "start_time": "2022-07-15T18:06:07.760Z"
   },
   {
    "duration": 981,
    "start_time": "2022-07-15T18:06:48.793Z"
   },
   {
    "duration": 4,
    "start_time": "2022-07-15T18:06:49.775Z"
   },
   {
    "duration": 9,
    "start_time": "2022-07-15T18:06:49.781Z"
   },
   {
    "duration": 11,
    "start_time": "2022-07-15T18:06:49.791Z"
   },
   {
    "duration": 10,
    "start_time": "2022-07-15T18:06:49.804Z"
   },
   {
    "duration": 7,
    "start_time": "2022-07-15T18:06:49.816Z"
   },
   {
    "duration": 21,
    "start_time": "2022-07-15T18:06:49.825Z"
   },
   {
    "duration": 19144,
    "start_time": "2022-07-15T18:06:49.848Z"
   },
   {
    "duration": 3,
    "start_time": "2022-07-15T18:07:08.993Z"
   },
   {
    "duration": 153161,
    "start_time": "2022-07-15T18:07:09.002Z"
   },
   {
    "duration": 88,
    "start_time": "2022-07-15T18:12:03.652Z"
   },
   {
    "duration": 139448,
    "start_time": "2022-07-15T18:12:27.460Z"
   },
   {
    "duration": 140,
    "start_time": "2022-07-15T18:17:17.313Z"
   },
   {
    "duration": 1656,
    "start_time": "2022-07-16T08:35:03.493Z"
   },
   {
    "duration": 415,
    "start_time": "2022-07-16T08:35:05.151Z"
   },
   {
    "duration": 5,
    "start_time": "2022-07-16T08:35:05.568Z"
   },
   {
    "duration": 71,
    "start_time": "2022-07-16T08:35:05.575Z"
   },
   {
    "duration": 15,
    "start_time": "2022-07-16T08:35:05.647Z"
   },
   {
    "duration": 14,
    "start_time": "2022-07-16T08:35:05.664Z"
   },
   {
    "duration": 10,
    "start_time": "2022-07-16T08:35:05.680Z"
   },
   {
    "duration": 7,
    "start_time": "2022-07-16T08:35:05.692Z"
   },
   {
    "duration": 3,
    "start_time": "2022-07-16T08:35:05.701Z"
   },
   {
    "duration": 19,
    "start_time": "2022-07-16T08:35:05.707Z"
   },
   {
    "duration": 38,
    "start_time": "2022-07-16T08:35:05.727Z"
   },
   {
    "duration": 6,
    "start_time": "2022-07-16T08:35:05.767Z"
   },
   {
    "duration": 14,
    "start_time": "2022-07-16T08:35:05.774Z"
   },
   {
    "duration": 9,
    "start_time": "2022-07-16T08:35:05.789Z"
   },
   {
    "duration": 17,
    "start_time": "2022-07-16T08:35:05.800Z"
   },
   {
    "duration": 4,
    "start_time": "2022-07-16T08:35:05.819Z"
   },
   {
    "duration": 10,
    "start_time": "2022-07-16T08:35:05.824Z"
   },
   {
    "duration": 32,
    "start_time": "2022-07-16T08:35:05.836Z"
   },
   {
    "duration": 28,
    "start_time": "2022-07-16T08:35:05.871Z"
   },
   {
    "duration": 170,
    "start_time": "2022-07-16T08:35:05.902Z"
   },
   {
    "duration": 15,
    "start_time": "2022-07-16T08:35:06.074Z"
   },
   {
    "duration": 16,
    "start_time": "2022-07-16T08:35:06.091Z"
   },
   {
    "duration": 7,
    "start_time": "2022-07-16T08:35:06.109Z"
   },
   {
    "duration": 17,
    "start_time": "2022-07-16T08:35:06.118Z"
   },
   {
    "duration": 20,
    "start_time": "2022-07-16T08:35:06.160Z"
   },
   {
    "duration": 13,
    "start_time": "2022-07-16T08:35:06.181Z"
   },
   {
    "duration": 35,
    "start_time": "2022-07-16T08:35:06.195Z"
   },
   {
    "duration": 248,
    "start_time": "2022-07-16T08:35:06.236Z"
   },
   {
    "duration": 17,
    "start_time": "2022-07-16T08:35:06.486Z"
   },
   {
    "duration": 50,
    "start_time": "2022-07-16T08:35:06.505Z"
   },
   {
    "duration": 50,
    "start_time": "2022-07-16T08:35:06.557Z"
   },
   {
    "duration": 6,
    "start_time": "2022-07-16T08:35:06.609Z"
   },
   {
    "duration": 7,
    "start_time": "2022-07-16T08:35:06.617Z"
   },
   {
    "duration": 36,
    "start_time": "2022-07-16T08:35:06.625Z"
   },
   {
    "duration": 7,
    "start_time": "2022-07-16T08:35:06.663Z"
   },
   {
    "duration": 20,
    "start_time": "2022-07-16T08:35:06.672Z"
   },
   {
    "duration": 16,
    "start_time": "2022-07-16T08:35:06.695Z"
   },
   {
    "duration": 14,
    "start_time": "2022-07-16T08:35:06.712Z"
   },
   {
    "duration": 37,
    "start_time": "2022-07-16T08:35:06.728Z"
   },
   {
    "duration": 62,
    "start_time": "2022-07-16T08:35:06.767Z"
   },
   {
    "duration": 30,
    "start_time": "2022-07-16T08:35:06.832Z"
   },
   {
    "duration": 22,
    "start_time": "2022-07-16T08:35:06.864Z"
   },
   {
    "duration": 17,
    "start_time": "2022-07-16T08:35:06.888Z"
   },
   {
    "duration": 29,
    "start_time": "2022-07-16T08:35:06.906Z"
   },
   {
    "duration": 26,
    "start_time": "2022-07-16T08:35:06.937Z"
   },
   {
    "duration": 12,
    "start_time": "2022-07-16T08:35:06.965Z"
   },
   {
    "duration": 44,
    "start_time": "2022-07-16T08:35:06.979Z"
   },
   {
    "duration": 37,
    "start_time": "2022-07-16T08:35:07.025Z"
   },
   {
    "duration": 18,
    "start_time": "2022-07-16T08:35:07.064Z"
   },
   {
    "duration": 13,
    "start_time": "2022-07-16T08:35:07.083Z"
   },
   {
    "duration": 7,
    "start_time": "2022-07-16T08:35:07.097Z"
   },
   {
    "duration": 12,
    "start_time": "2022-07-16T08:35:07.106Z"
   },
   {
    "duration": 8,
    "start_time": "2022-07-16T08:35:07.119Z"
   },
   {
    "duration": 31,
    "start_time": "2022-07-16T08:35:07.129Z"
   },
   {
    "duration": 8,
    "start_time": "2022-07-16T08:35:07.162Z"
   },
   {
    "duration": 17,
    "start_time": "2022-07-16T08:35:07.172Z"
   },
   {
    "duration": 8,
    "start_time": "2022-07-16T08:35:07.191Z"
   },
   {
    "duration": 150,
    "start_time": "2022-07-16T08:35:07.200Z"
   },
   {
    "duration": 22,
    "start_time": "2022-07-16T08:35:07.360Z"
   },
   {
    "duration": 16,
    "start_time": "2022-07-16T08:35:07.384Z"
   },
   {
    "duration": 533,
    "start_time": "2022-07-16T08:35:07.402Z"
   },
   {
    "duration": 109,
    "start_time": "2022-07-16T08:35:07.936Z"
   },
   {
    "duration": 23,
    "start_time": "2022-07-16T08:35:08.047Z"
   },
   {
    "duration": 19,
    "start_time": "2022-07-16T08:35:08.072Z"
   },
   {
    "duration": 35,
    "start_time": "2022-07-16T08:35:08.092Z"
   },
   {
    "duration": 10,
    "start_time": "2022-07-16T08:35:08.128Z"
   },
   {
    "duration": 36,
    "start_time": "2022-07-16T08:35:08.140Z"
   },
   {
    "duration": 21,
    "start_time": "2022-07-16T08:35:08.178Z"
   },
   {
    "duration": 26,
    "start_time": "2022-07-16T08:35:08.201Z"
   },
   {
    "duration": 27,
    "start_time": "2022-07-16T08:35:08.229Z"
   },
   {
    "duration": 20,
    "start_time": "2022-07-16T08:35:08.257Z"
   },
   {
    "duration": 11,
    "start_time": "2022-07-16T08:35:08.279Z"
   },
   {
    "duration": 24,
    "start_time": "2022-07-16T08:35:08.291Z"
   },
   {
    "duration": 123,
    "start_time": "2022-07-16T08:35:08.316Z"
   },
   {
    "duration": 6,
    "start_time": "2022-07-16T08:35:08.442Z"
   },
   {
    "duration": 321,
    "start_time": "2022-07-16T08:35:08.449Z"
   },
   {
    "duration": 569,
    "start_time": "2022-07-16T08:35:08.772Z"
   },
   {
    "duration": 141,
    "start_time": "2022-07-16T08:35:09.344Z"
   },
   {
    "duration": 10950,
    "start_time": "2022-07-16T08:35:09.487Z"
   },
   {
    "duration": 391,
    "start_time": "2022-07-16T08:35:20.439Z"
   },
   {
    "duration": 44540,
    "start_time": "2022-07-16T08:35:20.832Z"
   },
   {
    "duration": 1131,
    "start_time": "2022-07-16T08:36:05.377Z"
   },
   {
    "duration": 5,
    "start_time": "2022-07-16T08:36:06.510Z"
   },
   {
    "duration": 19,
    "start_time": "2022-07-16T08:36:06.518Z"
   },
   {
    "duration": 13,
    "start_time": "2022-07-16T08:36:06.539Z"
   },
   {
    "duration": 11,
    "start_time": "2022-07-16T08:36:06.554Z"
   },
   {
    "duration": 12,
    "start_time": "2022-07-16T08:36:06.567Z"
   },
   {
    "duration": 11,
    "start_time": "2022-07-16T08:36:06.581Z"
   },
   {
    "duration": 20889,
    "start_time": "2022-07-16T08:36:06.594Z"
   },
   {
    "duration": 3,
    "start_time": "2022-07-16T08:36:27.484Z"
   },
   {
    "duration": 698786,
    "start_time": "2022-07-16T08:36:27.488Z"
   },
   {
    "duration": 21,
    "start_time": "2022-07-16T08:58:33.698Z"
   },
   {
    "duration": 5,
    "start_time": "2022-07-16T08:58:40.818Z"
   },
   {
    "duration": 4,
    "start_time": "2022-07-16T08:58:44.379Z"
   },
   {
    "duration": 9,
    "start_time": "2022-07-16T08:58:52.148Z"
   },
   {
    "duration": 6,
    "start_time": "2022-07-16T08:58:58.204Z"
   },
   {
    "duration": 6,
    "start_time": "2022-07-16T09:08:40.445Z"
   },
   {
    "duration": 10,
    "start_time": "2022-07-16T09:09:39.037Z"
   },
   {
    "duration": 123,
    "start_time": "2022-07-16T09:13:42.585Z"
   },
   {
    "duration": 14,
    "start_time": "2022-07-16T09:14:07.610Z"
   },
   {
    "duration": 13,
    "start_time": "2022-07-16T09:15:36.641Z"
   },
   {
    "duration": 5,
    "start_time": "2022-07-16T09:18:06.530Z"
   },
   {
    "duration": 4,
    "start_time": "2022-07-16T09:18:21.490Z"
   },
   {
    "duration": 12,
    "start_time": "2022-07-16T09:19:45.988Z"
   },
   {
    "duration": 18,
    "start_time": "2022-07-16T09:20:03.379Z"
   },
   {
    "duration": 9,
    "start_time": "2022-07-16T09:20:30.102Z"
   },
   {
    "duration": 3,
    "start_time": "2022-07-16T09:20:33.978Z"
   },
   {
    "duration": 6,
    "start_time": "2022-07-16T09:21:12.820Z"
   },
   {
    "duration": 12,
    "start_time": "2022-07-16T09:21:15.072Z"
   },
   {
    "duration": 6,
    "start_time": "2022-07-16T09:21:36.383Z"
   },
   {
    "duration": 13,
    "start_time": "2022-07-16T09:21:37.128Z"
   },
   {
    "duration": 5,
    "start_time": "2022-07-16T09:21:58.948Z"
   },
   {
    "duration": 138,
    "start_time": "2022-07-16T09:21:59.801Z"
   },
   {
    "duration": 6,
    "start_time": "2022-07-16T09:23:45.515Z"
   },
   {
    "duration": 127,
    "start_time": "2022-07-16T09:23:46.522Z"
   },
   {
    "duration": 5,
    "start_time": "2022-07-16T09:24:04.313Z"
   },
   {
    "duration": 138,
    "start_time": "2022-07-16T09:24:05.258Z"
   },
   {
    "duration": 5,
    "start_time": "2022-07-16T09:24:18.491Z"
   },
   {
    "duration": 121,
    "start_time": "2022-07-16T09:24:19.072Z"
   },
   {
    "duration": 6,
    "start_time": "2022-07-16T09:24:31.035Z"
   },
   {
    "duration": 115,
    "start_time": "2022-07-16T09:24:32.586Z"
   },
   {
    "duration": 774,
    "start_time": "2022-07-16T09:25:08.573Z"
   },
   {
    "duration": 4,
    "start_time": "2022-07-16T09:26:27.043Z"
   },
   {
    "duration": 227,
    "start_time": "2022-07-16T09:26:27.049Z"
   },
   {
    "duration": 4,
    "start_time": "2022-07-16T09:26:27.278Z"
   },
   {
    "duration": 52,
    "start_time": "2022-07-16T09:26:27.284Z"
   },
   {
    "duration": 22,
    "start_time": "2022-07-16T09:26:27.338Z"
   },
   {
    "duration": 8,
    "start_time": "2022-07-16T09:26:27.362Z"
   },
   {
    "duration": 15,
    "start_time": "2022-07-16T09:26:27.372Z"
   },
   {
    "duration": 12,
    "start_time": "2022-07-16T09:26:27.389Z"
   },
   {
    "duration": 5,
    "start_time": "2022-07-16T09:26:27.402Z"
   },
   {
    "duration": 19,
    "start_time": "2022-07-16T09:26:27.409Z"
   },
   {
    "duration": 29,
    "start_time": "2022-07-16T09:26:27.429Z"
   },
   {
    "duration": 21,
    "start_time": "2022-07-16T09:26:27.461Z"
   },
   {
    "duration": 14,
    "start_time": "2022-07-16T09:26:27.483Z"
   },
   {
    "duration": 8,
    "start_time": "2022-07-16T09:26:27.501Z"
   },
   {
    "duration": 20,
    "start_time": "2022-07-16T09:26:27.511Z"
   },
   {
    "duration": 4,
    "start_time": "2022-07-16T09:26:27.532Z"
   },
   {
    "duration": 9,
    "start_time": "2022-07-16T09:26:27.537Z"
   },
   {
    "duration": 19,
    "start_time": "2022-07-16T09:26:27.547Z"
   },
   {
    "duration": 30,
    "start_time": "2022-07-16T09:26:27.568Z"
   },
   {
    "duration": 149,
    "start_time": "2022-07-16T09:26:27.599Z"
   },
   {
    "duration": 26,
    "start_time": "2022-07-16T09:26:27.750Z"
   },
   {
    "duration": 15,
    "start_time": "2022-07-16T09:26:27.778Z"
   },
   {
    "duration": 7,
    "start_time": "2022-07-16T09:26:27.795Z"
   },
   {
    "duration": 16,
    "start_time": "2022-07-16T09:26:27.803Z"
   },
   {
    "duration": 18,
    "start_time": "2022-07-16T09:26:27.820Z"
   },
   {
    "duration": 14,
    "start_time": "2022-07-16T09:26:27.861Z"
   },
   {
    "duration": 23,
    "start_time": "2022-07-16T09:26:27.877Z"
   },
   {
    "duration": 198,
    "start_time": "2022-07-16T09:26:27.902Z"
   },
   {
    "duration": 13,
    "start_time": "2022-07-16T09:26:28.102Z"
   },
   {
    "duration": 16,
    "start_time": "2022-07-16T09:26:28.117Z"
   },
   {
    "duration": 60,
    "start_time": "2022-07-16T09:26:28.134Z"
   },
   {
    "duration": 4,
    "start_time": "2022-07-16T09:26:28.196Z"
   },
   {
    "duration": 7,
    "start_time": "2022-07-16T09:26:28.202Z"
   },
   {
    "duration": 9,
    "start_time": "2022-07-16T09:26:28.210Z"
   },
   {
    "duration": 9,
    "start_time": "2022-07-16T09:26:28.221Z"
   },
   {
    "duration": 40,
    "start_time": "2022-07-16T09:26:28.231Z"
   },
   {
    "duration": 108,
    "start_time": "2022-07-16T09:26:28.273Z"
   },
   {
    "duration": 12,
    "start_time": "2022-07-16T09:26:28.383Z"
   },
   {
    "duration": 10,
    "start_time": "2022-07-16T09:26:28.396Z"
   },
   {
    "duration": 76,
    "start_time": "2022-07-16T09:26:28.408Z"
   },
   {
    "duration": 5,
    "start_time": "2022-07-16T09:26:28.488Z"
   },
   {
    "duration": 12,
    "start_time": "2022-07-16T09:26:28.495Z"
   },
   {
    "duration": 12,
    "start_time": "2022-07-16T09:26:28.509Z"
   },
   {
    "duration": 46,
    "start_time": "2022-07-16T09:26:28.522Z"
   },
   {
    "duration": 22,
    "start_time": "2022-07-16T09:26:28.570Z"
   },
   {
    "duration": 11,
    "start_time": "2022-07-16T09:26:28.593Z"
   },
   {
    "duration": 59,
    "start_time": "2022-07-16T09:26:28.605Z"
   },
   {
    "duration": 11,
    "start_time": "2022-07-16T09:26:28.669Z"
   },
   {
    "duration": 17,
    "start_time": "2022-07-16T09:26:28.682Z"
   },
   {
    "duration": 10,
    "start_time": "2022-07-16T09:26:28.701Z"
   },
   {
    "duration": 8,
    "start_time": "2022-07-16T09:26:28.718Z"
   },
   {
    "duration": 14,
    "start_time": "2022-07-16T09:26:28.727Z"
   },
   {
    "duration": 11,
    "start_time": "2022-07-16T09:26:28.761Z"
   },
   {
    "duration": 10,
    "start_time": "2022-07-16T09:26:28.774Z"
   },
   {
    "duration": 17,
    "start_time": "2022-07-16T09:26:28.786Z"
   },
   {
    "duration": 15,
    "start_time": "2022-07-16T09:26:28.804Z"
   },
   {
    "duration": 9,
    "start_time": "2022-07-16T09:26:28.820Z"
   },
   {
    "duration": 78,
    "start_time": "2022-07-16T09:26:28.831Z"
   },
   {
    "duration": 19,
    "start_time": "2022-07-16T09:26:28.910Z"
   },
   {
    "duration": 38,
    "start_time": "2022-07-16T09:26:28.931Z"
   },
   {
    "duration": 450,
    "start_time": "2022-07-16T09:26:28.971Z"
   },
   {
    "duration": 110,
    "start_time": "2022-07-16T09:26:29.423Z"
   },
   {
    "duration": 11,
    "start_time": "2022-07-16T09:26:29.535Z"
   },
   {
    "duration": 24,
    "start_time": "2022-07-16T09:26:29.561Z"
   },
   {
    "duration": 18,
    "start_time": "2022-07-16T09:26:29.586Z"
   },
   {
    "duration": 3,
    "start_time": "2022-07-16T09:26:29.605Z"
   },
   {
    "duration": 10,
    "start_time": "2022-07-16T09:26:29.609Z"
   },
   {
    "duration": 6,
    "start_time": "2022-07-16T09:26:29.621Z"
   },
   {
    "duration": 5,
    "start_time": "2022-07-16T09:26:29.629Z"
   },
   {
    "duration": 5,
    "start_time": "2022-07-16T09:26:47.275Z"
   },
   {
    "duration": 113,
    "start_time": "2022-07-16T09:26:49.752Z"
   },
   {
    "duration": 6,
    "start_time": "2022-07-16T09:26:52.044Z"
   },
   {
    "duration": 1533,
    "start_time": "2022-07-16T09:32:37.033Z"
   },
   {
    "duration": 251,
    "start_time": "2022-07-16T09:32:38.569Z"
   },
   {
    "duration": 5,
    "start_time": "2022-07-16T09:32:38.823Z"
   },
   {
    "duration": 72,
    "start_time": "2022-07-16T09:32:38.831Z"
   },
   {
    "duration": 8,
    "start_time": "2022-07-16T09:32:38.905Z"
   },
   {
    "duration": 10,
    "start_time": "2022-07-16T09:32:38.915Z"
   },
   {
    "duration": 39,
    "start_time": "2022-07-16T09:32:38.927Z"
   },
   {
    "duration": 20,
    "start_time": "2022-07-16T09:32:38.968Z"
   },
   {
    "duration": 5,
    "start_time": "2022-07-16T09:32:38.990Z"
   },
   {
    "duration": 24,
    "start_time": "2022-07-16T09:32:38.999Z"
   },
   {
    "duration": 36,
    "start_time": "2022-07-16T09:32:39.025Z"
   },
   {
    "duration": 18,
    "start_time": "2022-07-16T09:32:39.063Z"
   },
   {
    "duration": 22,
    "start_time": "2022-07-16T09:32:39.083Z"
   },
   {
    "duration": 10,
    "start_time": "2022-07-16T09:32:39.106Z"
   },
   {
    "duration": 23,
    "start_time": "2022-07-16T09:32:39.118Z"
   },
   {
    "duration": 18,
    "start_time": "2022-07-16T09:32:39.143Z"
   },
   {
    "duration": 19,
    "start_time": "2022-07-16T09:32:39.164Z"
   },
   {
    "duration": 14,
    "start_time": "2022-07-16T09:32:39.185Z"
   },
   {
    "duration": 30,
    "start_time": "2022-07-16T09:32:39.201Z"
   },
   {
    "duration": 192,
    "start_time": "2022-07-16T09:32:39.233Z"
   },
   {
    "duration": 16,
    "start_time": "2022-07-16T09:32:39.427Z"
   },
   {
    "duration": 35,
    "start_time": "2022-07-16T09:32:39.445Z"
   },
   {
    "duration": 11,
    "start_time": "2022-07-16T09:32:39.482Z"
   },
   {
    "duration": 16,
    "start_time": "2022-07-16T09:32:39.494Z"
   },
   {
    "duration": 49,
    "start_time": "2022-07-16T09:32:39.512Z"
   },
   {
    "duration": 34,
    "start_time": "2022-07-16T09:32:39.563Z"
   },
   {
    "duration": 23,
    "start_time": "2022-07-16T09:32:39.599Z"
   },
   {
    "duration": 201,
    "start_time": "2022-07-16T09:32:39.629Z"
   },
   {
    "duration": 13,
    "start_time": "2022-07-16T09:32:39.832Z"
   },
   {
    "duration": 24,
    "start_time": "2022-07-16T09:32:39.846Z"
   },
   {
    "duration": 47,
    "start_time": "2022-07-16T09:32:39.872Z"
   },
   {
    "duration": 5,
    "start_time": "2022-07-16T09:32:39.921Z"
   },
   {
    "duration": 8,
    "start_time": "2022-07-16T09:32:39.927Z"
   },
   {
    "duration": 7,
    "start_time": "2022-07-16T09:32:39.936Z"
   },
   {
    "duration": 7,
    "start_time": "2022-07-16T09:32:39.961Z"
   },
   {
    "duration": 19,
    "start_time": "2022-07-16T09:32:39.969Z"
   },
   {
    "duration": 12,
    "start_time": "2022-07-16T09:32:39.990Z"
   },
   {
    "duration": 13,
    "start_time": "2022-07-16T09:32:40.003Z"
   },
   {
    "duration": 12,
    "start_time": "2022-07-16T09:32:40.017Z"
   },
   {
    "duration": 59,
    "start_time": "2022-07-16T09:32:40.031Z"
   },
   {
    "duration": 5,
    "start_time": "2022-07-16T09:32:40.092Z"
   },
   {
    "duration": 29,
    "start_time": "2022-07-16T09:32:40.099Z"
   },
   {
    "duration": 13,
    "start_time": "2022-07-16T09:32:40.129Z"
   },
   {
    "duration": 25,
    "start_time": "2022-07-16T09:32:40.143Z"
   },
   {
    "duration": 29,
    "start_time": "2022-07-16T09:32:40.169Z"
   },
   {
    "duration": 11,
    "start_time": "2022-07-16T09:32:40.199Z"
   },
   {
    "duration": 82,
    "start_time": "2022-07-16T09:32:40.212Z"
   },
   {
    "duration": 8,
    "start_time": "2022-07-16T09:32:40.295Z"
   },
   {
    "duration": 16,
    "start_time": "2022-07-16T09:32:40.304Z"
   },
   {
    "duration": 50,
    "start_time": "2022-07-16T09:32:40.321Z"
   },
   {
    "duration": 10,
    "start_time": "2022-07-16T09:32:40.376Z"
   },
   {
    "duration": 73,
    "start_time": "2022-07-16T09:32:40.388Z"
   },
   {
    "duration": 14,
    "start_time": "2022-07-16T09:32:40.463Z"
   },
   {
    "duration": 18,
    "start_time": "2022-07-16T09:32:40.478Z"
   },
   {
    "duration": 18,
    "start_time": "2022-07-16T09:32:40.497Z"
   },
   {
    "duration": 29,
    "start_time": "2022-07-16T09:32:40.561Z"
   },
   {
    "duration": 10,
    "start_time": "2022-07-16T09:32:40.593Z"
   },
   {
    "duration": 272,
    "start_time": "2022-07-16T09:32:40.605Z"
   },
   {
    "duration": 23,
    "start_time": "2022-07-16T09:32:40.879Z"
   },
   {
    "duration": 15,
    "start_time": "2022-07-16T09:32:40.904Z"
   },
   {
    "duration": 528,
    "start_time": "2022-07-16T09:32:40.921Z"
   },
   {
    "duration": 129,
    "start_time": "2022-07-16T09:32:41.451Z"
   },
   {
    "duration": 13,
    "start_time": "2022-07-16T09:32:41.582Z"
   },
   {
    "duration": 19,
    "start_time": "2022-07-16T09:32:41.596Z"
   },
   {
    "duration": 47,
    "start_time": "2022-07-16T09:32:41.616Z"
   },
   {
    "duration": 4,
    "start_time": "2022-07-16T09:32:41.665Z"
   },
   {
    "duration": 21,
    "start_time": "2022-07-16T09:32:41.671Z"
   },
   {
    "duration": 9,
    "start_time": "2022-07-16T09:32:41.693Z"
   },
   {
    "duration": 4,
    "start_time": "2022-07-16T09:32:41.703Z"
   },
   {
    "duration": 24,
    "start_time": "2022-07-16T09:32:41.708Z"
   },
   {
    "duration": 6,
    "start_time": "2022-07-16T09:32:41.733Z"
   },
   {
    "duration": 744,
    "start_time": "2022-07-16T09:32:41.761Z"
   },
   {
    "duration": 11,
    "start_time": "2022-07-16T09:32:42.506Z"
   },
   {
    "duration": 14,
    "start_time": "2022-07-16T09:32:42.519Z"
   },
   {
    "duration": 17,
    "start_time": "2022-07-16T09:32:42.534Z"
   },
   {
    "duration": 143,
    "start_time": "2022-07-16T09:32:42.552Z"
   },
   {
    "duration": 6,
    "start_time": "2022-07-16T09:32:42.697Z"
   },
   {
    "duration": 348,
    "start_time": "2022-07-16T09:32:42.705Z"
   },
   {
    "duration": 573,
    "start_time": "2022-07-16T09:33:27.578Z"
   },
   {
    "duration": 115,
    "start_time": "2022-07-16T09:34:45.530Z"
   },
   {
    "duration": 688,
    "start_time": "2022-07-16T09:34:59.924Z"
   },
   {
    "duration": 584,
    "start_time": "2022-07-16T09:35:13.802Z"
   },
   {
    "duration": 156,
    "start_time": "2022-07-16T09:35:19.523Z"
   },
   {
    "duration": 12,
    "start_time": "2022-07-16T09:35:37.514Z"
   },
   {
    "duration": 771,
    "start_time": "2022-07-16T09:35:46.466Z"
   },
   {
    "duration": 128,
    "start_time": "2022-07-16T09:35:49.173Z"
   },
   {
    "duration": 899,
    "start_time": "2022-07-16T09:35:58.497Z"
   },
   {
    "duration": 131,
    "start_time": "2022-07-16T09:36:01.512Z"
   },
   {
    "duration": 710,
    "start_time": "2022-07-16T09:36:12.028Z"
   },
   {
    "duration": 124,
    "start_time": "2022-07-16T09:36:14.277Z"
   },
   {
    "duration": 9898,
    "start_time": "2022-07-16T09:36:43.770Z"
   },
   {
    "duration": 357,
    "start_time": "2022-07-16T09:38:41.587Z"
   },
   {
    "duration": 26757,
    "start_time": "2022-07-16T09:39:21.788Z"
   },
   {
    "duration": 1148,
    "start_time": "2022-07-16T09:39:51.873Z"
   },
   {
    "duration": 15,
    "start_time": "2022-07-16T09:44:55.772Z"
   },
   {
    "duration": 7626,
    "start_time": "2022-07-16T09:45:12.442Z"
   },
   {
    "duration": 34,
    "start_time": "2022-07-16T09:45:20.071Z"
   },
   {
    "duration": 20,
    "start_time": "2022-07-16T09:45:23.830Z"
   },
   {
    "duration": 1358,
    "start_time": "2022-07-16T09:46:02.088Z"
   },
   {
    "duration": 2142,
    "start_time": "2022-07-16T09:46:09.968Z"
   },
   {
    "duration": 1484,
    "start_time": "2022-07-16T09:46:23.125Z"
   },
   {
    "duration": 4,
    "start_time": "2022-07-16T09:46:25.888Z"
   },
   {
    "duration": 3,
    "start_time": "2022-07-16T09:46:35.739Z"
   },
   {
    "duration": 6,
    "start_time": "2022-07-16T09:46:35.744Z"
   },
   {
    "duration": 214,
    "start_time": "2022-07-16T09:46:35.753Z"
   },
   {
    "duration": 4,
    "start_time": "2022-07-16T09:46:35.969Z"
   },
   {
    "duration": 67,
    "start_time": "2022-07-16T09:46:35.975Z"
   },
   {
    "duration": 18,
    "start_time": "2022-07-16T09:46:36.044Z"
   },
   {
    "duration": 6,
    "start_time": "2022-07-16T09:46:36.064Z"
   },
   {
    "duration": 7,
    "start_time": "2022-07-16T09:46:36.072Z"
   },
   {
    "duration": 8,
    "start_time": "2022-07-16T09:46:36.080Z"
   },
   {
    "duration": 5,
    "start_time": "2022-07-16T09:46:36.089Z"
   },
   {
    "duration": 20,
    "start_time": "2022-07-16T09:46:36.096Z"
   },
   {
    "duration": 15,
    "start_time": "2022-07-16T09:46:36.117Z"
   },
   {
    "duration": 6,
    "start_time": "2022-07-16T09:46:36.160Z"
   },
   {
    "duration": 15,
    "start_time": "2022-07-16T09:46:36.167Z"
   },
   {
    "duration": 38,
    "start_time": "2022-07-16T09:46:36.184Z"
   },
   {
    "duration": 26,
    "start_time": "2022-07-16T09:46:36.226Z"
   },
   {
    "duration": 3,
    "start_time": "2022-07-16T09:46:36.254Z"
   },
   {
    "duration": 16,
    "start_time": "2022-07-16T09:46:36.259Z"
   },
   {
    "duration": 14,
    "start_time": "2022-07-16T09:46:36.276Z"
   },
   {
    "duration": 46,
    "start_time": "2022-07-16T09:46:36.292Z"
   },
   {
    "duration": 232,
    "start_time": "2022-07-16T09:46:36.341Z"
   },
   {
    "duration": 18,
    "start_time": "2022-07-16T09:46:36.575Z"
   },
   {
    "duration": 17,
    "start_time": "2022-07-16T09:46:36.596Z"
   },
   {
    "duration": 7,
    "start_time": "2022-07-16T09:46:36.615Z"
   },
   {
    "duration": 39,
    "start_time": "2022-07-16T09:46:36.623Z"
   },
   {
    "duration": 18,
    "start_time": "2022-07-16T09:46:36.664Z"
   },
   {
    "duration": 15,
    "start_time": "2022-07-16T09:46:36.684Z"
   },
   {
    "duration": 20,
    "start_time": "2022-07-16T09:46:36.700Z"
   },
   {
    "duration": 191,
    "start_time": "2022-07-16T09:46:36.724Z"
   },
   {
    "duration": 12,
    "start_time": "2022-07-16T09:46:36.917Z"
   },
   {
    "duration": 19,
    "start_time": "2022-07-16T09:46:36.931Z"
   },
   {
    "duration": 37,
    "start_time": "2022-07-16T09:46:36.960Z"
   },
   {
    "duration": 5,
    "start_time": "2022-07-16T09:46:36.998Z"
   },
   {
    "duration": 8,
    "start_time": "2022-07-16T09:46:37.005Z"
   },
   {
    "duration": 8,
    "start_time": "2022-07-16T09:46:37.014Z"
   },
   {
    "duration": 120,
    "start_time": "2022-07-16T09:46:37.023Z"
   },
   {
    "duration": 12,
    "start_time": "2022-07-16T09:46:37.144Z"
   },
   {
    "duration": 14,
    "start_time": "2022-07-16T09:46:37.157Z"
   },
   {
    "duration": 12,
    "start_time": "2022-07-16T09:46:37.173Z"
   },
   {
    "duration": 10,
    "start_time": "2022-07-16T09:46:37.186Z"
   },
   {
    "duration": 71,
    "start_time": "2022-07-16T09:46:37.198Z"
   },
   {
    "duration": 5,
    "start_time": "2022-07-16T09:46:37.271Z"
   },
   {
    "duration": 13,
    "start_time": "2022-07-16T09:46:37.278Z"
   },
   {
    "duration": 19,
    "start_time": "2022-07-16T09:46:37.293Z"
   },
   {
    "duration": 19,
    "start_time": "2022-07-16T09:46:37.314Z"
   },
   {
    "duration": 34,
    "start_time": "2022-07-16T09:46:37.334Z"
   },
   {
    "duration": 10,
    "start_time": "2022-07-16T09:46:37.369Z"
   },
   {
    "duration": 39,
    "start_time": "2022-07-16T09:46:37.381Z"
   },
   {
    "duration": 43,
    "start_time": "2022-07-16T09:46:37.422Z"
   },
   {
    "duration": 10,
    "start_time": "2022-07-16T09:46:37.467Z"
   },
   {
    "duration": 11,
    "start_time": "2022-07-16T09:46:37.479Z"
   },
   {
    "duration": 11,
    "start_time": "2022-07-16T09:46:37.492Z"
   },
   {
    "duration": 12,
    "start_time": "2022-07-16T09:46:37.505Z"
   },
   {
    "duration": 8,
    "start_time": "2022-07-16T09:46:37.519Z"
   },
   {
    "duration": 6,
    "start_time": "2022-07-16T09:46:37.561Z"
   },
   {
    "duration": 13,
    "start_time": "2022-07-16T09:46:37.569Z"
   },
   {
    "duration": 30,
    "start_time": "2022-07-16T09:46:37.590Z"
   },
   {
    "duration": 18,
    "start_time": "2022-07-16T09:46:37.622Z"
   },
   {
    "duration": 69,
    "start_time": "2022-07-16T09:46:37.641Z"
   },
   {
    "duration": 22,
    "start_time": "2022-07-16T09:46:37.711Z"
   },
   {
    "duration": 26,
    "start_time": "2022-07-16T09:46:37.734Z"
   },
   {
    "duration": 440,
    "start_time": "2022-07-16T09:46:37.762Z"
   },
   {
    "duration": 111,
    "start_time": "2022-07-16T09:46:38.204Z"
   },
   {
    "duration": 12,
    "start_time": "2022-07-16T09:46:38.317Z"
   },
   {
    "duration": 31,
    "start_time": "2022-07-16T09:46:38.330Z"
   },
   {
    "duration": 19,
    "start_time": "2022-07-16T09:46:38.363Z"
   },
   {
    "duration": 3,
    "start_time": "2022-07-16T09:46:38.383Z"
   },
   {
    "duration": 17,
    "start_time": "2022-07-16T09:46:38.387Z"
   },
   {
    "duration": 16,
    "start_time": "2022-07-16T09:46:38.405Z"
   },
   {
    "duration": 5,
    "start_time": "2022-07-16T09:46:38.423Z"
   },
   {
    "duration": 31,
    "start_time": "2022-07-16T09:46:38.429Z"
   },
   {
    "duration": 5,
    "start_time": "2022-07-16T09:46:38.462Z"
   },
   {
    "duration": 721,
    "start_time": "2022-07-16T09:46:38.469Z"
   },
   {
    "duration": 11,
    "start_time": "2022-07-16T09:46:39.191Z"
   },
   {
    "duration": 10,
    "start_time": "2022-07-16T09:46:39.203Z"
   },
   {
    "duration": 4,
    "start_time": "2022-07-16T09:46:39.215Z"
   },
   {
    "duration": 134,
    "start_time": "2022-07-16T09:46:39.221Z"
   },
   {
    "duration": 6,
    "start_time": "2022-07-16T09:46:39.360Z"
   },
   {
    "duration": 300,
    "start_time": "2022-07-16T09:46:39.368Z"
   },
   {
    "duration": 853,
    "start_time": "2022-07-16T09:46:39.670Z"
   },
   {
    "duration": 131,
    "start_time": "2022-07-16T09:46:40.525Z"
   },
   {
    "duration": 9194,
    "start_time": "2022-07-16T09:46:40.661Z"
   },
   {
    "duration": 339,
    "start_time": "2022-07-16T09:46:49.861Z"
   },
   {
    "duration": 3194,
    "start_time": "2022-07-16T09:46:50.202Z"
   },
   {
    "duration": 246,
    "start_time": "2022-07-16T09:46:53.398Z"
   },
   {
    "duration": 3,
    "start_time": "2022-07-16T09:51:12.464Z"
   },
   {
    "duration": 10,
    "start_time": "2022-07-16T09:51:12.469Z"
   },
   {
    "duration": 277,
    "start_time": "2022-07-16T09:51:12.481Z"
   },
   {
    "duration": 5,
    "start_time": "2022-07-16T09:51:12.760Z"
   },
   {
    "duration": 66,
    "start_time": "2022-07-16T09:51:12.768Z"
   },
   {
    "duration": 6,
    "start_time": "2022-07-16T09:51:12.861Z"
   },
   {
    "duration": 9,
    "start_time": "2022-07-16T09:51:12.869Z"
   },
   {
    "duration": 8,
    "start_time": "2022-07-16T09:51:12.880Z"
   },
   {
    "duration": 9,
    "start_time": "2022-07-16T09:51:12.890Z"
   },
   {
    "duration": 5,
    "start_time": "2022-07-16T09:51:12.901Z"
   },
   {
    "duration": 22,
    "start_time": "2022-07-16T09:51:12.910Z"
   },
   {
    "duration": 15,
    "start_time": "2022-07-16T09:51:12.961Z"
   },
   {
    "duration": 5,
    "start_time": "2022-07-16T09:51:12.978Z"
   },
   {
    "duration": 17,
    "start_time": "2022-07-16T09:51:12.985Z"
   },
   {
    "duration": 28,
    "start_time": "2022-07-16T09:51:13.003Z"
   },
   {
    "duration": 20,
    "start_time": "2022-07-16T09:51:13.033Z"
   },
   {
    "duration": 6,
    "start_time": "2022-07-16T09:51:13.054Z"
   },
   {
    "duration": 17,
    "start_time": "2022-07-16T09:51:13.062Z"
   },
   {
    "duration": 16,
    "start_time": "2022-07-16T09:51:13.081Z"
   },
   {
    "duration": 22,
    "start_time": "2022-07-16T09:51:13.099Z"
   },
   {
    "duration": 143,
    "start_time": "2022-07-16T09:51:13.122Z"
   },
   {
    "duration": 16,
    "start_time": "2022-07-16T09:51:13.267Z"
   },
   {
    "duration": 14,
    "start_time": "2022-07-16T09:51:13.285Z"
   },
   {
    "duration": 9,
    "start_time": "2022-07-16T09:51:13.301Z"
   },
   {
    "duration": 17,
    "start_time": "2022-07-16T09:51:13.312Z"
   },
   {
    "duration": 21,
    "start_time": "2022-07-16T09:51:13.360Z"
   },
   {
    "duration": 9,
    "start_time": "2022-07-16T09:51:13.383Z"
   },
   {
    "duration": 142,
    "start_time": "2022-07-16T09:51:13.394Z"
   },
   {
    "duration": 184,
    "start_time": "2022-07-16T09:51:13.540Z"
   },
   {
    "duration": 15,
    "start_time": "2022-07-16T09:51:13.725Z"
   },
   {
    "duration": 30,
    "start_time": "2022-07-16T09:51:13.741Z"
   },
   {
    "duration": 47,
    "start_time": "2022-07-16T09:51:13.773Z"
   },
   {
    "duration": 5,
    "start_time": "2022-07-16T09:51:13.822Z"
   },
   {
    "duration": 6,
    "start_time": "2022-07-16T09:51:13.861Z"
   },
   {
    "duration": 8,
    "start_time": "2022-07-16T09:51:13.869Z"
   },
   {
    "duration": 7,
    "start_time": "2022-07-16T09:51:13.879Z"
   },
   {
    "duration": 13,
    "start_time": "2022-07-16T09:51:13.887Z"
   },
   {
    "duration": 15,
    "start_time": "2022-07-16T09:51:13.902Z"
   },
   {
    "duration": 43,
    "start_time": "2022-07-16T09:51:13.918Z"
   },
   {
    "duration": 11,
    "start_time": "2022-07-16T09:51:13.963Z"
   },
   {
    "duration": 84,
    "start_time": "2022-07-16T09:51:13.976Z"
   },
   {
    "duration": 7,
    "start_time": "2022-07-16T09:51:14.062Z"
   },
   {
    "duration": 13,
    "start_time": "2022-07-16T09:51:14.071Z"
   },
   {
    "duration": 13,
    "start_time": "2022-07-16T09:51:14.086Z"
   },
   {
    "duration": 15,
    "start_time": "2022-07-16T09:51:14.101Z"
   },
   {
    "duration": 48,
    "start_time": "2022-07-16T09:51:14.118Z"
   },
   {
    "duration": 13,
    "start_time": "2022-07-16T09:51:14.168Z"
   },
   {
    "duration": 35,
    "start_time": "2022-07-16T09:51:14.183Z"
   },
   {
    "duration": 42,
    "start_time": "2022-07-16T09:51:14.220Z"
   },
   {
    "duration": 14,
    "start_time": "2022-07-16T09:51:14.263Z"
   },
   {
    "duration": 14,
    "start_time": "2022-07-16T09:51:14.279Z"
   },
   {
    "duration": 8,
    "start_time": "2022-07-16T09:51:14.294Z"
   },
   {
    "duration": 28,
    "start_time": "2022-07-16T09:51:14.303Z"
   },
   {
    "duration": 8,
    "start_time": "2022-07-16T09:51:14.333Z"
   },
   {
    "duration": 19,
    "start_time": "2022-07-16T09:51:14.343Z"
   },
   {
    "duration": 8,
    "start_time": "2022-07-16T09:51:14.364Z"
   },
   {
    "duration": 16,
    "start_time": "2022-07-16T09:51:14.373Z"
   },
   {
    "duration": 9,
    "start_time": "2022-07-16T09:51:14.390Z"
   },
   {
    "duration": 82,
    "start_time": "2022-07-16T09:51:14.400Z"
   },
   {
    "duration": 21,
    "start_time": "2022-07-16T09:51:14.484Z"
   },
   {
    "duration": 18,
    "start_time": "2022-07-16T09:51:14.506Z"
   },
   {
    "duration": 479,
    "start_time": "2022-07-16T09:51:14.526Z"
   },
   {
    "duration": 120,
    "start_time": "2022-07-16T09:51:15.007Z"
   },
   {
    "duration": 13,
    "start_time": "2022-07-16T09:51:15.129Z"
   },
   {
    "duration": 35,
    "start_time": "2022-07-16T09:51:15.144Z"
   },
   {
    "duration": 21,
    "start_time": "2022-07-16T09:51:15.182Z"
   },
   {
    "duration": 3,
    "start_time": "2022-07-16T09:51:15.206Z"
   },
   {
    "duration": 21,
    "start_time": "2022-07-16T09:51:15.211Z"
   },
   {
    "duration": 32,
    "start_time": "2022-07-16T09:51:15.235Z"
   },
   {
    "duration": 17,
    "start_time": "2022-07-16T09:51:15.270Z"
   },
   {
    "duration": 31,
    "start_time": "2022-07-16T09:51:15.290Z"
   },
   {
    "duration": 8,
    "start_time": "2022-07-16T09:51:15.323Z"
   },
   {
    "duration": 765,
    "start_time": "2022-07-16T09:51:15.333Z"
   },
   {
    "duration": 12,
    "start_time": "2022-07-16T09:51:16.100Z"
   },
   {
    "duration": 12,
    "start_time": "2022-07-16T09:51:16.114Z"
   },
   {
    "duration": 7,
    "start_time": "2022-07-16T09:51:16.128Z"
   },
   {
    "duration": 163,
    "start_time": "2022-07-16T09:51:16.137Z"
   },
   {
    "duration": 7,
    "start_time": "2022-07-16T09:51:16.303Z"
   },
   {
    "duration": 370,
    "start_time": "2022-07-16T09:51:16.312Z"
   },
   {
    "duration": 753,
    "start_time": "2022-07-16T09:51:16.684Z"
   },
   {
    "duration": 137,
    "start_time": "2022-07-16T09:51:17.439Z"
   },
   {
    "duration": 9575,
    "start_time": "2022-07-16T09:51:17.577Z"
   },
   {
    "duration": 336,
    "start_time": "2022-07-16T09:51:27.160Z"
   },
   {
    "duration": 3019,
    "start_time": "2022-07-16T09:51:27.498Z"
   },
   {
    "duration": 278,
    "start_time": "2022-07-16T09:51:30.519Z"
   },
   {
    "duration": 4,
    "start_time": "2022-07-16T09:51:30.798Z"
   },
   {
    "duration": 31,
    "start_time": "2022-07-16T09:51:30.803Z"
   },
   {
    "duration": 144,
    "start_time": "2022-07-16T09:51:30.836Z"
   },
   {
    "duration": 4,
    "start_time": "2022-07-16T09:52:03.676Z"
   },
   {
    "duration": 3,
    "start_time": "2022-07-16T09:52:05.037Z"
   },
   {
    "duration": 24,
    "start_time": "2022-07-16T09:52:15.807Z"
   },
   {
    "duration": 4,
    "start_time": "2022-07-16T09:52:39.690Z"
   },
   {
    "duration": 3,
    "start_time": "2022-07-16T09:52:40.221Z"
   },
   {
    "duration": 25,
    "start_time": "2022-07-16T09:52:41.042Z"
   },
   {
    "duration": 4,
    "start_time": "2022-07-16T09:52:50.389Z"
   },
   {
    "duration": 4,
    "start_time": "2022-07-16T09:52:51.916Z"
   },
   {
    "duration": 26,
    "start_time": "2022-07-16T09:52:52.548Z"
   },
   {
    "duration": 3,
    "start_time": "2022-07-16T09:57:11.687Z"
   },
   {
    "duration": 26,
    "start_time": "2022-07-16T09:57:15.706Z"
   },
   {
    "duration": 5,
    "start_time": "2022-07-16T09:59:03.171Z"
   },
   {
    "duration": 10,
    "start_time": "2022-07-16T10:01:47.214Z"
   },
   {
    "duration": 7,
    "start_time": "2022-07-16T10:02:09.259Z"
   },
   {
    "duration": 4,
    "start_time": "2022-07-16T10:02:20.154Z"
   },
   {
    "duration": 58,
    "start_time": "2022-07-16T10:09:01.647Z"
   },
   {
    "duration": 3,
    "start_time": "2022-07-16T10:09:06.756Z"
   },
   {
    "duration": 5,
    "start_time": "2022-07-16T10:09:10.650Z"
   },
   {
    "duration": 4,
    "start_time": "2022-07-16T10:09:11.972Z"
   },
   {
    "duration": 10,
    "start_time": "2022-07-16T10:09:29.068Z"
   },
   {
    "duration": 80,
    "start_time": "2022-07-16T10:09:33.098Z"
   },
   {
    "duration": 9,
    "start_time": "2022-07-16T10:09:44.154Z"
   },
   {
    "duration": 4,
    "start_time": "2022-07-16T10:10:04.362Z"
   },
   {
    "duration": 5,
    "start_time": "2022-07-16T10:15:14.578Z"
   },
   {
    "duration": 11,
    "start_time": "2022-07-16T10:15:15.154Z"
   },
   {
    "duration": 5,
    "start_time": "2022-07-16T10:15:38.251Z"
   },
   {
    "duration": 4,
    "start_time": "2022-07-16T10:15:47.033Z"
   },
   {
    "duration": 4,
    "start_time": "2022-07-16T10:15:48.354Z"
   },
   {
    "duration": 24,
    "start_time": "2022-07-16T10:15:50.631Z"
   },
   {
    "duration": 3,
    "start_time": "2022-07-16T10:17:03.983Z"
   },
   {
    "duration": 5,
    "start_time": "2022-07-16T10:17:04.707Z"
   },
   {
    "duration": 10,
    "start_time": "2022-07-16T10:17:50.640Z"
   },
   {
    "duration": 136,
    "start_time": "2022-07-16T10:18:09.252Z"
   },
   {
    "duration": 4,
    "start_time": "2022-07-16T10:22:13.331Z"
   },
   {
    "duration": 4,
    "start_time": "2022-07-16T10:22:18.842Z"
   },
   {
    "duration": 36792,
    "start_time": "2022-07-16T10:22:20.564Z"
   },
   {
    "duration": 4,
    "start_time": "2022-07-16T10:40:24.593Z"
   },
   {
    "duration": 10,
    "start_time": "2022-07-16T10:40:24.840Z"
   },
   {
    "duration": 0,
    "start_time": "2022-07-16T10:41:01.659Z"
   },
   {
    "duration": 0,
    "start_time": "2022-07-16T10:41:01.660Z"
   },
   {
    "duration": 10,
    "start_time": "2022-07-16T10:45:59.880Z"
   },
   {
    "duration": 10,
    "start_time": "2022-07-16T10:46:14.472Z"
   },
   {
    "duration": 4,
    "start_time": "2022-07-16T10:46:33.128Z"
   },
   {
    "duration": 76,
    "start_time": "2022-07-16T10:46:35.671Z"
   },
   {
    "duration": 0,
    "start_time": "2022-07-16T10:51:43.992Z"
   },
   {
    "duration": 0,
    "start_time": "2022-07-16T10:51:43.993Z"
   },
   {
    "duration": 0,
    "start_time": "2022-07-16T10:51:43.994Z"
   },
   {
    "duration": 0,
    "start_time": "2022-07-16T10:51:43.996Z"
   },
   {
    "duration": 0,
    "start_time": "2022-07-16T10:51:43.997Z"
   },
   {
    "duration": 0,
    "start_time": "2022-07-16T10:51:43.998Z"
   },
   {
    "duration": 0,
    "start_time": "2022-07-16T10:51:43.999Z"
   },
   {
    "duration": 0,
    "start_time": "2022-07-16T10:51:44.000Z"
   },
   {
    "duration": 0,
    "start_time": "2022-07-16T10:51:44.002Z"
   },
   {
    "duration": 0,
    "start_time": "2022-07-16T10:51:44.003Z"
   },
   {
    "duration": 0,
    "start_time": "2022-07-16T10:51:44.004Z"
   },
   {
    "duration": 0,
    "start_time": "2022-07-16T10:51:44.006Z"
   },
   {
    "duration": 0,
    "start_time": "2022-07-16T10:51:44.007Z"
   },
   {
    "duration": 0,
    "start_time": "2022-07-16T10:51:44.009Z"
   },
   {
    "duration": 0,
    "start_time": "2022-07-16T10:51:44.064Z"
   },
   {
    "duration": 0,
    "start_time": "2022-07-16T10:51:44.071Z"
   },
   {
    "duration": 0,
    "start_time": "2022-07-16T10:51:44.075Z"
   },
   {
    "duration": 0,
    "start_time": "2022-07-16T10:51:44.076Z"
   },
   {
    "duration": 0,
    "start_time": "2022-07-16T10:51:44.078Z"
   },
   {
    "duration": 0,
    "start_time": "2022-07-16T10:51:44.079Z"
   },
   {
    "duration": 0,
    "start_time": "2022-07-16T10:51:44.079Z"
   },
   {
    "duration": 0,
    "start_time": "2022-07-16T10:51:44.080Z"
   },
   {
    "duration": 0,
    "start_time": "2022-07-16T10:51:44.082Z"
   },
   {
    "duration": 0,
    "start_time": "2022-07-16T10:51:44.083Z"
   },
   {
    "duration": 0,
    "start_time": "2022-07-16T10:51:44.085Z"
   },
   {
    "duration": 0,
    "start_time": "2022-07-16T10:51:44.086Z"
   },
   {
    "duration": 0,
    "start_time": "2022-07-16T10:51:44.087Z"
   },
   {
    "duration": 0,
    "start_time": "2022-07-16T10:51:44.088Z"
   },
   {
    "duration": 0,
    "start_time": "2022-07-16T10:51:44.090Z"
   },
   {
    "duration": 0,
    "start_time": "2022-07-16T10:51:44.092Z"
   },
   {
    "duration": 0,
    "start_time": "2022-07-16T10:51:44.093Z"
   },
   {
    "duration": 0,
    "start_time": "2022-07-16T10:51:44.095Z"
   },
   {
    "duration": 0,
    "start_time": "2022-07-16T10:51:44.097Z"
   },
   {
    "duration": 0,
    "start_time": "2022-07-16T10:51:44.099Z"
   },
   {
    "duration": 0,
    "start_time": "2022-07-16T10:51:44.100Z"
   },
   {
    "duration": 0,
    "start_time": "2022-07-16T10:51:44.102Z"
   },
   {
    "duration": 0,
    "start_time": "2022-07-16T10:51:44.103Z"
   },
   {
    "duration": 0,
    "start_time": "2022-07-16T10:51:44.105Z"
   },
   {
    "duration": 0,
    "start_time": "2022-07-16T10:51:44.107Z"
   },
   {
    "duration": 0,
    "start_time": "2022-07-16T10:51:44.166Z"
   },
   {
    "duration": 0,
    "start_time": "2022-07-16T10:51:44.167Z"
   },
   {
    "duration": 0,
    "start_time": "2022-07-16T10:51:44.168Z"
   },
   {
    "duration": 0,
    "start_time": "2022-07-16T10:51:44.169Z"
   },
   {
    "duration": 0,
    "start_time": "2022-07-16T10:51:44.170Z"
   },
   {
    "duration": 0,
    "start_time": "2022-07-16T10:51:44.171Z"
   },
   {
    "duration": 0,
    "start_time": "2022-07-16T10:51:44.172Z"
   },
   {
    "duration": 0,
    "start_time": "2022-07-16T10:51:44.173Z"
   },
   {
    "duration": 0,
    "start_time": "2022-07-16T10:51:44.174Z"
   },
   {
    "duration": 0,
    "start_time": "2022-07-16T10:51:44.175Z"
   },
   {
    "duration": 0,
    "start_time": "2022-07-16T10:51:44.176Z"
   },
   {
    "duration": 0,
    "start_time": "2022-07-16T10:51:44.177Z"
   },
   {
    "duration": 0,
    "start_time": "2022-07-16T10:51:44.178Z"
   },
   {
    "duration": 0,
    "start_time": "2022-07-16T10:51:44.179Z"
   },
   {
    "duration": 0,
    "start_time": "2022-07-16T10:51:44.180Z"
   },
   {
    "duration": 0,
    "start_time": "2022-07-16T10:51:44.181Z"
   },
   {
    "duration": 0,
    "start_time": "2022-07-16T10:51:44.182Z"
   },
   {
    "duration": 0,
    "start_time": "2022-07-16T10:51:44.183Z"
   },
   {
    "duration": 0,
    "start_time": "2022-07-16T10:51:44.184Z"
   },
   {
    "duration": 0,
    "start_time": "2022-07-16T10:51:44.185Z"
   },
   {
    "duration": 0,
    "start_time": "2022-07-16T10:51:44.186Z"
   },
   {
    "duration": 0,
    "start_time": "2022-07-16T10:51:44.187Z"
   },
   {
    "duration": 0,
    "start_time": "2022-07-16T10:51:44.188Z"
   },
   {
    "duration": 0,
    "start_time": "2022-07-16T10:51:44.189Z"
   },
   {
    "duration": 0,
    "start_time": "2022-07-16T10:51:44.191Z"
   },
   {
    "duration": 0,
    "start_time": "2022-07-16T10:51:44.192Z"
   },
   {
    "duration": 0,
    "start_time": "2022-07-16T10:51:44.194Z"
   },
   {
    "duration": 0,
    "start_time": "2022-07-16T10:51:44.195Z"
   },
   {
    "duration": 0,
    "start_time": "2022-07-16T10:51:44.195Z"
   },
   {
    "duration": 0,
    "start_time": "2022-07-16T10:51:44.197Z"
   },
   {
    "duration": 0,
    "start_time": "2022-07-16T10:51:44.197Z"
   },
   {
    "duration": 0,
    "start_time": "2022-07-16T10:51:44.199Z"
   },
   {
    "duration": 0,
    "start_time": "2022-07-16T10:51:44.199Z"
   },
   {
    "duration": 0,
    "start_time": "2022-07-16T10:51:44.200Z"
   },
   {
    "duration": 0,
    "start_time": "2022-07-16T10:51:44.201Z"
   },
   {
    "duration": 0,
    "start_time": "2022-07-16T10:51:44.260Z"
   },
   {
    "duration": 0,
    "start_time": "2022-07-16T10:51:44.268Z"
   },
   {
    "duration": 0,
    "start_time": "2022-07-16T10:51:44.269Z"
   },
   {
    "duration": 1,
    "start_time": "2022-07-16T10:51:44.269Z"
   },
   {
    "duration": 0,
    "start_time": "2022-07-16T10:51:44.270Z"
   },
   {
    "duration": 0,
    "start_time": "2022-07-16T10:51:44.271Z"
   },
   {
    "duration": 0,
    "start_time": "2022-07-16T10:51:44.272Z"
   },
   {
    "duration": 0,
    "start_time": "2022-07-16T10:51:44.273Z"
   },
   {
    "duration": 0,
    "start_time": "2022-07-16T10:51:44.276Z"
   },
   {
    "duration": 1,
    "start_time": "2022-07-16T10:51:44.276Z"
   },
   {
    "duration": 1,
    "start_time": "2022-07-16T10:51:44.277Z"
   },
   {
    "duration": 0,
    "start_time": "2022-07-16T10:51:44.279Z"
   },
   {
    "duration": 0,
    "start_time": "2022-07-16T10:51:44.280Z"
   },
   {
    "duration": 0,
    "start_time": "2022-07-16T10:51:44.281Z"
   },
   {
    "duration": 3,
    "start_time": "2022-07-16T10:52:44.532Z"
   },
   {
    "duration": 8,
    "start_time": "2022-07-16T10:52:44.537Z"
   },
   {
    "duration": 289,
    "start_time": "2022-07-16T10:52:44.547Z"
   },
   {
    "duration": 5,
    "start_time": "2022-07-16T10:52:44.839Z"
   },
   {
    "duration": 83,
    "start_time": "2022-07-16T10:52:44.845Z"
   },
   {
    "duration": 6,
    "start_time": "2022-07-16T10:52:44.930Z"
   },
   {
    "duration": 38,
    "start_time": "2022-07-16T10:52:44.938Z"
   },
   {
    "duration": 16,
    "start_time": "2022-07-16T10:52:44.977Z"
   },
   {
    "duration": 14,
    "start_time": "2022-07-16T10:52:44.995Z"
   },
   {
    "duration": 20,
    "start_time": "2022-07-16T10:52:45.012Z"
   },
   {
    "duration": 23,
    "start_time": "2022-07-16T10:52:45.034Z"
   },
   {
    "duration": 29,
    "start_time": "2022-07-16T10:52:45.059Z"
   },
   {
    "duration": 5,
    "start_time": "2022-07-16T10:52:45.090Z"
   },
   {
    "duration": 10,
    "start_time": "2022-07-16T10:52:45.096Z"
   },
   {
    "duration": 7,
    "start_time": "2022-07-16T10:52:45.107Z"
   },
   {
    "duration": 14,
    "start_time": "2022-07-16T10:52:45.116Z"
   },
   {
    "duration": 4,
    "start_time": "2022-07-16T10:52:45.132Z"
   },
   {
    "duration": 26,
    "start_time": "2022-07-16T10:52:45.137Z"
   },
   {
    "duration": 12,
    "start_time": "2022-07-16T10:52:45.165Z"
   },
   {
    "duration": 32,
    "start_time": "2022-07-16T10:52:45.179Z"
   },
   {
    "duration": 176,
    "start_time": "2022-07-16T10:52:45.213Z"
   },
   {
    "duration": 14,
    "start_time": "2022-07-16T10:52:45.391Z"
   },
   {
    "duration": 26,
    "start_time": "2022-07-16T10:52:45.407Z"
   },
   {
    "duration": 33,
    "start_time": "2022-07-16T10:52:45.435Z"
   },
   {
    "duration": 46,
    "start_time": "2022-07-16T10:52:45.471Z"
   },
   {
    "duration": 37,
    "start_time": "2022-07-16T10:52:45.519Z"
   },
   {
    "duration": 45,
    "start_time": "2022-07-16T10:52:45.558Z"
   },
   {
    "duration": 29,
    "start_time": "2022-07-16T10:52:45.607Z"
   },
   {
    "duration": 176,
    "start_time": "2022-07-16T10:52:45.637Z"
   },
   {
    "duration": 13,
    "start_time": "2022-07-16T10:52:45.815Z"
   },
   {
    "duration": 54,
    "start_time": "2022-07-16T10:52:45.830Z"
   },
   {
    "duration": 56,
    "start_time": "2022-07-16T10:52:45.886Z"
   },
   {
    "duration": 5,
    "start_time": "2022-07-16T10:52:45.944Z"
   },
   {
    "duration": 36,
    "start_time": "2022-07-16T10:52:45.951Z"
   },
   {
    "duration": 24,
    "start_time": "2022-07-16T10:52:45.988Z"
   },
   {
    "duration": 31,
    "start_time": "2022-07-16T10:52:46.014Z"
   },
   {
    "duration": 56,
    "start_time": "2022-07-16T10:52:46.047Z"
   },
   {
    "duration": 38,
    "start_time": "2022-07-16T10:52:46.105Z"
   },
   {
    "duration": 27,
    "start_time": "2022-07-16T10:52:46.145Z"
   },
   {
    "duration": 13,
    "start_time": "2022-07-16T10:52:46.175Z"
   },
   {
    "duration": 93,
    "start_time": "2022-07-16T10:52:46.190Z"
   },
   {
    "duration": 8,
    "start_time": "2022-07-16T10:52:46.285Z"
   },
   {
    "duration": 44,
    "start_time": "2022-07-16T10:52:46.295Z"
   },
   {
    "duration": 64,
    "start_time": "2022-07-16T10:52:46.341Z"
   },
   {
    "duration": 34,
    "start_time": "2022-07-16T10:52:46.407Z"
   },
   {
    "duration": 45,
    "start_time": "2022-07-16T10:52:46.443Z"
   },
   {
    "duration": 16,
    "start_time": "2022-07-16T10:52:46.490Z"
   },
   {
    "duration": 71,
    "start_time": "2022-07-16T10:52:46.508Z"
   },
   {
    "duration": 11,
    "start_time": "2022-07-16T10:52:46.580Z"
   },
   {
    "duration": 30,
    "start_time": "2022-07-16T10:52:46.593Z"
   },
   {
    "duration": 53,
    "start_time": "2022-07-16T10:52:46.625Z"
   },
   {
    "duration": 19,
    "start_time": "2022-07-16T10:52:46.680Z"
   },
   {
    "duration": 24,
    "start_time": "2022-07-16T10:52:46.700Z"
   },
   {
    "duration": 27,
    "start_time": "2022-07-16T10:52:46.726Z"
   },
   {
    "duration": 27,
    "start_time": "2022-07-16T10:52:46.755Z"
   },
   {
    "duration": 30,
    "start_time": "2022-07-16T10:52:46.784Z"
   },
   {
    "duration": 34,
    "start_time": "2022-07-16T10:52:46.815Z"
   },
   {
    "duration": 24,
    "start_time": "2022-07-16T10:52:46.850Z"
   },
   {
    "duration": 82,
    "start_time": "2022-07-16T10:52:46.877Z"
   },
   {
    "duration": 26,
    "start_time": "2022-07-16T10:52:46.960Z"
   },
   {
    "duration": 36,
    "start_time": "2022-07-16T10:52:46.988Z"
   },
   {
    "duration": 486,
    "start_time": "2022-07-16T10:52:47.026Z"
   },
   {
    "duration": 215,
    "start_time": "2022-07-16T10:52:47.514Z"
   },
   {
    "duration": 13,
    "start_time": "2022-07-16T10:52:47.730Z"
   },
   {
    "duration": 35,
    "start_time": "2022-07-16T10:52:47.745Z"
   },
   {
    "duration": 18,
    "start_time": "2022-07-16T10:52:47.782Z"
   },
   {
    "duration": 6,
    "start_time": "2022-07-16T10:52:47.802Z"
   },
   {
    "duration": 11,
    "start_time": "2022-07-16T10:52:47.809Z"
   },
   {
    "duration": 15,
    "start_time": "2022-07-16T10:52:47.821Z"
   },
   {
    "duration": 8,
    "start_time": "2022-07-16T10:52:47.838Z"
   },
   {
    "duration": 44,
    "start_time": "2022-07-16T10:52:47.848Z"
   },
   {
    "duration": 5,
    "start_time": "2022-07-16T10:52:47.894Z"
   },
   {
    "duration": 708,
    "start_time": "2022-07-16T10:52:47.901Z"
   },
   {
    "duration": 10,
    "start_time": "2022-07-16T10:52:48.610Z"
   },
   {
    "duration": 10,
    "start_time": "2022-07-16T10:52:48.622Z"
   },
   {
    "duration": 5,
    "start_time": "2022-07-16T10:52:48.633Z"
   },
   {
    "duration": 148,
    "start_time": "2022-07-16T10:52:48.639Z"
   },
   {
    "duration": 6,
    "start_time": "2022-07-16T10:52:48.789Z"
   },
   {
    "duration": 253,
    "start_time": "2022-07-16T10:52:48.797Z"
   },
   {
    "duration": 752,
    "start_time": "2022-07-16T10:52:49.051Z"
   },
   {
    "duration": 129,
    "start_time": "2022-07-16T10:52:49.805Z"
   },
   {
    "duration": 9823,
    "start_time": "2022-07-16T10:52:49.939Z"
   },
   {
    "duration": 363,
    "start_time": "2022-07-16T10:52:59.766Z"
   },
   {
    "duration": 3269,
    "start_time": "2022-07-16T10:53:00.130Z"
   },
   {
    "duration": 273,
    "start_time": "2022-07-16T10:53:03.401Z"
   },
   {
    "duration": 3,
    "start_time": "2022-07-16T10:53:03.676Z"
   },
   {
    "duration": 12,
    "start_time": "2022-07-16T10:53:03.681Z"
   },
   {
    "duration": 324993,
    "start_time": "2022-07-16T10:53:03.695Z"
   },
   {
    "duration": 4,
    "start_time": "2022-07-16T11:13:50.476Z"
   },
   {
    "duration": 649,
    "start_time": "2022-07-16T11:14:01.881Z"
   },
   {
    "duration": 111546,
    "start_time": "2022-07-16T11:17:56.708Z"
   },
   {
    "duration": 48,
    "start_time": "2022-07-16T11:22:43.148Z"
   },
   {
    "duration": 106280,
    "start_time": "2022-07-16T11:23:22.388Z"
   },
   {
    "duration": 3,
    "start_time": "2022-07-16T11:26:57.410Z"
   },
   {
    "duration": 5003,
    "start_time": "2022-07-16T11:27:35.309Z"
   },
   {
    "duration": 6544,
    "start_time": "2022-07-16T11:28:06.452Z"
   },
   {
    "duration": 9,
    "start_time": "2022-07-16T11:59:06.438Z"
   },
   {
    "duration": 56,
    "start_time": "2022-07-16T12:13:34.612Z"
   },
   {
    "duration": 4,
    "start_time": "2022-07-17T10:14:01.893Z"
   },
   {
    "duration": 1902,
    "start_time": "2022-07-17T10:14:01.898Z"
   },
   {
    "duration": 0,
    "start_time": "2022-07-17T10:14:03.803Z"
   },
   {
    "duration": 0,
    "start_time": "2022-07-17T10:14:03.804Z"
   },
   {
    "duration": 0,
    "start_time": "2022-07-17T10:14:03.805Z"
   },
   {
    "duration": 0,
    "start_time": "2022-07-17T10:14:03.807Z"
   },
   {
    "duration": 0,
    "start_time": "2022-07-17T10:14:03.808Z"
   },
   {
    "duration": 0,
    "start_time": "2022-07-17T10:14:03.809Z"
   },
   {
    "duration": 0,
    "start_time": "2022-07-17T10:14:03.811Z"
   },
   {
    "duration": 0,
    "start_time": "2022-07-17T10:14:03.812Z"
   },
   {
    "duration": 0,
    "start_time": "2022-07-17T10:14:03.813Z"
   },
   {
    "duration": 0,
    "start_time": "2022-07-17T10:14:03.814Z"
   },
   {
    "duration": 0,
    "start_time": "2022-07-17T10:14:03.815Z"
   },
   {
    "duration": 0,
    "start_time": "2022-07-17T10:14:03.817Z"
   },
   {
    "duration": 0,
    "start_time": "2022-07-17T10:14:03.818Z"
   },
   {
    "duration": 0,
    "start_time": "2022-07-17T10:14:03.819Z"
   },
   {
    "duration": 0,
    "start_time": "2022-07-17T10:14:03.820Z"
   },
   {
    "duration": 0,
    "start_time": "2022-07-17T10:14:03.821Z"
   },
   {
    "duration": 0,
    "start_time": "2022-07-17T10:14:03.852Z"
   },
   {
    "duration": 0,
    "start_time": "2022-07-17T10:14:03.854Z"
   },
   {
    "duration": 0,
    "start_time": "2022-07-17T10:14:03.855Z"
   },
   {
    "duration": 0,
    "start_time": "2022-07-17T10:14:03.856Z"
   },
   {
    "duration": 0,
    "start_time": "2022-07-17T10:14:03.858Z"
   },
   {
    "duration": 0,
    "start_time": "2022-07-17T10:14:03.859Z"
   },
   {
    "duration": 0,
    "start_time": "2022-07-17T10:14:03.860Z"
   },
   {
    "duration": 0,
    "start_time": "2022-07-17T10:14:03.862Z"
   },
   {
    "duration": 0,
    "start_time": "2022-07-17T10:14:03.863Z"
   },
   {
    "duration": 0,
    "start_time": "2022-07-17T10:14:03.865Z"
   },
   {
    "duration": 0,
    "start_time": "2022-07-17T10:14:03.866Z"
   },
   {
    "duration": 0,
    "start_time": "2022-07-17T10:14:03.867Z"
   },
   {
    "duration": 0,
    "start_time": "2022-07-17T10:14:03.868Z"
   },
   {
    "duration": 0,
    "start_time": "2022-07-17T10:14:03.869Z"
   },
   {
    "duration": 0,
    "start_time": "2022-07-17T10:14:03.870Z"
   },
   {
    "duration": 0,
    "start_time": "2022-07-17T10:14:03.871Z"
   },
   {
    "duration": 0,
    "start_time": "2022-07-17T10:14:03.872Z"
   },
   {
    "duration": 0,
    "start_time": "2022-07-17T10:14:03.873Z"
   },
   {
    "duration": 0,
    "start_time": "2022-07-17T10:14:03.874Z"
   },
   {
    "duration": 0,
    "start_time": "2022-07-17T10:14:03.875Z"
   },
   {
    "duration": 0,
    "start_time": "2022-07-17T10:14:03.877Z"
   },
   {
    "duration": 1,
    "start_time": "2022-07-17T10:14:03.877Z"
   },
   {
    "duration": 0,
    "start_time": "2022-07-17T10:14:03.878Z"
   },
   {
    "duration": 0,
    "start_time": "2022-07-17T10:14:03.880Z"
   },
   {
    "duration": 0,
    "start_time": "2022-07-17T10:14:03.881Z"
   },
   {
    "duration": 0,
    "start_time": "2022-07-17T10:14:03.882Z"
   },
   {
    "duration": 0,
    "start_time": "2022-07-17T10:14:03.883Z"
   },
   {
    "duration": 0,
    "start_time": "2022-07-17T10:14:03.884Z"
   },
   {
    "duration": 0,
    "start_time": "2022-07-17T10:14:03.885Z"
   },
   {
    "duration": 0,
    "start_time": "2022-07-17T10:14:03.886Z"
   },
   {
    "duration": 0,
    "start_time": "2022-07-17T10:14:03.887Z"
   },
   {
    "duration": 0,
    "start_time": "2022-07-17T10:14:03.887Z"
   },
   {
    "duration": 0,
    "start_time": "2022-07-17T10:14:03.888Z"
   },
   {
    "duration": 0,
    "start_time": "2022-07-17T10:14:03.889Z"
   },
   {
    "duration": 0,
    "start_time": "2022-07-17T10:14:03.891Z"
   },
   {
    "duration": 0,
    "start_time": "2022-07-17T10:14:03.953Z"
   },
   {
    "duration": 0,
    "start_time": "2022-07-17T10:14:03.954Z"
   },
   {
    "duration": 0,
    "start_time": "2022-07-17T10:14:03.955Z"
   },
   {
    "duration": 0,
    "start_time": "2022-07-17T10:14:03.956Z"
   },
   {
    "duration": 0,
    "start_time": "2022-07-17T10:14:03.957Z"
   },
   {
    "duration": 0,
    "start_time": "2022-07-17T10:14:03.958Z"
   },
   {
    "duration": 0,
    "start_time": "2022-07-17T10:14:03.959Z"
   },
   {
    "duration": 0,
    "start_time": "2022-07-17T10:14:03.960Z"
   },
   {
    "duration": 0,
    "start_time": "2022-07-17T10:14:03.961Z"
   },
   {
    "duration": 0,
    "start_time": "2022-07-17T10:14:03.962Z"
   },
   {
    "duration": 10,
    "start_time": "2022-07-17T10:15:07.367Z"
   },
   {
    "duration": 2,
    "start_time": "2022-07-17T10:15:12.851Z"
   },
   {
    "duration": 34,
    "start_time": "2022-07-17T10:15:12.855Z"
   },
   {
    "duration": 0,
    "start_time": "2022-07-17T10:15:12.891Z"
   },
   {
    "duration": 0,
    "start_time": "2022-07-17T10:15:12.893Z"
   },
   {
    "duration": 0,
    "start_time": "2022-07-17T10:15:12.894Z"
   },
   {
    "duration": 0,
    "start_time": "2022-07-17T10:15:12.895Z"
   },
   {
    "duration": 0,
    "start_time": "2022-07-17T10:15:12.896Z"
   },
   {
    "duration": 0,
    "start_time": "2022-07-17T10:15:12.897Z"
   },
   {
    "duration": 0,
    "start_time": "2022-07-17T10:15:12.898Z"
   },
   {
    "duration": 0,
    "start_time": "2022-07-17T10:15:12.899Z"
   },
   {
    "duration": 0,
    "start_time": "2022-07-17T10:15:12.900Z"
   },
   {
    "duration": 0,
    "start_time": "2022-07-17T10:15:12.901Z"
   },
   {
    "duration": 0,
    "start_time": "2022-07-17T10:15:12.902Z"
   },
   {
    "duration": 0,
    "start_time": "2022-07-17T10:15:12.903Z"
   },
   {
    "duration": 0,
    "start_time": "2022-07-17T10:15:12.905Z"
   },
   {
    "duration": 0,
    "start_time": "2022-07-17T10:15:12.906Z"
   },
   {
    "duration": 0,
    "start_time": "2022-07-17T10:15:12.907Z"
   },
   {
    "duration": 0,
    "start_time": "2022-07-17T10:15:12.908Z"
   },
   {
    "duration": 0,
    "start_time": "2022-07-17T10:15:12.909Z"
   },
   {
    "duration": 0,
    "start_time": "2022-07-17T10:15:12.910Z"
   },
   {
    "duration": 0,
    "start_time": "2022-07-17T10:15:12.911Z"
   },
   {
    "duration": 0,
    "start_time": "2022-07-17T10:15:12.912Z"
   },
   {
    "duration": 0,
    "start_time": "2022-07-17T10:15:12.914Z"
   },
   {
    "duration": 0,
    "start_time": "2022-07-17T10:15:12.953Z"
   },
   {
    "duration": 0,
    "start_time": "2022-07-17T10:15:12.954Z"
   },
   {
    "duration": 0,
    "start_time": "2022-07-17T10:15:12.955Z"
   },
   {
    "duration": 0,
    "start_time": "2022-07-17T10:15:12.957Z"
   },
   {
    "duration": 0,
    "start_time": "2022-07-17T10:15:12.959Z"
   },
   {
    "duration": 16,
    "start_time": "2022-07-17T10:15:12.972Z"
   },
   {
    "duration": 0,
    "start_time": "2022-07-17T10:15:12.989Z"
   },
   {
    "duration": 0,
    "start_time": "2022-07-17T10:15:12.990Z"
   },
   {
    "duration": 0,
    "start_time": "2022-07-17T10:15:12.992Z"
   },
   {
    "duration": 1,
    "start_time": "2022-07-17T10:15:12.992Z"
   },
   {
    "duration": 0,
    "start_time": "2022-07-17T10:15:12.994Z"
   },
   {
    "duration": 0,
    "start_time": "2022-07-17T10:15:12.995Z"
   },
   {
    "duration": 0,
    "start_time": "2022-07-17T10:15:12.996Z"
   },
   {
    "duration": 0,
    "start_time": "2022-07-17T10:15:12.997Z"
   },
   {
    "duration": 0,
    "start_time": "2022-07-17T10:15:13.053Z"
   },
   {
    "duration": 0,
    "start_time": "2022-07-17T10:15:13.054Z"
   },
   {
    "duration": 0,
    "start_time": "2022-07-17T10:15:13.055Z"
   },
   {
    "duration": 0,
    "start_time": "2022-07-17T10:15:13.056Z"
   },
   {
    "duration": 0,
    "start_time": "2022-07-17T10:15:13.057Z"
   },
   {
    "duration": 0,
    "start_time": "2022-07-17T10:15:13.058Z"
   },
   {
    "duration": 0,
    "start_time": "2022-07-17T10:15:13.059Z"
   },
   {
    "duration": 0,
    "start_time": "2022-07-17T10:15:13.060Z"
   },
   {
    "duration": 0,
    "start_time": "2022-07-17T10:15:13.061Z"
   },
   {
    "duration": 0,
    "start_time": "2022-07-17T10:15:13.062Z"
   },
   {
    "duration": 0,
    "start_time": "2022-07-17T10:15:13.063Z"
   },
   {
    "duration": 0,
    "start_time": "2022-07-17T10:15:13.064Z"
   },
   {
    "duration": 0,
    "start_time": "2022-07-17T10:15:13.066Z"
   },
   {
    "duration": 0,
    "start_time": "2022-07-17T10:15:13.067Z"
   },
   {
    "duration": 0,
    "start_time": "2022-07-17T10:15:13.068Z"
   },
   {
    "duration": 0,
    "start_time": "2022-07-17T10:15:13.068Z"
   },
   {
    "duration": 0,
    "start_time": "2022-07-17T10:15:13.069Z"
   },
   {
    "duration": 0,
    "start_time": "2022-07-17T10:15:13.070Z"
   },
   {
    "duration": 0,
    "start_time": "2022-07-17T10:15:13.072Z"
   },
   {
    "duration": 0,
    "start_time": "2022-07-17T10:15:13.072Z"
   },
   {
    "duration": 0,
    "start_time": "2022-07-17T10:15:13.073Z"
   },
   {
    "duration": 0,
    "start_time": "2022-07-17T10:15:13.074Z"
   },
   {
    "duration": 0,
    "start_time": "2022-07-17T10:15:13.075Z"
   },
   {
    "duration": 0,
    "start_time": "2022-07-17T10:15:13.076Z"
   },
   {
    "duration": 0,
    "start_time": "2022-07-17T10:15:13.077Z"
   },
   {
    "duration": 0,
    "start_time": "2022-07-17T10:15:13.078Z"
   },
   {
    "duration": 2,
    "start_time": "2022-07-17T10:15:22.274Z"
   },
   {
    "duration": 13,
    "start_time": "2022-07-17T10:15:22.468Z"
   },
   {
    "duration": 454,
    "start_time": "2022-07-17T10:15:22.682Z"
   },
   {
    "duration": 3,
    "start_time": "2022-07-17T10:15:42.247Z"
   },
   {
    "duration": 38,
    "start_time": "2022-07-17T10:15:42.251Z"
   },
   {
    "duration": 0,
    "start_time": "2022-07-17T10:15:42.291Z"
   },
   {
    "duration": 0,
    "start_time": "2022-07-17T10:15:42.292Z"
   },
   {
    "duration": 0,
    "start_time": "2022-07-17T10:15:42.293Z"
   },
   {
    "duration": 0,
    "start_time": "2022-07-17T10:15:42.294Z"
   },
   {
    "duration": 0,
    "start_time": "2022-07-17T10:15:42.295Z"
   },
   {
    "duration": 0,
    "start_time": "2022-07-17T10:15:42.296Z"
   },
   {
    "duration": 0,
    "start_time": "2022-07-17T10:15:42.297Z"
   },
   {
    "duration": 3,
    "start_time": "2022-07-17T10:16:03.693Z"
   },
   {
    "duration": 32,
    "start_time": "2022-07-17T10:16:03.699Z"
   },
   {
    "duration": 0,
    "start_time": "2022-07-17T10:16:03.733Z"
   },
   {
    "duration": 0,
    "start_time": "2022-07-17T10:16:03.737Z"
   },
   {
    "duration": 0,
    "start_time": "2022-07-17T10:16:03.738Z"
   },
   {
    "duration": 0,
    "start_time": "2022-07-17T10:16:03.739Z"
   },
   {
    "duration": 0,
    "start_time": "2022-07-17T10:16:03.741Z"
   },
   {
    "duration": 0,
    "start_time": "2022-07-17T10:16:03.742Z"
   },
   {
    "duration": 0,
    "start_time": "2022-07-17T10:16:03.744Z"
   },
   {
    "duration": 1,
    "start_time": "2022-07-17T10:16:03.744Z"
   },
   {
    "duration": 0,
    "start_time": "2022-07-17T10:16:03.746Z"
   },
   {
    "duration": 0,
    "start_time": "2022-07-17T10:16:03.747Z"
   },
   {
    "duration": 0,
    "start_time": "2022-07-17T10:16:03.748Z"
   },
   {
    "duration": 0,
    "start_time": "2022-07-17T10:16:03.749Z"
   },
   {
    "duration": 0,
    "start_time": "2022-07-17T10:16:03.750Z"
   },
   {
    "duration": 0,
    "start_time": "2022-07-17T10:16:03.751Z"
   },
   {
    "duration": 0,
    "start_time": "2022-07-17T10:16:03.753Z"
   },
   {
    "duration": 0,
    "start_time": "2022-07-17T10:16:03.754Z"
   },
   {
    "duration": 0,
    "start_time": "2022-07-17T10:16:03.755Z"
   },
   {
    "duration": 0,
    "start_time": "2022-07-17T10:16:03.757Z"
   },
   {
    "duration": 0,
    "start_time": "2022-07-17T10:16:03.757Z"
   },
   {
    "duration": 0,
    "start_time": "2022-07-17T10:16:03.759Z"
   },
   {
    "duration": 0,
    "start_time": "2022-07-17T10:16:03.760Z"
   },
   {
    "duration": 0,
    "start_time": "2022-07-17T10:16:03.762Z"
   },
   {
    "duration": 1520,
    "start_time": "2022-07-17T10:16:03.764Z"
   },
   {
    "duration": 0,
    "start_time": "2022-07-17T10:16:05.288Z"
   },
   {
    "duration": 0,
    "start_time": "2022-07-17T10:16:05.289Z"
   },
   {
    "duration": 0,
    "start_time": "2022-07-17T10:16:05.290Z"
   },
   {
    "duration": 0,
    "start_time": "2022-07-17T10:16:05.292Z"
   },
   {
    "duration": 0,
    "start_time": "2022-07-17T10:16:05.293Z"
   },
   {
    "duration": 0,
    "start_time": "2022-07-17T10:16:05.295Z"
   },
   {
    "duration": 0,
    "start_time": "2022-07-17T10:16:05.296Z"
   },
   {
    "duration": 0,
    "start_time": "2022-07-17T10:16:05.297Z"
   },
   {
    "duration": 0,
    "start_time": "2022-07-17T10:16:05.299Z"
   },
   {
    "duration": 0,
    "start_time": "2022-07-17T10:16:05.301Z"
   },
   {
    "duration": 0,
    "start_time": "2022-07-17T10:16:05.302Z"
   },
   {
    "duration": 0,
    "start_time": "2022-07-17T10:16:05.303Z"
   },
   {
    "duration": 0,
    "start_time": "2022-07-17T10:16:05.304Z"
   },
   {
    "duration": 0,
    "start_time": "2022-07-17T10:16:05.306Z"
   },
   {
    "duration": 0,
    "start_time": "2022-07-17T10:16:05.307Z"
   },
   {
    "duration": 0,
    "start_time": "2022-07-17T10:16:05.308Z"
   },
   {
    "duration": 0,
    "start_time": "2022-07-17T10:16:05.310Z"
   },
   {
    "duration": 0,
    "start_time": "2022-07-17T10:16:05.311Z"
   },
   {
    "duration": 0,
    "start_time": "2022-07-17T10:16:05.312Z"
   },
   {
    "duration": 0,
    "start_time": "2022-07-17T10:16:05.313Z"
   },
   {
    "duration": 0,
    "start_time": "2022-07-17T10:16:05.314Z"
   },
   {
    "duration": 0,
    "start_time": "2022-07-17T10:16:05.316Z"
   },
   {
    "duration": 0,
    "start_time": "2022-07-17T10:16:05.317Z"
   },
   {
    "duration": 0,
    "start_time": "2022-07-17T10:16:05.319Z"
   },
   {
    "duration": 0,
    "start_time": "2022-07-17T10:16:05.320Z"
   },
   {
    "duration": 0,
    "start_time": "2022-07-17T10:16:05.321Z"
   },
   {
    "duration": 0,
    "start_time": "2022-07-17T10:16:05.323Z"
   },
   {
    "duration": 0,
    "start_time": "2022-07-17T10:16:05.324Z"
   },
   {
    "duration": 0,
    "start_time": "2022-07-17T10:16:05.326Z"
   },
   {
    "duration": 0,
    "start_time": "2022-07-17T10:16:05.328Z"
   },
   {
    "duration": 0,
    "start_time": "2022-07-17T10:16:05.353Z"
   },
   {
    "duration": 0,
    "start_time": "2022-07-17T10:16:05.354Z"
   },
   {
    "duration": 0,
    "start_time": "2022-07-17T10:16:05.355Z"
   },
   {
    "duration": 0,
    "start_time": "2022-07-17T10:16:05.356Z"
   },
   {
    "duration": 1,
    "start_time": "2022-07-17T10:16:05.356Z"
   },
   {
    "duration": 0,
    "start_time": "2022-07-17T10:16:05.358Z"
   },
   {
    "duration": 0,
    "start_time": "2022-07-17T10:16:05.359Z"
   },
   {
    "duration": 0,
    "start_time": "2022-07-17T10:16:05.360Z"
   },
   {
    "duration": 10,
    "start_time": "2022-07-17T10:16:05.826Z"
   },
   {
    "duration": 17,
    "start_time": "2022-07-17T10:16:51.349Z"
   },
   {
    "duration": 2,
    "start_time": "2022-07-17T10:17:18.943Z"
   },
   {
    "duration": 33,
    "start_time": "2022-07-17T10:17:18.947Z"
   },
   {
    "duration": 0,
    "start_time": "2022-07-17T10:17:18.982Z"
   },
   {
    "duration": 0,
    "start_time": "2022-07-17T10:17:18.984Z"
   },
   {
    "duration": 0,
    "start_time": "2022-07-17T10:17:18.985Z"
   },
   {
    "duration": 0,
    "start_time": "2022-07-17T10:17:18.986Z"
   },
   {
    "duration": 0,
    "start_time": "2022-07-17T10:17:18.987Z"
   },
   {
    "duration": 0,
    "start_time": "2022-07-17T10:17:18.988Z"
   },
   {
    "duration": 0,
    "start_time": "2022-07-17T10:17:18.989Z"
   },
   {
    "duration": 4,
    "start_time": "2022-07-17T10:17:21.661Z"
   },
   {
    "duration": 17,
    "start_time": "2022-07-17T10:17:22.169Z"
   },
   {
    "duration": 15,
    "start_time": "2022-07-17T10:17:25.260Z"
   },
   {
    "duration": 7,
    "start_time": "2022-07-17T10:17:26.127Z"
   },
   {
    "duration": 9,
    "start_time": "2022-07-17T10:17:27.137Z"
   },
   {
    "duration": 7,
    "start_time": "2022-07-17T10:17:29.386Z"
   },
   {
    "duration": 15,
    "start_time": "2022-07-17T10:17:31.341Z"
   },
   {
    "duration": 4,
    "start_time": "2022-07-17T10:17:32.975Z"
   },
   {
    "duration": 181,
    "start_time": "2022-07-17T10:17:33.490Z"
   },
   {
    "duration": 9,
    "start_time": "2022-07-17T10:17:35.792Z"
   },
   {
    "duration": 32,
    "start_time": "2022-07-17T10:17:36.026Z"
   },
   {
    "duration": 256,
    "start_time": "2022-07-17T10:17:36.257Z"
   },
   {
    "duration": 19,
    "start_time": "2022-07-17T10:17:37.251Z"
   },
   {
    "duration": 17,
    "start_time": "2022-07-17T10:17:38.192Z"
   },
   {
    "duration": 10,
    "start_time": "2022-07-17T10:17:38.409Z"
   },
   {
    "duration": 19,
    "start_time": "2022-07-17T10:17:38.869Z"
   },
   {
    "duration": 21,
    "start_time": "2022-07-17T10:17:40.881Z"
   },
   {
    "duration": 10,
    "start_time": "2022-07-17T10:17:45.889Z"
   },
   {
    "duration": 29,
    "start_time": "2022-07-17T10:17:46.767Z"
   },
   {
    "duration": 180,
    "start_time": "2022-07-17T10:17:48.069Z"
   },
   {
    "duration": 22,
    "start_time": "2022-07-17T10:17:49.873Z"
   },
   {
    "duration": 15,
    "start_time": "2022-07-17T10:17:50.522Z"
   },
   {
    "duration": 10,
    "start_time": "2022-07-17T10:17:51.689Z"
   },
   {
    "duration": 5,
    "start_time": "2022-07-17T10:18:08.483Z"
   },
   {
    "duration": 20,
    "start_time": "2022-07-17T10:18:11.962Z"
   },
   {
    "duration": 2038,
    "start_time": "2022-07-17T10:18:26.787Z"
   },
   {
    "duration": 36,
    "start_time": "2022-07-17T10:18:28.827Z"
   },
   {
    "duration": 1934,
    "start_time": "2022-07-17T10:19:20.595Z"
   },
   {
    "duration": 26,
    "start_time": "2022-07-17T10:19:22.531Z"
   }
  ],
  "kernelspec": {
   "display_name": "Python 3 (ipykernel)",
   "language": "python",
   "name": "python3"
  },
  "language_info": {
   "codemirror_mode": {
    "name": "ipython",
    "version": 3
   },
   "file_extension": ".py",
   "mimetype": "text/x-python",
   "name": "python",
   "nbconvert_exporter": "python",
   "pygments_lexer": "ipython3",
   "version": "3.9.7"
  },
  "toc": {
   "base_numbering": 1,
   "nav_menu": {},
   "number_sections": true,
   "sideBar": true,
   "skip_h1_title": true,
   "title_cell": "Table of Contents",
   "title_sidebar": "Contents",
   "toc_cell": false,
   "toc_position": {},
   "toc_section_display": true,
   "toc_window_display": false
  }
 },
 "nbformat": 4,
 "nbformat_minor": 5
}
